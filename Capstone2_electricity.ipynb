{
 "cells": [
  {
   "cell_type": "markdown",
   "metadata": {},
   "source": [
    "# CAPSTONE - Electricity\n",
    "    "
   ]
  },
  {
   "cell_type": "code",
   "execution_count": 1,
   "metadata": {},
   "outputs": [],
   "source": [
    "\n",
    "#let's import below packages:\n",
    "\n",
    "import numpy as np\n",
    "import pandas as pd\n",
    "import matplotlib.pyplot as plt\n",
    "import seaborn as sns\n",
    "import os \n",
    "from datetime import datetime"
   ]
  },
  {
   "cell_type": "code",
   "execution_count": 2,
   "metadata": {},
   "outputs": [
    {
     "data": {
      "text/plain": [
       "'/Users/markoglodovic'"
      ]
     },
     "execution_count": 2,
     "metadata": {},
     "output_type": "execute_result"
    }
   ],
   "source": [
    "# First let's find current Directory:\n",
    "os.getcwd()"
   ]
  },
  {
   "cell_type": "code",
   "execution_count": 3,
   "metadata": {},
   "outputs": [],
   "source": [
    "# Changing the directory:\n",
    "os.chdir(r'/Users/markoglodovic/Documents/Springboard_projects/Electricity')"
   ]
  },
  {
   "cell_type": "code",
   "execution_count": 4,
   "metadata": {},
   "outputs": [
    {
     "data": {
      "text/plain": [
       "'/Users/markoglodovic/Documents/Springboard_projects/Electricity'"
      ]
     },
     "execution_count": 4,
     "metadata": {},
     "output_type": "execute_result"
    }
   ],
   "source": [
    "os.getcwd()"
   ]
  },
  {
   "cell_type": "markdown",
   "metadata": {},
   "source": [
    "## The Data wrangling step focuses on collecting our data, organizing it, and making sure it's well defined. For our project we have collected below dataset to have a good foundation to build a Machine Learning model where we can provide a good estimate of future tendecies regarding electricity needs in USA and CANADA."
   ]
  },
  {
   "cell_type": "code",
   "execution_count": 5,
   "metadata": {},
   "outputs": [],
   "source": [
    "df = pd.read_csv('/Users/markoglodovic/Downloads/electricity-exports-and-imports-monthly.csv',    encoding='latin-1')"
   ]
  },
  {
   "cell_type": "markdown",
   "metadata": {},
   "source": [
    "We will need to Clean NANs, duplicate values, wrong values and removing insignificant columns.\n"
   ]
  },
  {
   "cell_type": "code",
   "execution_count": 6,
   "metadata": {},
   "outputs": [
    {
     "data": {
      "text/html": [
       "<div>\n",
       "<style scoped>\n",
       "    .dataframe tbody tr th:only-of-type {\n",
       "        vertical-align: middle;\n",
       "    }\n",
       "\n",
       "    .dataframe tbody tr th {\n",
       "        vertical-align: top;\n",
       "    }\n",
       "\n",
       "    .dataframe thead th {\n",
       "        text-align: right;\n",
       "    }\n",
       "</style>\n",
       "<table border=\"1\" class=\"dataframe\">\n",
       "  <thead>\n",
       "    <tr style=\"text-align: right;\">\n",
       "      <th></th>\n",
       "      <th>Period</th>\n",
       "      <th>Activity</th>\n",
       "      <th>Source</th>\n",
       "      <th>Destination</th>\n",
       "      <th>Energy (MW.h)</th>\n",
       "      <th>Total Value (CAN$)</th>\n",
       "      <th>Price (CAN$/MW.h)</th>\n",
       "    </tr>\n",
       "  </thead>\n",
       "  <tbody>\n",
       "    <tr>\n",
       "      <th>0</th>\n",
       "      <td>01/01/1990</td>\n",
       "      <td>Exports</td>\n",
       "      <td>British Columbia</td>\n",
       "      <td>Alaska</td>\n",
       "      <td>75.196</td>\n",
       "      <td>4536.00</td>\n",
       "      <td>60.32</td>\n",
       "    </tr>\n",
       "    <tr>\n",
       "      <th>1</th>\n",
       "      <td>01/01/1990</td>\n",
       "      <td>Exports</td>\n",
       "      <td>British Columbia</td>\n",
       "      <td>California</td>\n",
       "      <td>345904.000</td>\n",
       "      <td>11144596.03</td>\n",
       "      <td>32.22</td>\n",
       "    </tr>\n",
       "    <tr>\n",
       "      <th>2</th>\n",
       "      <td>01/01/1990</td>\n",
       "      <td>Exports</td>\n",
       "      <td>British Columbia</td>\n",
       "      <td>Oregon</td>\n",
       "      <td>148800.000</td>\n",
       "      <td>4770498.00</td>\n",
       "      <td>32.06</td>\n",
       "    </tr>\n",
       "    <tr>\n",
       "      <th>3</th>\n",
       "      <td>01/01/1990</td>\n",
       "      <td>Exports</td>\n",
       "      <td>British Columbia</td>\n",
       "      <td>Total</td>\n",
       "      <td>496761.596</td>\n",
       "      <td>16000590.03</td>\n",
       "      <td>32.21</td>\n",
       "    </tr>\n",
       "    <tr>\n",
       "      <th>4</th>\n",
       "      <td>01/01/1990</td>\n",
       "      <td>Exports</td>\n",
       "      <td>British Columbia</td>\n",
       "      <td>Washington</td>\n",
       "      <td>1982.400</td>\n",
       "      <td>80960.00</td>\n",
       "      <td>40.84</td>\n",
       "    </tr>\n",
       "  </tbody>\n",
       "</table>\n",
       "</div>"
      ],
      "text/plain": [
       "       Period Activity            Source Destination  Energy (MW.h)  \\\n",
       "0  01/01/1990  Exports  British Columbia      Alaska         75.196   \n",
       "1  01/01/1990  Exports  British Columbia  California     345904.000   \n",
       "2  01/01/1990  Exports  British Columbia      Oregon     148800.000   \n",
       "3  01/01/1990  Exports  British Columbia       Total     496761.596   \n",
       "4  01/01/1990  Exports  British Columbia  Washington       1982.400   \n",
       "\n",
       "   Total Value (CAN$) Price (CAN$/MW.h)  \n",
       "0             4536.00             60.32  \n",
       "1         11144596.03             32.22  \n",
       "2          4770498.00             32.06  \n",
       "3         16000590.03             32.21  \n",
       "4            80960.00             40.84  "
      ]
     },
     "execution_count": 6,
     "metadata": {},
     "output_type": "execute_result"
    }
   ],
   "source": [
    "# lets check the Dataframe we got\n",
    "df.head()"
   ]
  },
  {
   "cell_type": "code",
   "execution_count": 7,
   "metadata": {},
   "outputs": [
    {
     "data": {
      "text/plain": [
       "Period                 object\n",
       "Activity               object\n",
       "Source                 object\n",
       "Destination            object\n",
       "Energy (MW.h)         float64\n",
       "Total Value (CAN$)    float64\n",
       "Price (CAN$/MW.h)      object\n",
       "dtype: object"
      ]
     },
     "execution_count": 7,
     "metadata": {},
     "output_type": "execute_result"
    }
   ],
   "source": [
    "# let's check the data types in the df:\n",
    "df.dtypes"
   ]
  },
  {
   "cell_type": "markdown",
   "metadata": {},
   "source": [
    "#### So the data types need to be changed "
   ]
  },
  {
   "cell_type": "code",
   "execution_count": 8,
   "metadata": {},
   "outputs": [],
   "source": [
    "# let's change 'Perid' data type from 'object' to 'datetime':\n",
    "df['Period']=pd.to_datetime(df['Period'])"
   ]
  },
  {
   "cell_type": "code",
   "execution_count": 9,
   "metadata": {},
   "outputs": [],
   "source": [
    "# second we need to change 'Price' data type from 'object' to 'float64'\n",
    "df['Price (CAN$/MW.h)'] = df['Price (CAN$/MW.h)'].apply(pd.to_numeric, downcast='float', errors='coerce')"
   ]
  },
  {
   "cell_type": "code",
   "execution_count": 10,
   "metadata": {},
   "outputs": [
    {
     "data": {
      "text/plain": [
       "Period                datetime64[ns]\n",
       "Activity                      object\n",
       "Source                        object\n",
       "Destination                   object\n",
       "Energy (MW.h)                float64\n",
       "Total Value (CAN$)           float64\n",
       "Price (CAN$/MW.h)            float64\n",
       "dtype: object"
      ]
     },
     "execution_count": 10,
     "metadata": {},
     "output_type": "execute_result"
    }
   ],
   "source": [
    "# let's check the data types in the df:\n",
    "df.dtypes"
   ]
  },
  {
   "cell_type": "markdown",
   "metadata": {},
   "source": [
    "### Data types are corrected"
   ]
  },
  {
   "cell_type": "code",
   "execution_count": 11,
   "metadata": {},
   "outputs": [
    {
     "data": {
      "text/plain": [
       "Period                  0\n",
       "Activity                0\n",
       "Source                  0\n",
       "Destination             6\n",
       "Energy (MW.h)           0\n",
       "Total Value (CAN$)      0\n",
       "Price (CAN$/MW.h)     573\n",
       "dtype: int64"
      ]
     },
     "execution_count": 11,
     "metadata": {},
     "output_type": "execute_result"
    }
   ],
   "source": [
    "# let's check if we have any NANs: \n",
    "df.isnull().sum()"
   ]
  },
  {
   "cell_type": "code",
   "execution_count": 12,
   "metadata": {},
   "outputs": [
    {
     "data": {
      "text/html": [
       "<div>\n",
       "<style scoped>\n",
       "    .dataframe tbody tr th:only-of-type {\n",
       "        vertical-align: middle;\n",
       "    }\n",
       "\n",
       "    .dataframe tbody tr th {\n",
       "        vertical-align: top;\n",
       "    }\n",
       "\n",
       "    .dataframe thead th {\n",
       "        text-align: right;\n",
       "    }\n",
       "</style>\n",
       "<table border=\"1\" class=\"dataframe\">\n",
       "  <thead>\n",
       "    <tr style=\"text-align: right;\">\n",
       "      <th></th>\n",
       "      <th>count</th>\n",
       "      <th>%</th>\n",
       "    </tr>\n",
       "  </thead>\n",
       "  <tbody>\n",
       "    <tr>\n",
       "      <th>Price (CAN$/MW.h)</th>\n",
       "      <td>573</td>\n",
       "      <td>1.564676</td>\n",
       "    </tr>\n",
       "    <tr>\n",
       "      <th>Destination</th>\n",
       "      <td>6</td>\n",
       "      <td>0.016384</td>\n",
       "    </tr>\n",
       "    <tr>\n",
       "      <th>Period</th>\n",
       "      <td>0</td>\n",
       "      <td>0.000000</td>\n",
       "    </tr>\n",
       "    <tr>\n",
       "      <th>Activity</th>\n",
       "      <td>0</td>\n",
       "      <td>0.000000</td>\n",
       "    </tr>\n",
       "    <tr>\n",
       "      <th>Source</th>\n",
       "      <td>0</td>\n",
       "      <td>0.000000</td>\n",
       "    </tr>\n",
       "    <tr>\n",
       "      <th>Energy (MW.h)</th>\n",
       "      <td>0</td>\n",
       "      <td>0.000000</td>\n",
       "    </tr>\n",
       "    <tr>\n",
       "      <th>Total Value (CAN$)</th>\n",
       "      <td>0</td>\n",
       "      <td>0.000000</td>\n",
       "    </tr>\n",
       "  </tbody>\n",
       "</table>\n",
       "</div>"
      ],
      "text/plain": [
       "                    count         %\n",
       "Price (CAN$/MW.h)     573  1.564676\n",
       "Destination             6  0.016384\n",
       "Period                  0  0.000000\n",
       "Activity                0  0.000000\n",
       "Source                  0  0.000000\n",
       "Energy (MW.h)           0  0.000000\n",
       "Total Value (CAN$)      0  0.000000"
      ]
     },
     "execution_count": 12,
     "metadata": {},
     "output_type": "execute_result"
    }
   ],
   "source": [
    "missing = pd.concat([df.isnull().sum(), 100 * df.isnull().mean()], axis=1)\n",
    "missing.columns=['count', '%']\n",
    "missing.sort_values(by='count', ascending=False)"
   ]
  },
  {
   "cell_type": "code",
   "execution_count": 13,
   "metadata": {},
   "outputs": [],
   "source": [
    "# lets change the name of columns for easier work\n",
    "df=df.rename(columns = {'Price (CAN$/MW.h)':'Price','Total Value (CAN$)':'Total_Value','Energy (MW.h)':'Energy' })"
   ]
  },
  {
   "cell_type": "code",
   "execution_count": 14,
   "metadata": {},
   "outputs": [
    {
     "data": {
      "text/html": [
       "<div>\n",
       "<style scoped>\n",
       "    .dataframe tbody tr th:only-of-type {\n",
       "        vertical-align: middle;\n",
       "    }\n",
       "\n",
       "    .dataframe tbody tr th {\n",
       "        vertical-align: top;\n",
       "    }\n",
       "\n",
       "    .dataframe thead th {\n",
       "        text-align: right;\n",
       "    }\n",
       "</style>\n",
       "<table border=\"1\" class=\"dataframe\">\n",
       "  <thead>\n",
       "    <tr style=\"text-align: right;\">\n",
       "      <th></th>\n",
       "      <th>Period</th>\n",
       "      <th>Activity</th>\n",
       "      <th>Source</th>\n",
       "      <th>Destination</th>\n",
       "      <th>Energy</th>\n",
       "      <th>Total_Value</th>\n",
       "      <th>Price</th>\n",
       "    </tr>\n",
       "  </thead>\n",
       "  <tbody>\n",
       "    <tr>\n",
       "      <th>5748</th>\n",
       "      <td>1997-07-01</td>\n",
       "      <td>Exports</td>\n",
       "      <td>British Columbia</td>\n",
       "      <td>NaN</td>\n",
       "      <td>17280.0</td>\n",
       "      <td>554991.26</td>\n",
       "      <td>32.119999</td>\n",
       "    </tr>\n",
       "    <tr>\n",
       "      <th>5784</th>\n",
       "      <td>1997-07-01</td>\n",
       "      <td>Exports</td>\n",
       "      <td>Total</td>\n",
       "      <td>NaN</td>\n",
       "      <td>17280.0</td>\n",
       "      <td>554991.26</td>\n",
       "      <td>32.119999</td>\n",
       "    </tr>\n",
       "    <tr>\n",
       "      <th>5839</th>\n",
       "      <td>1997-08-01</td>\n",
       "      <td>Exports</td>\n",
       "      <td>British Columbia</td>\n",
       "      <td>NaN</td>\n",
       "      <td>20800.0</td>\n",
       "      <td>671478.60</td>\n",
       "      <td>32.279999</td>\n",
       "    </tr>\n",
       "    <tr>\n",
       "      <th>5878</th>\n",
       "      <td>1997-08-01</td>\n",
       "      <td>Exports</td>\n",
       "      <td>Total</td>\n",
       "      <td>NaN</td>\n",
       "      <td>20800.0</td>\n",
       "      <td>671478.60</td>\n",
       "      <td>32.279999</td>\n",
       "    </tr>\n",
       "    <tr>\n",
       "      <th>5936</th>\n",
       "      <td>1997-09-01</td>\n",
       "      <td>Exports</td>\n",
       "      <td>British Columbia</td>\n",
       "      <td>NaN</td>\n",
       "      <td>15350.0</td>\n",
       "      <td>501942.40</td>\n",
       "      <td>32.700001</td>\n",
       "    </tr>\n",
       "    <tr>\n",
       "      <th>5973</th>\n",
       "      <td>1997-09-01</td>\n",
       "      <td>Exports</td>\n",
       "      <td>Total</td>\n",
       "      <td>NaN</td>\n",
       "      <td>15350.0</td>\n",
       "      <td>501942.40</td>\n",
       "      <td>32.700001</td>\n",
       "    </tr>\n",
       "  </tbody>\n",
       "</table>\n",
       "</div>"
      ],
      "text/plain": [
       "         Period Activity            Source Destination   Energy  Total_Value  \\\n",
       "5748 1997-07-01  Exports  British Columbia         NaN  17280.0    554991.26   \n",
       "5784 1997-07-01  Exports             Total         NaN  17280.0    554991.26   \n",
       "5839 1997-08-01  Exports  British Columbia         NaN  20800.0    671478.60   \n",
       "5878 1997-08-01  Exports             Total         NaN  20800.0    671478.60   \n",
       "5936 1997-09-01  Exports  British Columbia         NaN  15350.0    501942.40   \n",
       "5973 1997-09-01  Exports             Total         NaN  15350.0    501942.40   \n",
       "\n",
       "          Price  \n",
       "5748  32.119999  \n",
       "5784  32.119999  \n",
       "5839  32.279999  \n",
       "5878  32.279999  \n",
       "5936  32.700001  \n",
       "5973  32.700001  "
      ]
     },
     "execution_count": 14,
     "metadata": {},
     "output_type": "execute_result"
    }
   ],
   "source": [
    "# checking for nan values in 'Destination'\n",
    "df[df['Destination'].isnull()]"
   ]
  },
  {
   "cell_type": "code",
   "execution_count": 15,
   "metadata": {},
   "outputs": [],
   "source": [
    "# we can't find out the destination so we should drop the rows\n",
    "df = df.dropna(subset=['Destination'])"
   ]
  },
  {
   "cell_type": "code",
   "execution_count": 16,
   "metadata": {},
   "outputs": [
    {
     "data": {
      "text/plain": [
       "Period           0\n",
       "Activity         0\n",
       "Source           0\n",
       "Destination      0\n",
       "Energy           0\n",
       "Total_Value      0\n",
       "Price          573\n",
       "dtype: int64"
      ]
     },
     "execution_count": 16,
     "metadata": {},
     "output_type": "execute_result"
    }
   ],
   "source": [
    "df.isnull().sum()"
   ]
  },
  {
   "cell_type": "code",
   "execution_count": 17,
   "metadata": {},
   "outputs": [
    {
     "data": {
      "text/html": [
       "<div>\n",
       "<style scoped>\n",
       "    .dataframe tbody tr th:only-of-type {\n",
       "        vertical-align: middle;\n",
       "    }\n",
       "\n",
       "    .dataframe tbody tr th {\n",
       "        vertical-align: top;\n",
       "    }\n",
       "\n",
       "    .dataframe thead th {\n",
       "        text-align: right;\n",
       "    }\n",
       "</style>\n",
       "<table border=\"1\" class=\"dataframe\">\n",
       "  <thead>\n",
       "    <tr style=\"text-align: right;\">\n",
       "      <th></th>\n",
       "      <th>Period</th>\n",
       "      <th>Activity</th>\n",
       "      <th>Source</th>\n",
       "      <th>Destination</th>\n",
       "      <th>Energy</th>\n",
       "      <th>Total_Value</th>\n",
       "      <th>Price</th>\n",
       "    </tr>\n",
       "  </thead>\n",
       "  <tbody>\n",
       "    <tr>\n",
       "      <th>14093</th>\n",
       "      <td>2005-05-01</td>\n",
       "      <td>Exports</td>\n",
       "      <td>Manitoba</td>\n",
       "      <td>Minn / N. Dakota</td>\n",
       "      <td>1180302.087</td>\n",
       "      <td>48985493.92</td>\n",
       "      <td>NaN</td>\n",
       "    </tr>\n",
       "    <tr>\n",
       "      <th>14094</th>\n",
       "      <td>2005-05-01</td>\n",
       "      <td>Exports</td>\n",
       "      <td>Manitoba</td>\n",
       "      <td>Total</td>\n",
       "      <td>1180302.087</td>\n",
       "      <td>48985493.92</td>\n",
       "      <td>NaN</td>\n",
       "    </tr>\n",
       "    <tr>\n",
       "      <th>14124</th>\n",
       "      <td>2005-05-01</td>\n",
       "      <td>Exports</td>\n",
       "      <td>Total</td>\n",
       "      <td>Minn / N. Dakota</td>\n",
       "      <td>1180302.087</td>\n",
       "      <td>48985493.92</td>\n",
       "      <td>NaN</td>\n",
       "    </tr>\n",
       "    <tr>\n",
       "      <th>14211</th>\n",
       "      <td>2005-06-01</td>\n",
       "      <td>Exports</td>\n",
       "      <td>Manitoba</td>\n",
       "      <td>Minn / N. Dakota</td>\n",
       "      <td>1180010.579</td>\n",
       "      <td>56770667.49</td>\n",
       "      <td>NaN</td>\n",
       "    </tr>\n",
       "    <tr>\n",
       "      <th>14212</th>\n",
       "      <td>2005-06-01</td>\n",
       "      <td>Exports</td>\n",
       "      <td>Manitoba</td>\n",
       "      <td>Total</td>\n",
       "      <td>1180010.579</td>\n",
       "      <td>56770667.49</td>\n",
       "      <td>NaN</td>\n",
       "    </tr>\n",
       "    <tr>\n",
       "      <th>...</th>\n",
       "      <td>...</td>\n",
       "      <td>...</td>\n",
       "      <td>...</td>\n",
       "      <td>...</td>\n",
       "      <td>...</td>\n",
       "      <td>...</td>\n",
       "      <td>...</td>\n",
       "    </tr>\n",
       "    <tr>\n",
       "      <th>36412</th>\n",
       "      <td>2021-02-01</td>\n",
       "      <td>Exports</td>\n",
       "      <td>Manitoba</td>\n",
       "      <td>Total</td>\n",
       "      <td>302822.557</td>\n",
       "      <td>41185178.51</td>\n",
       "      <td>NaN</td>\n",
       "    </tr>\n",
       "    <tr>\n",
       "      <th>36450</th>\n",
       "      <td>2021-02-01</td>\n",
       "      <td>Exports</td>\n",
       "      <td>Total</td>\n",
       "      <td>Minn / N. Dakota</td>\n",
       "      <td>305755.557</td>\n",
       "      <td>41302521.51</td>\n",
       "      <td>NaN</td>\n",
       "    </tr>\n",
       "    <tr>\n",
       "      <th>36530</th>\n",
       "      <td>2021-03-01</td>\n",
       "      <td>Exports</td>\n",
       "      <td>Manitoba</td>\n",
       "      <td>Minn / N. Dakota</td>\n",
       "      <td>571305.225</td>\n",
       "      <td>37367970.89</td>\n",
       "      <td>NaN</td>\n",
       "    </tr>\n",
       "    <tr>\n",
       "      <th>36532</th>\n",
       "      <td>2021-03-01</td>\n",
       "      <td>Exports</td>\n",
       "      <td>Manitoba</td>\n",
       "      <td>Total</td>\n",
       "      <td>571305.225</td>\n",
       "      <td>37367970.89</td>\n",
       "      <td>NaN</td>\n",
       "    </tr>\n",
       "    <tr>\n",
       "      <th>36563</th>\n",
       "      <td>2021-03-01</td>\n",
       "      <td>Exports</td>\n",
       "      <td>Total</td>\n",
       "      <td>Minn / N. Dakota</td>\n",
       "      <td>574430.225</td>\n",
       "      <td>37412753.89</td>\n",
       "      <td>NaN</td>\n",
       "    </tr>\n",
       "  </tbody>\n",
       "</table>\n",
       "<p>573 rows × 7 columns</p>\n",
       "</div>"
      ],
      "text/plain": [
       "          Period Activity    Source       Destination       Energy  \\\n",
       "14093 2005-05-01  Exports  Manitoba  Minn / N. Dakota  1180302.087   \n",
       "14094 2005-05-01  Exports  Manitoba             Total  1180302.087   \n",
       "14124 2005-05-01  Exports     Total  Minn / N. Dakota  1180302.087   \n",
       "14211 2005-06-01  Exports  Manitoba  Minn / N. Dakota  1180010.579   \n",
       "14212 2005-06-01  Exports  Manitoba             Total  1180010.579   \n",
       "...          ...      ...       ...               ...          ...   \n",
       "36412 2021-02-01  Exports  Manitoba             Total   302822.557   \n",
       "36450 2021-02-01  Exports     Total  Minn / N. Dakota   305755.557   \n",
       "36530 2021-03-01  Exports  Manitoba  Minn / N. Dakota   571305.225   \n",
       "36532 2021-03-01  Exports  Manitoba             Total   571305.225   \n",
       "36563 2021-03-01  Exports     Total  Minn / N. Dakota   574430.225   \n",
       "\n",
       "       Total_Value  Price  \n",
       "14093  48985493.92    NaN  \n",
       "14094  48985493.92    NaN  \n",
       "14124  48985493.92    NaN  \n",
       "14211  56770667.49    NaN  \n",
       "14212  56770667.49    NaN  \n",
       "...            ...    ...  \n",
       "36412  41185178.51    NaN  \n",
       "36450  41302521.51    NaN  \n",
       "36530  37367970.89    NaN  \n",
       "36532  37367970.89    NaN  \n",
       "36563  37412753.89    NaN  \n",
       "\n",
       "[573 rows x 7 columns]"
      ]
     },
     "execution_count": 17,
     "metadata": {},
     "output_type": "execute_result"
    }
   ],
   "source": [
    "# now lets check for 'Price' column\n",
    "df[df['Price'].isnull()]"
   ]
  },
  {
   "cell_type": "code",
   "execution_count": 18,
   "metadata": {},
   "outputs": [],
   "source": [
    "# we can find the missing price if we divide total_value with energy\n",
    "df['price'] = df['Total_Value'] / df['Energy']"
   ]
  },
  {
   "cell_type": "code",
   "execution_count": 19,
   "metadata": {},
   "outputs": [],
   "source": [
    "# fill up the missing values\n",
    "df = df.fillna({'Price': df['price']})"
   ]
  },
  {
   "cell_type": "code",
   "execution_count": 20,
   "metadata": {},
   "outputs": [
    {
     "data": {
      "text/plain": [
       "Period           0\n",
       "Activity         0\n",
       "Source           0\n",
       "Destination      0\n",
       "Energy           0\n",
       "Total_Value      0\n",
       "Price            0\n",
       "price          754\n",
       "dtype: int64"
      ]
     },
     "execution_count": 20,
     "metadata": {},
     "output_type": "execute_result"
    }
   ],
   "source": [
    "df.isnull().sum()"
   ]
  },
  {
   "cell_type": "code",
   "execution_count": 21,
   "metadata": {},
   "outputs": [],
   "source": [
    "#drop the 'price' column we dont need it anymore\n",
    "df.drop('price', axis=1, inplace=True)"
   ]
  },
  {
   "cell_type": "code",
   "execution_count": 22,
   "metadata": {},
   "outputs": [
    {
     "data": {
      "text/plain": [
       "Period         0\n",
       "Activity       0\n",
       "Source         0\n",
       "Destination    0\n",
       "Energy         0\n",
       "Total_Value    0\n",
       "Price          0\n",
       "dtype: int64"
      ]
     },
     "execution_count": 22,
     "metadata": {},
     "output_type": "execute_result"
    }
   ],
   "source": [
    "df.isnull().sum()"
   ]
  },
  {
   "cell_type": "code",
   "execution_count": 23,
   "metadata": {},
   "outputs": [
    {
     "data": {
      "text/html": [
       "<div>\n",
       "<style scoped>\n",
       "    .dataframe tbody tr th:only-of-type {\n",
       "        vertical-align: middle;\n",
       "    }\n",
       "\n",
       "    .dataframe tbody tr th {\n",
       "        vertical-align: top;\n",
       "    }\n",
       "\n",
       "    .dataframe thead th {\n",
       "        text-align: right;\n",
       "    }\n",
       "</style>\n",
       "<table border=\"1\" class=\"dataframe\">\n",
       "  <thead>\n",
       "    <tr style=\"text-align: right;\">\n",
       "      <th></th>\n",
       "      <th>Period</th>\n",
       "      <th>Activity</th>\n",
       "      <th>Source</th>\n",
       "      <th>Destination</th>\n",
       "      <th>Energy</th>\n",
       "      <th>Total_Value</th>\n",
       "      <th>Price</th>\n",
       "    </tr>\n",
       "  </thead>\n",
       "  <tbody>\n",
       "    <tr>\n",
       "      <th>0</th>\n",
       "      <td>1990-01-01</td>\n",
       "      <td>Exports</td>\n",
       "      <td>British Columbia</td>\n",
       "      <td>Alaska</td>\n",
       "      <td>75.196</td>\n",
       "      <td>4536.00</td>\n",
       "      <td>60.320000</td>\n",
       "    </tr>\n",
       "    <tr>\n",
       "      <th>1</th>\n",
       "      <td>1990-01-01</td>\n",
       "      <td>Exports</td>\n",
       "      <td>British Columbia</td>\n",
       "      <td>California</td>\n",
       "      <td>345904.000</td>\n",
       "      <td>11144596.03</td>\n",
       "      <td>32.220001</td>\n",
       "    </tr>\n",
       "    <tr>\n",
       "      <th>2</th>\n",
       "      <td>1990-01-01</td>\n",
       "      <td>Exports</td>\n",
       "      <td>British Columbia</td>\n",
       "      <td>Oregon</td>\n",
       "      <td>148800.000</td>\n",
       "      <td>4770498.00</td>\n",
       "      <td>32.060001</td>\n",
       "    </tr>\n",
       "    <tr>\n",
       "      <th>3</th>\n",
       "      <td>1990-01-01</td>\n",
       "      <td>Exports</td>\n",
       "      <td>British Columbia</td>\n",
       "      <td>Total</td>\n",
       "      <td>496761.596</td>\n",
       "      <td>16000590.03</td>\n",
       "      <td>32.209999</td>\n",
       "    </tr>\n",
       "    <tr>\n",
       "      <th>4</th>\n",
       "      <td>1990-01-01</td>\n",
       "      <td>Exports</td>\n",
       "      <td>British Columbia</td>\n",
       "      <td>Washington</td>\n",
       "      <td>1982.400</td>\n",
       "      <td>80960.00</td>\n",
       "      <td>40.840000</td>\n",
       "    </tr>\n",
       "  </tbody>\n",
       "</table>\n",
       "</div>"
      ],
      "text/plain": [
       "      Period Activity            Source Destination      Energy  Total_Value  \\\n",
       "0 1990-01-01  Exports  British Columbia      Alaska      75.196      4536.00   \n",
       "1 1990-01-01  Exports  British Columbia  California  345904.000  11144596.03   \n",
       "2 1990-01-01  Exports  British Columbia      Oregon  148800.000   4770498.00   \n",
       "3 1990-01-01  Exports  British Columbia       Total  496761.596  16000590.03   \n",
       "4 1990-01-01  Exports  British Columbia  Washington    1982.400     80960.00   \n",
       "\n",
       "       Price  \n",
       "0  60.320000  \n",
       "1  32.220001  \n",
       "2  32.060001  \n",
       "3  32.209999  \n",
       "4  40.840000  "
      ]
     },
     "execution_count": 23,
     "metadata": {},
     "output_type": "execute_result"
    }
   ],
   "source": [
    "df.head()"
   ]
  },
  {
   "cell_type": "code",
   "execution_count": 24,
   "metadata": {},
   "outputs": [
    {
     "name": "stdout",
     "output_type": "stream",
     "text": [
      "<class 'pandas.core.frame.DataFrame'>\n",
      "Int64Index: 36615 entries, 0 to 36620\n",
      "Data columns (total 7 columns):\n",
      " #   Column       Non-Null Count  Dtype         \n",
      "---  ------       --------------  -----         \n",
      " 0   Period       36615 non-null  datetime64[ns]\n",
      " 1   Activity     36615 non-null  object        \n",
      " 2   Source       36615 non-null  object        \n",
      " 3   Destination  36615 non-null  object        \n",
      " 4   Energy       36615 non-null  float64       \n",
      " 5   Total_Value  36615 non-null  float64       \n",
      " 6   Price        36615 non-null  float64       \n",
      "dtypes: datetime64[ns](1), float64(3), object(3)\n",
      "memory usage: 2.2+ MB\n"
     ]
    }
   ],
   "source": [
    "df.info()"
   ]
  },
  {
   "cell_type": "code",
   "execution_count": 25,
   "metadata": {},
   "outputs": [
    {
     "data": {
      "text/plain": [
       "0        False\n",
       "1        False\n",
       "2        False\n",
       "3        False\n",
       "4        False\n",
       "         ...  \n",
       "36616    False\n",
       "36617    False\n",
       "36618    False\n",
       "36619    False\n",
       "36620    False\n",
       "Length: 36615, dtype: bool"
      ]
     },
     "execution_count": 25,
     "metadata": {},
     "output_type": "execute_result"
    }
   ],
   "source": [
    "#check for duplicates\n",
    "df.duplicated()"
   ]
  },
  {
   "cell_type": "code",
   "execution_count": 26,
   "metadata": {},
   "outputs": [
    {
     "data": {
      "text/plain": [
       "array(['British Columbia', 'Manitoba', 'New Brunswick', 'Ontario',\n",
       "       'Québec', 'Total', 'Maine', 'Michigan', 'Minnesota', 'Montana',\n",
       "       'New England-ISO', 'New York', 'North Dakota', 'Vermont',\n",
       "       'Washington', 'Saskatchewan', 'Pennsylvania', 'Alberta', 'Idaho',\n",
       "       'Nebraska', 'South Dakota', 'Texas', 'Oregon', 'Wisconsin', 'Iowa',\n",
       "       'Missouri', 'Kansas', 'California', 'Minn / N. Dakota',\n",
       "       'Massachusetts', 'Nova Scotia', 'Illinois', 'Ohio', 'Indiana',\n",
       "       'New Jersey', 'Arizona', 'Nevada', 'New Mexico', 'Wyoming',\n",
       "       'Oklahoma', 'Colorado', 'Kentucky', 'Utah', 'Connecticut',\n",
       "       'Pennsylvania Jersey Maryland Power Pool',\n",
       "       'Newfoundland and Labrador', 'West Virginia'], dtype=object)"
      ]
     },
     "execution_count": 26,
     "metadata": {},
     "output_type": "execute_result"
    }
   ],
   "source": [
    "df['Source'].unique()"
   ]
  },
  {
   "cell_type": "code",
   "execution_count": 27,
   "metadata": {},
   "outputs": [
    {
     "data": {
      "text/plain": [
       "array(['Alaska', 'California', 'Oregon', 'Total', 'Washington',\n",
       "       'Minnesota', 'North Dakota', 'Maine', 'Massachusetts', 'Michigan',\n",
       "       'New York', 'Vermont', 'New Brunswick', 'Ontario', 'Manitoba',\n",
       "       'British Columbia', 'Québec', 'Saskatchewan', 'Alberta', 'Idaho',\n",
       "       'Nevada', 'Montana', 'New Hampshire', 'New England-ISO',\n",
       "       'Pennsylvania', 'Arizona', 'Missouri', 'Wisconsin', 'South Dakota',\n",
       "       'Texas', 'Nebraska', 'Iowa', 'Colorado', 'Kansas', 'Utah',\n",
       "       'Minn / N. Dakota', 'New Mexico', 'Maryland', 'Nova Scotia',\n",
       "       'Virginia', 'Wyoming', 'Ohio', 'Tennessee', 'Illinois', 'Indiana',\n",
       "       'Connecticut', 'Pennsylvania Jersey Maryland Power Pool',\n",
       "       'Mississippi', 'New Jersey', 'Newfoundland and Labrador',\n",
       "       'Oklahoma', 'Florida'], dtype=object)"
      ]
     },
     "execution_count": 27,
     "metadata": {},
     "output_type": "execute_result"
    }
   ],
   "source": [
    "df['Destination'].unique()"
   ]
  },
  {
   "cell_type": "code",
   "execution_count": 28,
   "metadata": {},
   "outputs": [],
   "source": [
    "# we have total value that we dont need, so we will drop it\n",
    "df = df[df['Source'].str.contains('Total')==False]"
   ]
  },
  {
   "cell_type": "code",
   "execution_count": 29,
   "metadata": {},
   "outputs": [],
   "source": [
    "# we have total value that we dont need, so we will drop it\n",
    "df = df[df['Destination'].str.contains('Total')==False]"
   ]
  },
  {
   "cell_type": "code",
   "execution_count": 30,
   "metadata": {},
   "outputs": [],
   "source": [
    "# we also have place that covers 3 different states, \n",
    "# and we are not sure divide values between them so we will drop it\n",
    "df = df[df['Source'].str.contains('Pennsylvania Jersey Maryland Power Pool')==False]\n"
   ]
  },
  {
   "cell_type": "code",
   "execution_count": 31,
   "metadata": {},
   "outputs": [],
   "source": [
    "df = df[df['Destination'].str.contains('Pennsylvania Jersey Maryland Power Pool')==False]"
   ]
  },
  {
   "cell_type": "code",
   "execution_count": 32,
   "metadata": {},
   "outputs": [
    {
     "name": "stdout",
     "output_type": "stream",
     "text": [
      "<class 'pandas.core.frame.DataFrame'>\n",
      "Int64Index: 17355 entries, 0 to 36619\n",
      "Data columns (total 7 columns):\n",
      " #   Column       Non-Null Count  Dtype         \n",
      "---  ------       --------------  -----         \n",
      " 0   Period       17355 non-null  datetime64[ns]\n",
      " 1   Activity     17355 non-null  object        \n",
      " 2   Source       17355 non-null  object        \n",
      " 3   Destination  17355 non-null  object        \n",
      " 4   Energy       17355 non-null  float64       \n",
      " 5   Total_Value  17355 non-null  float64       \n",
      " 6   Price        17355 non-null  float64       \n",
      "dtypes: datetime64[ns](1), float64(3), object(3)\n",
      "memory usage: 1.1+ MB\n"
     ]
    }
   ],
   "source": [
    "df.info()"
   ]
  },
  {
   "cell_type": "code",
   "execution_count": 33,
   "metadata": {},
   "outputs": [
    {
     "data": {
      "text/html": [
       "<div>\n",
       "<style scoped>\n",
       "    .dataframe tbody tr th:only-of-type {\n",
       "        vertical-align: middle;\n",
       "    }\n",
       "\n",
       "    .dataframe tbody tr th {\n",
       "        vertical-align: top;\n",
       "    }\n",
       "\n",
       "    .dataframe thead th {\n",
       "        text-align: right;\n",
       "    }\n",
       "</style>\n",
       "<table border=\"1\" class=\"dataframe\">\n",
       "  <thead>\n",
       "    <tr style=\"text-align: right;\">\n",
       "      <th></th>\n",
       "      <th>Period</th>\n",
       "      <th>Activity</th>\n",
       "      <th>Source</th>\n",
       "      <th>Destination</th>\n",
       "      <th>Energy</th>\n",
       "      <th>Total_Value</th>\n",
       "      <th>Price</th>\n",
       "    </tr>\n",
       "  </thead>\n",
       "  <tbody>\n",
       "    <tr>\n",
       "      <th>0</th>\n",
       "      <td>1990-01-01</td>\n",
       "      <td>Exports</td>\n",
       "      <td>British Columbia</td>\n",
       "      <td>Alaska</td>\n",
       "      <td>75.196</td>\n",
       "      <td>4536.00</td>\n",
       "      <td>60.320000</td>\n",
       "    </tr>\n",
       "    <tr>\n",
       "      <th>1</th>\n",
       "      <td>1990-01-01</td>\n",
       "      <td>Exports</td>\n",
       "      <td>British Columbia</td>\n",
       "      <td>California</td>\n",
       "      <td>345904.000</td>\n",
       "      <td>11144596.03</td>\n",
       "      <td>32.220001</td>\n",
       "    </tr>\n",
       "    <tr>\n",
       "      <th>2</th>\n",
       "      <td>1990-01-01</td>\n",
       "      <td>Exports</td>\n",
       "      <td>British Columbia</td>\n",
       "      <td>Oregon</td>\n",
       "      <td>148800.000</td>\n",
       "      <td>4770498.00</td>\n",
       "      <td>32.060001</td>\n",
       "    </tr>\n",
       "    <tr>\n",
       "      <th>4</th>\n",
       "      <td>1990-01-01</td>\n",
       "      <td>Exports</td>\n",
       "      <td>British Columbia</td>\n",
       "      <td>Washington</td>\n",
       "      <td>1982.400</td>\n",
       "      <td>80960.00</td>\n",
       "      <td>40.840000</td>\n",
       "    </tr>\n",
       "    <tr>\n",
       "      <th>5</th>\n",
       "      <td>1990-01-01</td>\n",
       "      <td>Exports</td>\n",
       "      <td>Manitoba</td>\n",
       "      <td>Minnesota</td>\n",
       "      <td>5100.424</td>\n",
       "      <td>129051.37</td>\n",
       "      <td>25.299999</td>\n",
       "    </tr>\n",
       "  </tbody>\n",
       "</table>\n",
       "</div>"
      ],
      "text/plain": [
       "      Period Activity            Source Destination      Energy  Total_Value  \\\n",
       "0 1990-01-01  Exports  British Columbia      Alaska      75.196      4536.00   \n",
       "1 1990-01-01  Exports  British Columbia  California  345904.000  11144596.03   \n",
       "2 1990-01-01  Exports  British Columbia      Oregon  148800.000   4770498.00   \n",
       "4 1990-01-01  Exports  British Columbia  Washington    1982.400     80960.00   \n",
       "5 1990-01-01  Exports          Manitoba   Minnesota    5100.424    129051.37   \n",
       "\n",
       "       Price  \n",
       "0  60.320000  \n",
       "1  32.220001  \n",
       "2  32.060001  \n",
       "4  40.840000  \n",
       "5  25.299999  "
      ]
     },
     "execution_count": 33,
     "metadata": {},
     "output_type": "execute_result"
    }
   ],
   "source": [
    "df.head()"
   ]
  },
  {
   "cell_type": "markdown",
   "metadata": {},
   "source": [
    "#### LETS CHECK FOR OUTLIERS"
   ]
  },
  {
   "cell_type": "code",
   "execution_count": 34,
   "metadata": {},
   "outputs": [
    {
     "data": {
      "image/png": "[encoded data removed]",
      "text/plain": [
       "<Figure size 720x432 with 1 Axes>"
      ]
     },
     "metadata": {
      "needs_background": "light"
     },
     "output_type": "display_data"
    }
   ],
   "source": [
    "f, ax = plt.subplots(figsize = (10,6))\n",
    "ax = sns.histplot(df['Price'], kde=True, bins=10)\n",
    "ax.set_title('Price')\n",
    "plt.grid(True)"
   ]
  },
  {
   "cell_type": "code",
   "execution_count": 35,
   "metadata": {},
   "outputs": [
    {
     "data": {
      "text/plain": [
       "11305    10832.799805\n",
       "13093     3127.989990\n",
       "1174      3057.239990\n",
       "28134     1624.369995\n",
       "9039      1331.369995\n",
       "             ...     \n",
       "10239     -223.089996\n",
       "29471     -462.320007\n",
       "3614      -734.179993\n",
       "10271    -2220.290039\n",
       "10419    -2680.199951\n",
       "Name: Price, Length: 17355, dtype: float64"
      ]
     },
     "execution_count": 35,
     "metadata": {},
     "output_type": "execute_result"
    }
   ],
   "source": [
    "df.Price.sort_values(ascending=False)"
   ]
  },
  {
   "cell_type": "code",
   "execution_count": 37,
   "metadata": {},
   "outputs": [
    {
     "data": {
      "text/html": [
       "<div>\n",
       "<style scoped>\n",
       "    .dataframe tbody tr th:only-of-type {\n",
       "        vertical-align: middle;\n",
       "    }\n",
       "\n",
       "    .dataframe tbody tr th {\n",
       "        vertical-align: top;\n",
       "    }\n",
       "\n",
       "    .dataframe thead th {\n",
       "        text-align: right;\n",
       "    }\n",
       "</style>\n",
       "<table border=\"1\" class=\"dataframe\">\n",
       "  <thead>\n",
       "    <tr style=\"text-align: right;\">\n",
       "      <th></th>\n",
       "      <th>Period</th>\n",
       "      <th>Activity</th>\n",
       "      <th>Source</th>\n",
       "      <th>Destination</th>\n",
       "      <th>Energy</th>\n",
       "      <th>Total_Value</th>\n",
       "      <th>Price</th>\n",
       "    </tr>\n",
       "  </thead>\n",
       "  <tbody>\n",
       "    <tr>\n",
       "      <th>11305</th>\n",
       "      <td>2002-12-01</td>\n",
       "      <td>Imports</td>\n",
       "      <td>Maine</td>\n",
       "      <td>Québec</td>\n",
       "      <td>1463.0</td>\n",
       "      <td>15848382.71</td>\n",
       "      <td>10832.799805</td>\n",
       "    </tr>\n",
       "  </tbody>\n",
       "</table>\n",
       "</div>"
      ],
      "text/plain": [
       "          Period Activity Source Destination  Energy  Total_Value  \\\n",
       "11305 2002-12-01  Imports  Maine      Québec  1463.0  15848382.71   \n",
       "\n",
       "              Price  \n",
       "11305  10832.799805  "
      ]
     },
     "execution_count": 37,
     "metadata": {},
     "output_type": "execute_result"
    }
   ],
   "source": [
    "df[df['Price'] > 10000 ]"
   ]
  },
  {
   "cell_type": "code",
   "execution_count": 38,
   "metadata": {},
   "outputs": [],
   "source": [
    "# This price looks like an outlier so we shoud drop it \n",
    "df = df.drop(labels=11305, axis=0)"
   ]
  },
  {
   "cell_type": "code",
   "execution_count": 39,
   "metadata": {},
   "outputs": [
    {
     "data": {
      "text/html": [
       "<div>\n",
       "<style scoped>\n",
       "    .dataframe tbody tr th:only-of-type {\n",
       "        vertical-align: middle;\n",
       "    }\n",
       "\n",
       "    .dataframe tbody tr th {\n",
       "        vertical-align: top;\n",
       "    }\n",
       "\n",
       "    .dataframe thead th {\n",
       "        text-align: right;\n",
       "    }\n",
       "</style>\n",
       "<table border=\"1\" class=\"dataframe\">\n",
       "  <thead>\n",
       "    <tr style=\"text-align: right;\">\n",
       "      <th></th>\n",
       "      <th>Period</th>\n",
       "      <th>Activity</th>\n",
       "      <th>Source</th>\n",
       "      <th>Destination</th>\n",
       "      <th>Energy</th>\n",
       "      <th>Total_Value</th>\n",
       "      <th>Price</th>\n",
       "    </tr>\n",
       "  </thead>\n",
       "  <tbody>\n",
       "  </tbody>\n",
       "</table>\n",
       "</div>"
      ],
      "text/plain": [
       "Empty DataFrame\n",
       "Columns: [Period, Activity, Source, Destination, Energy, Total_Value, Price]\n",
       "Index: []"
      ]
     },
     "execution_count": 39,
     "metadata": {},
     "output_type": "execute_result"
    }
   ],
   "source": [
    "df[df['Price'] > 10000 ]"
   ]
  },
  {
   "cell_type": "code",
   "execution_count": 40,
   "metadata": {},
   "outputs": [
    {
     "data": {
      "image/png": "[encoded data removed]",
      "text/plain": [
       "<Figure size 720x432 with 1 Axes>"
      ]
     },
     "metadata": {
      "needs_background": "light"
     },
     "output_type": "display_data"
    }
   ],
   "source": [
    "f, ax = plt.subplots(figsize = (10,6))\n",
    "ax = sns.histplot(df['Price'], kde=True, bins=10)\n",
    "ax.set_title('Price')\n",
    "plt.grid(True)"
   ]
  },
  {
   "cell_type": "code",
   "execution_count": 41,
   "metadata": {},
   "outputs": [
    {
     "data": {
      "text/html": [
       "<div>\n",
       "<style scoped>\n",
       "    .dataframe tbody tr th:only-of-type {\n",
       "        vertical-align: middle;\n",
       "    }\n",
       "\n",
       "    .dataframe tbody tr th {\n",
       "        vertical-align: top;\n",
       "    }\n",
       "\n",
       "    .dataframe thead th {\n",
       "        text-align: right;\n",
       "    }\n",
       "</style>\n",
       "<table border=\"1\" class=\"dataframe\">\n",
       "  <thead>\n",
       "    <tr style=\"text-align: right;\">\n",
       "      <th></th>\n",
       "      <th>Period</th>\n",
       "      <th>Activity</th>\n",
       "      <th>Source</th>\n",
       "      <th>Destination</th>\n",
       "      <th>Energy</th>\n",
       "      <th>Total_Value</th>\n",
       "      <th>Price</th>\n",
       "    </tr>\n",
       "  </thead>\n",
       "  <tbody>\n",
       "    <tr>\n",
       "      <th>3614</th>\n",
       "      <td>1994-11-01</td>\n",
       "      <td>Exports</td>\n",
       "      <td>New Brunswick</td>\n",
       "      <td>Massachusetts</td>\n",
       "      <td>50.0</td>\n",
       "      <td>-3.670900e+04</td>\n",
       "      <td>-734.179993</td>\n",
       "    </tr>\n",
       "    <tr>\n",
       "      <th>6440</th>\n",
       "      <td>1998-02-01</td>\n",
       "      <td>Imports</td>\n",
       "      <td>New England-ISO</td>\n",
       "      <td>Québec</td>\n",
       "      <td>401.0</td>\n",
       "      <td>-2.632080e+04</td>\n",
       "      <td>-65.639999</td>\n",
       "    </tr>\n",
       "    <tr>\n",
       "      <th>10164</th>\n",
       "      <td>2001-09-01</td>\n",
       "      <td>Exports</td>\n",
       "      <td>Québec</td>\n",
       "      <td>New York</td>\n",
       "      <td>-27885.0</td>\n",
       "      <td>1.018237e+07</td>\n",
       "      <td>-95.120003</td>\n",
       "    </tr>\n",
       "    <tr>\n",
       "      <th>10239</th>\n",
       "      <td>2001-10-01</td>\n",
       "      <td>Exports</td>\n",
       "      <td>Québec</td>\n",
       "      <td>New York</td>\n",
       "      <td>89861.0</td>\n",
       "      <td>-1.245261e+07</td>\n",
       "      <td>-223.089996</td>\n",
       "    </tr>\n",
       "    <tr>\n",
       "      <th>10271</th>\n",
       "      <td>2001-10-01</td>\n",
       "      <td>Imports</td>\n",
       "      <td>New York</td>\n",
       "      <td>Ontario</td>\n",
       "      <td>34.0</td>\n",
       "      <td>-7.548974e+04</td>\n",
       "      <td>-2220.290039</td>\n",
       "    </tr>\n",
       "    <tr>\n",
       "      <th>...</th>\n",
       "      <td>...</td>\n",
       "      <td>...</td>\n",
       "      <td>...</td>\n",
       "      <td>...</td>\n",
       "      <td>...</td>\n",
       "      <td>...</td>\n",
       "      <td>...</td>\n",
       "    </tr>\n",
       "    <tr>\n",
       "      <th>36142</th>\n",
       "      <td>2020-11-01</td>\n",
       "      <td>Imports</td>\n",
       "      <td>Nebraska</td>\n",
       "      <td>British Columbia</td>\n",
       "      <td>6135.0</td>\n",
       "      <td>-6.290563e+04</td>\n",
       "      <td>-10.250000</td>\n",
       "    </tr>\n",
       "    <tr>\n",
       "      <th>36251</th>\n",
       "      <td>2020-12-01</td>\n",
       "      <td>Imports</td>\n",
       "      <td>Nebraska</td>\n",
       "      <td>British Columbia</td>\n",
       "      <td>1015.0</td>\n",
       "      <td>-5.015736e+03</td>\n",
       "      <td>-4.940000</td>\n",
       "    </tr>\n",
       "    <tr>\n",
       "      <th>36490</th>\n",
       "      <td>2021-02-01</td>\n",
       "      <td>Imports</td>\n",
       "      <td>Nebraska</td>\n",
       "      <td>British Columbia</td>\n",
       "      <td>2108.0</td>\n",
       "      <td>-3.515524e+04</td>\n",
       "      <td>-16.680000</td>\n",
       "    </tr>\n",
       "    <tr>\n",
       "      <th>36598</th>\n",
       "      <td>2021-03-01</td>\n",
       "      <td>Imports</td>\n",
       "      <td>Nebraska</td>\n",
       "      <td>British Columbia</td>\n",
       "      <td>11005.0</td>\n",
       "      <td>-1.704268e+04</td>\n",
       "      <td>-1.550000</td>\n",
       "    </tr>\n",
       "    <tr>\n",
       "      <th>36603</th>\n",
       "      <td>2021-03-01</td>\n",
       "      <td>Imports</td>\n",
       "      <td>North Dakota</td>\n",
       "      <td>Saskatchewan</td>\n",
       "      <td>3604.0</td>\n",
       "      <td>-1.776333e+04</td>\n",
       "      <td>-4.930000</td>\n",
       "    </tr>\n",
       "  </tbody>\n",
       "</table>\n",
       "<p>153 rows × 7 columns</p>\n",
       "</div>"
      ],
      "text/plain": [
       "          Period Activity           Source       Destination   Energy  \\\n",
       "3614  1994-11-01  Exports    New Brunswick     Massachusetts     50.0   \n",
       "6440  1998-02-01  Imports  New England-ISO            Québec    401.0   \n",
       "10164 2001-09-01  Exports           Québec          New York -27885.0   \n",
       "10239 2001-10-01  Exports           Québec          New York  89861.0   \n",
       "10271 2001-10-01  Imports         New York           Ontario     34.0   \n",
       "...          ...      ...              ...               ...      ...   \n",
       "36142 2020-11-01  Imports         Nebraska  British Columbia   6135.0   \n",
       "36251 2020-12-01  Imports         Nebraska  British Columbia   1015.0   \n",
       "36490 2021-02-01  Imports         Nebraska  British Columbia   2108.0   \n",
       "36598 2021-03-01  Imports         Nebraska  British Columbia  11005.0   \n",
       "36603 2021-03-01  Imports     North Dakota      Saskatchewan   3604.0   \n",
       "\n",
       "        Total_Value        Price  \n",
       "3614  -3.670900e+04  -734.179993  \n",
       "6440  -2.632080e+04   -65.639999  \n",
       "10164  1.018237e+07   -95.120003  \n",
       "10239 -1.245261e+07  -223.089996  \n",
       "10271 -7.548974e+04 -2220.290039  \n",
       "...             ...          ...  \n",
       "36142 -6.290563e+04   -10.250000  \n",
       "36251 -5.015736e+03    -4.940000  \n",
       "36490 -3.515524e+04   -16.680000  \n",
       "36598 -1.704268e+04    -1.550000  \n",
       "36603 -1.776333e+04    -4.930000  \n",
       "\n",
       "[153 rows x 7 columns]"
      ]
     },
     "execution_count": 41,
     "metadata": {},
     "output_type": "execute_result"
    }
   ],
   "source": [
    "df[df['Price'] < 0]"
   ]
  },
  {
   "cell_type": "code",
   "execution_count": 42,
   "metadata": {},
   "outputs": [
    {
     "data": {
      "image/png": "[encoded data removed]",
      "text/plain": [
       "<Figure size 720x432 with 1 Axes>"
      ]
     },
     "metadata": {
      "needs_background": "light"
     },
     "output_type": "display_data"
    }
   ],
   "source": [
    "f, ax = plt.subplots(figsize = (10,6))\n",
    "ax = sns.histplot(df['Energy'], kde=True, bins=10)\n",
    "ax.set_title('Energy')\n",
    "plt.grid(True)"
   ]
  },
  {
   "cell_type": "code",
   "execution_count": 43,
   "metadata": {},
   "outputs": [
    {
     "data": {
      "text/plain": [
       "18850    2022303.0\n",
       "10889    1717663.0\n",
       "10962    1538251.0\n",
       "10607    1440156.0\n",
       "9528     1400401.0\n",
       "           ...    \n",
       "29316          0.0\n",
       "31565          0.0\n",
       "5257          -9.0\n",
       "10163        -83.0\n",
       "10164     -27885.0\n",
       "Name: Energy, Length: 17354, dtype: float64"
      ]
     },
     "execution_count": 43,
     "metadata": {},
     "output_type": "execute_result"
    }
   ],
   "source": [
    "df.Energy.sort_values(ascending=False)"
   ]
  },
  {
   "cell_type": "code",
   "execution_count": 44,
   "metadata": {},
   "outputs": [],
   "source": [
    "# we are not sure how energy can be negative value so we will drop the rows with negative values\n",
    "df = df.drop(labels=[5257,10163,10164], axis=0)"
   ]
  },
  {
   "cell_type": "code",
   "execution_count": 45,
   "metadata": {},
   "outputs": [
    {
     "data": {
      "text/plain": [
       "18850    2022303.0\n",
       "10889    1717663.0\n",
       "10962    1538251.0\n",
       "10607    1440156.0\n",
       "9528     1400401.0\n",
       "           ...    \n",
       "35754          0.0\n",
       "27926          0.0\n",
       "27919          0.0\n",
       "35797          0.0\n",
       "27648          0.0\n",
       "Name: Energy, Length: 17351, dtype: float64"
      ]
     },
     "execution_count": 45,
     "metadata": {},
     "output_type": "execute_result"
    }
   ],
   "source": [
    "df.Energy.sort_values(ascending=False)"
   ]
  },
  {
   "cell_type": "code",
   "execution_count": 46,
   "metadata": {},
   "outputs": [
    {
     "data": {
      "image/png": "[encoded data removed]",
      "text/plain": [
       "<Figure size 720x432 with 1 Axes>"
      ]
     },
     "metadata": {
      "needs_background": "light"
     },
     "output_type": "display_data"
    }
   ],
   "source": [
    "f, ax = plt.subplots(figsize = (10,6))\n",
    "ax = sns.histplot(df['Energy'], kde=True, bins=10)\n",
    "ax.set_title('Energy')\n",
    "plt.grid(True)"
   ]
  },
  {
   "cell_type": "code",
   "execution_count": 47,
   "metadata": {},
   "outputs": [
    {
     "data": {
      "image/png": "[encoded data removed]",
      "text/plain": [
       "<Figure size 720x432 with 1 Axes>"
      ]
     },
     "metadata": {
      "needs_background": "light"
     },
     "output_type": "display_data"
    }
   ],
   "source": [
    "f, ax = plt.subplots(figsize = (10,6))\n",
    "ax = sns.histplot(df['Total_Value'], kde=True, bins=10)\n",
    "ax.set_title('Total_Value')\n",
    "plt.grid(True)"
   ]
  },
  {
   "cell_type": "code",
   "execution_count": 49,
   "metadata": {},
   "outputs": [
    {
     "data": {
      "text/plain": [
       "9848     4.554837e+08\n",
       "9629     3.506929e+08\n",
       "9777     3.298275e+08\n",
       "9769     2.890566e+08\n",
       "9696     2.856347e+08\n",
       "             ...     \n",
       "26119   -1.815686e+06\n",
       "10419   -1.889542e+06\n",
       "4144    -4.246341e+06\n",
       "10310   -4.397565e+06\n",
       "10239   -1.245261e+07\n",
       "Name: Total_Value, Length: 17351, dtype: float64"
      ]
     },
     "execution_count": 49,
     "metadata": {},
     "output_type": "execute_result"
    }
   ],
   "source": [
    "df.Total_Value.sort_values(ascending=False)"
   ]
  },
  {
   "cell_type": "markdown",
   "metadata": {},
   "source": [
    "#### Finding locations"
   ]
  },
  {
   "cell_type": "code",
   "execution_count": 71,
   "metadata": {},
   "outputs": [],
   "source": [
    "a = list(df['Source'].unique())"
   ]
  },
  {
   "cell_type": "code",
   "execution_count": 72,
   "metadata": {},
   "outputs": [
    {
     "name": "stdout",
     "output_type": "stream",
     "text": [
      "['British Columbia', 'Manitoba', 'New Brunswick', 'Ontario', 'Québec', 'Maine', 'Michigan', 'Minnesota', 'Montana', 'New England-ISO', 'New York', 'North Dakota', 'Vermont', 'Washington', 'Saskatchewan', 'Pennsylvania', 'Alberta', 'Idaho', 'Nebraska', 'South Dakota', 'Texas', 'Oregon', 'Wisconsin', 'Iowa', 'Missouri', 'Kansas', 'California', 'Minn / N. Dakota', 'Massachusetts', 'Nova Scotia', 'Illinois', 'Ohio', 'Indiana', 'New Jersey', 'Arizona', 'Nevada', 'New Mexico', 'Wyoming', 'Oklahoma', 'Colorado', 'Kentucky', 'Utah', 'Connecticut', 'Newfoundland and Labrador', 'West Virginia']\n"
     ]
    }
   ],
   "source": [
    "print(a)"
   ]
  },
  {
   "cell_type": "code",
   "execution_count": 73,
   "metadata": {},
   "outputs": [],
   "source": [
    "from geopy.geocoders import Nominatim\n",
    "latitude = []\n",
    "longitude = []\n",
    "places= []\n",
    "for x in a:\n",
    "    address= x\n",
    "    geolocator = Nominatim(user_agent=\"Your_Name\")\n",
    "    location = geolocator.geocode(address)\n",
    "    latitude.append(location.latitude)\n",
    "    longitude.append(location.longitude)\n",
    "    places.append(x)\n",
    "    "
   ]
  },
  {
   "cell_type": "code",
   "execution_count": 74,
   "metadata": {},
   "outputs": [],
   "source": [
    "res = dict(zip(places,latitude))\n",
    "res_1 = dict(zip(places,longitude))"
   ]
  },
  {
   "cell_type": "code",
   "execution_count": 75,
   "metadata": {},
   "outputs": [],
   "source": [
    "df['S_latitude'] = df['Source'].map(res)\n",
    "df['S_longitude'] = df['Source'].map(res_1)"
   ]
  },
  {
   "cell_type": "code",
   "execution_count": 76,
   "metadata": {},
   "outputs": [
    {
     "data": {
      "text/html": [
       "<div>\n",
       "<style scoped>\n",
       "    .dataframe tbody tr th:only-of-type {\n",
       "        vertical-align: middle;\n",
       "    }\n",
       "\n",
       "    .dataframe tbody tr th {\n",
       "        vertical-align: top;\n",
       "    }\n",
       "\n",
       "    .dataframe thead th {\n",
       "        text-align: right;\n",
       "    }\n",
       "</style>\n",
       "<table border=\"1\" class=\"dataframe\">\n",
       "  <thead>\n",
       "    <tr style=\"text-align: right;\">\n",
       "      <th></th>\n",
       "      <th>Period</th>\n",
       "      <th>Activity</th>\n",
       "      <th>Source</th>\n",
       "      <th>Destination</th>\n",
       "      <th>Energy</th>\n",
       "      <th>Total_Value</th>\n",
       "      <th>Price</th>\n",
       "      <th>S_latitude</th>\n",
       "      <th>S_longitude</th>\n",
       "      <th>D_latitude</th>\n",
       "      <th>D_longitude</th>\n",
       "    </tr>\n",
       "  </thead>\n",
       "  <tbody>\n",
       "    <tr>\n",
       "      <th>0</th>\n",
       "      <td>1990-01-01</td>\n",
       "      <td>Exports</td>\n",
       "      <td>British Columbia</td>\n",
       "      <td>Alaska</td>\n",
       "      <td>75.196</td>\n",
       "      <td>4536.00</td>\n",
       "      <td>60.320000</td>\n",
       "      <td>55.001251</td>\n",
       "      <td>-125.002441</td>\n",
       "      <td>NaN</td>\n",
       "      <td>NaN</td>\n",
       "    </tr>\n",
       "    <tr>\n",
       "      <th>1</th>\n",
       "      <td>1990-01-01</td>\n",
       "      <td>Exports</td>\n",
       "      <td>British Columbia</td>\n",
       "      <td>California</td>\n",
       "      <td>345904.000</td>\n",
       "      <td>11144596.03</td>\n",
       "      <td>32.220001</td>\n",
       "      <td>55.001251</td>\n",
       "      <td>-125.002441</td>\n",
       "      <td>NaN</td>\n",
       "      <td>NaN</td>\n",
       "    </tr>\n",
       "    <tr>\n",
       "      <th>2</th>\n",
       "      <td>1990-01-01</td>\n",
       "      <td>Exports</td>\n",
       "      <td>British Columbia</td>\n",
       "      <td>Oregon</td>\n",
       "      <td>148800.000</td>\n",
       "      <td>4770498.00</td>\n",
       "      <td>32.060001</td>\n",
       "      <td>55.001251</td>\n",
       "      <td>-125.002441</td>\n",
       "      <td>NaN</td>\n",
       "      <td>NaN</td>\n",
       "    </tr>\n",
       "    <tr>\n",
       "      <th>4</th>\n",
       "      <td>1990-01-01</td>\n",
       "      <td>Exports</td>\n",
       "      <td>British Columbia</td>\n",
       "      <td>Washington</td>\n",
       "      <td>1982.400</td>\n",
       "      <td>80960.00</td>\n",
       "      <td>40.840000</td>\n",
       "      <td>55.001251</td>\n",
       "      <td>-125.002441</td>\n",
       "      <td>NaN</td>\n",
       "      <td>NaN</td>\n",
       "    </tr>\n",
       "    <tr>\n",
       "      <th>5</th>\n",
       "      <td>1990-01-01</td>\n",
       "      <td>Exports</td>\n",
       "      <td>Manitoba</td>\n",
       "      <td>Minnesota</td>\n",
       "      <td>5100.424</td>\n",
       "      <td>129051.37</td>\n",
       "      <td>25.299999</td>\n",
       "      <td>55.001251</td>\n",
       "      <td>-97.001038</td>\n",
       "      <td>NaN</td>\n",
       "      <td>NaN</td>\n",
       "    </tr>\n",
       "  </tbody>\n",
       "</table>\n",
       "</div>"
      ],
      "text/plain": [
       "      Period Activity            Source Destination      Energy  Total_Value  \\\n",
       "0 1990-01-01  Exports  British Columbia      Alaska      75.196      4536.00   \n",
       "1 1990-01-01  Exports  British Columbia  California  345904.000  11144596.03   \n",
       "2 1990-01-01  Exports  British Columbia      Oregon  148800.000   4770498.00   \n",
       "4 1990-01-01  Exports  British Columbia  Washington    1982.400     80960.00   \n",
       "5 1990-01-01  Exports          Manitoba   Minnesota    5100.424    129051.37   \n",
       "\n",
       "       Price  S_latitude  S_longitude  D_latitude  D_longitude  \n",
       "0  60.320000   55.001251  -125.002441         NaN          NaN  \n",
       "1  32.220001   55.001251  -125.002441         NaN          NaN  \n",
       "2  32.060001   55.001251  -125.002441         NaN          NaN  \n",
       "4  40.840000   55.001251  -125.002441         NaN          NaN  \n",
       "5  25.299999   55.001251   -97.001038         NaN          NaN  "
      ]
     },
     "execution_count": 76,
     "metadata": {},
     "output_type": "execute_result"
    }
   ],
   "source": [
    "df.head()"
   ]
  },
  {
   "cell_type": "code",
   "execution_count": 77,
   "metadata": {},
   "outputs": [],
   "source": [
    "b = list(df['Destination'].unique())"
   ]
  },
  {
   "cell_type": "code",
   "execution_count": 78,
   "metadata": {},
   "outputs": [],
   "source": [
    "from geopy.geocoders import Nominatim\n",
    "d_latitude = []\n",
    "d_longitude = []\n",
    "d_places= []\n",
    "for x in b:\n",
    "    address= x\n",
    "    geolocator = Nominatim(user_agent=\"Your_Name\")\n",
    "    location = geolocator.geocode(address)\n",
    "    d_latitude.append(location.latitude)\n",
    "    d_longitude.append(location.longitude)\n",
    "    d_places.append(x)"
   ]
  },
  {
   "cell_type": "code",
   "execution_count": 79,
   "metadata": {},
   "outputs": [],
   "source": [
    "d_res = dict(zip(d_places,d_latitude))\n",
    "d_res_1 = dict(zip(d_places,d_longitude))"
   ]
  },
  {
   "cell_type": "code",
   "execution_count": 80,
   "metadata": {},
   "outputs": [],
   "source": [
    "df['D_latitude'] = df['Destination'].map(d_res)\n",
    "df['D_longitude'] = df['Destination'].map(d_res_1)"
   ]
  },
  {
   "cell_type": "code",
   "execution_count": 81,
   "metadata": {},
   "outputs": [
    {
     "data": {
      "text/html": [
       "<div>\n",
       "<style scoped>\n",
       "    .dataframe tbody tr th:only-of-type {\n",
       "        vertical-align: middle;\n",
       "    }\n",
       "\n",
       "    .dataframe tbody tr th {\n",
       "        vertical-align: top;\n",
       "    }\n",
       "\n",
       "    .dataframe thead th {\n",
       "        text-align: right;\n",
       "    }\n",
       "</style>\n",
       "<table border=\"1\" class=\"dataframe\">\n",
       "  <thead>\n",
       "    <tr style=\"text-align: right;\">\n",
       "      <th></th>\n",
       "      <th>Period</th>\n",
       "      <th>Activity</th>\n",
       "      <th>Source</th>\n",
       "      <th>Destination</th>\n",
       "      <th>Energy</th>\n",
       "      <th>Total_Value</th>\n",
       "      <th>Price</th>\n",
       "      <th>S_latitude</th>\n",
       "      <th>S_longitude</th>\n",
       "      <th>D_latitude</th>\n",
       "      <th>D_longitude</th>\n",
       "    </tr>\n",
       "  </thead>\n",
       "  <tbody>\n",
       "    <tr>\n",
       "      <th>0</th>\n",
       "      <td>1990-01-01</td>\n",
       "      <td>Exports</td>\n",
       "      <td>British Columbia</td>\n",
       "      <td>Alaska</td>\n",
       "      <td>75.196</td>\n",
       "      <td>4536.00</td>\n",
       "      <td>60.320000</td>\n",
       "      <td>55.001251</td>\n",
       "      <td>-125.002441</td>\n",
       "      <td>64.445961</td>\n",
       "      <td>-149.680909</td>\n",
       "    </tr>\n",
       "    <tr>\n",
       "      <th>1</th>\n",
       "      <td>1990-01-01</td>\n",
       "      <td>Exports</td>\n",
       "      <td>British Columbia</td>\n",
       "      <td>California</td>\n",
       "      <td>345904.000</td>\n",
       "      <td>11144596.03</td>\n",
       "      <td>32.220001</td>\n",
       "      <td>55.001251</td>\n",
       "      <td>-125.002441</td>\n",
       "      <td>36.701463</td>\n",
       "      <td>-118.755997</td>\n",
       "    </tr>\n",
       "    <tr>\n",
       "      <th>2</th>\n",
       "      <td>1990-01-01</td>\n",
       "      <td>Exports</td>\n",
       "      <td>British Columbia</td>\n",
       "      <td>Oregon</td>\n",
       "      <td>148800.000</td>\n",
       "      <td>4770498.00</td>\n",
       "      <td>32.060001</td>\n",
       "      <td>55.001251</td>\n",
       "      <td>-125.002441</td>\n",
       "      <td>43.979280</td>\n",
       "      <td>-120.737257</td>\n",
       "    </tr>\n",
       "    <tr>\n",
       "      <th>4</th>\n",
       "      <td>1990-01-01</td>\n",
       "      <td>Exports</td>\n",
       "      <td>British Columbia</td>\n",
       "      <td>Washington</td>\n",
       "      <td>1982.400</td>\n",
       "      <td>80960.00</td>\n",
       "      <td>40.840000</td>\n",
       "      <td>55.001251</td>\n",
       "      <td>-125.002441</td>\n",
       "      <td>38.894992</td>\n",
       "      <td>-77.036558</td>\n",
       "    </tr>\n",
       "    <tr>\n",
       "      <th>5</th>\n",
       "      <td>1990-01-01</td>\n",
       "      <td>Exports</td>\n",
       "      <td>Manitoba</td>\n",
       "      <td>Minnesota</td>\n",
       "      <td>5100.424</td>\n",
       "      <td>129051.37</td>\n",
       "      <td>25.299999</td>\n",
       "      <td>55.001251</td>\n",
       "      <td>-97.001038</td>\n",
       "      <td>45.989659</td>\n",
       "      <td>-94.611329</td>\n",
       "    </tr>\n",
       "  </tbody>\n",
       "</table>\n",
       "</div>"
      ],
      "text/plain": [
       "      Period Activity            Source Destination      Energy  Total_Value  \\\n",
       "0 1990-01-01  Exports  British Columbia      Alaska      75.196      4536.00   \n",
       "1 1990-01-01  Exports  British Columbia  California  345904.000  11144596.03   \n",
       "2 1990-01-01  Exports  British Columbia      Oregon  148800.000   4770498.00   \n",
       "4 1990-01-01  Exports  British Columbia  Washington    1982.400     80960.00   \n",
       "5 1990-01-01  Exports          Manitoba   Minnesota    5100.424    129051.37   \n",
       "\n",
       "       Price  S_latitude  S_longitude  D_latitude  D_longitude  \n",
       "0  60.320000   55.001251  -125.002441   64.445961  -149.680909  \n",
       "1  32.220001   55.001251  -125.002441   36.701463  -118.755997  \n",
       "2  32.060001   55.001251  -125.002441   43.979280  -120.737257  \n",
       "4  40.840000   55.001251  -125.002441   38.894992   -77.036558  \n",
       "5  25.299999   55.001251   -97.001038   45.989659   -94.611329  "
      ]
     },
     "execution_count": 81,
     "metadata": {},
     "output_type": "execute_result"
    }
   ],
   "source": [
    "df.head()"
   ]
  },
  {
   "cell_type": "code",
   "execution_count": 83,
   "metadata": {},
   "outputs": [
    {
     "data": {
      "text/html": [
       "<div>\n",
       "<style scoped>\n",
       "    .dataframe tbody tr th:only-of-type {\n",
       "        vertical-align: middle;\n",
       "    }\n",
       "\n",
       "    .dataframe tbody tr th {\n",
       "        vertical-align: top;\n",
       "    }\n",
       "\n",
       "    .dataframe thead th {\n",
       "        text-align: right;\n",
       "    }\n",
       "</style>\n",
       "<table border=\"1\" class=\"dataframe\">\n",
       "  <thead>\n",
       "    <tr style=\"text-align: right;\">\n",
       "      <th></th>\n",
       "      <th>Period</th>\n",
       "      <th>Activity</th>\n",
       "      <th>Source</th>\n",
       "      <th>Destination</th>\n",
       "      <th>Energy</th>\n",
       "      <th>Total_Value</th>\n",
       "      <th>Price</th>\n",
       "      <th>S_latitude</th>\n",
       "      <th>S_longitude</th>\n",
       "      <th>D_latitude</th>\n",
       "      <th>D_longitude</th>\n",
       "    </tr>\n",
       "  </thead>\n",
       "  <tbody>\n",
       "    <tr>\n",
       "      <th>0</th>\n",
       "      <td>1990-01-01</td>\n",
       "      <td>Exports</td>\n",
       "      <td>British Columbia</td>\n",
       "      <td>Alaska</td>\n",
       "      <td>75.1960</td>\n",
       "      <td>4.536000e+03</td>\n",
       "      <td>60.320000</td>\n",
       "      <td>55.001251</td>\n",
       "      <td>-125.002441</td>\n",
       "      <td>64.445961</td>\n",
       "      <td>-149.680909</td>\n",
       "    </tr>\n",
       "    <tr>\n",
       "      <th>1</th>\n",
       "      <td>1990-01-01</td>\n",
       "      <td>Exports</td>\n",
       "      <td>British Columbia</td>\n",
       "      <td>California</td>\n",
       "      <td>345904.0000</td>\n",
       "      <td>1.114460e+07</td>\n",
       "      <td>32.220001</td>\n",
       "      <td>55.001251</td>\n",
       "      <td>-125.002441</td>\n",
       "      <td>36.701463</td>\n",
       "      <td>-118.755997</td>\n",
       "    </tr>\n",
       "    <tr>\n",
       "      <th>2</th>\n",
       "      <td>1990-01-01</td>\n",
       "      <td>Exports</td>\n",
       "      <td>British Columbia</td>\n",
       "      <td>Oregon</td>\n",
       "      <td>148800.0000</td>\n",
       "      <td>4.770498e+06</td>\n",
       "      <td>32.060001</td>\n",
       "      <td>55.001251</td>\n",
       "      <td>-125.002441</td>\n",
       "      <td>43.979280</td>\n",
       "      <td>-120.737257</td>\n",
       "    </tr>\n",
       "    <tr>\n",
       "      <th>3</th>\n",
       "      <td>1990-01-01</td>\n",
       "      <td>Exports</td>\n",
       "      <td>British Columbia</td>\n",
       "      <td>Washington</td>\n",
       "      <td>1982.4000</td>\n",
       "      <td>8.096000e+04</td>\n",
       "      <td>40.840000</td>\n",
       "      <td>55.001251</td>\n",
       "      <td>-125.002441</td>\n",
       "      <td>38.894992</td>\n",
       "      <td>-77.036558</td>\n",
       "    </tr>\n",
       "    <tr>\n",
       "      <th>4</th>\n",
       "      <td>1990-01-01</td>\n",
       "      <td>Exports</td>\n",
       "      <td>Manitoba</td>\n",
       "      <td>Minnesota</td>\n",
       "      <td>5100.4240</td>\n",
       "      <td>1.290514e+05</td>\n",
       "      <td>25.299999</td>\n",
       "      <td>55.001251</td>\n",
       "      <td>-97.001038</td>\n",
       "      <td>45.989659</td>\n",
       "      <td>-94.611329</td>\n",
       "    </tr>\n",
       "    <tr>\n",
       "      <th>...</th>\n",
       "      <td>...</td>\n",
       "      <td>...</td>\n",
       "      <td>...</td>\n",
       "      <td>...</td>\n",
       "      <td>...</td>\n",
       "      <td>...</td>\n",
       "      <td>...</td>\n",
       "      <td>...</td>\n",
       "      <td>...</td>\n",
       "      <td>...</td>\n",
       "      <td>...</td>\n",
       "    </tr>\n",
       "    <tr>\n",
       "      <th>17346</th>\n",
       "      <td>2021-03-01</td>\n",
       "      <td>Imports</td>\n",
       "      <td>New York</td>\n",
       "      <td>Québec</td>\n",
       "      <td>1924.0000</td>\n",
       "      <td>1.031400e+05</td>\n",
       "      <td>53.610001</td>\n",
       "      <td>40.712728</td>\n",
       "      <td>-74.006015</td>\n",
       "      <td>52.476089</td>\n",
       "      <td>-71.825867</td>\n",
       "    </tr>\n",
       "    <tr>\n",
       "      <th>17347</th>\n",
       "      <td>2021-03-01</td>\n",
       "      <td>Imports</td>\n",
       "      <td>North Dakota</td>\n",
       "      <td>Saskatchewan</td>\n",
       "      <td>3604.0000</td>\n",
       "      <td>-1.776333e+04</td>\n",
       "      <td>-4.930000</td>\n",
       "      <td>47.620146</td>\n",
       "      <td>-100.540737</td>\n",
       "      <td>55.532126</td>\n",
       "      <td>-106.141224</td>\n",
       "    </tr>\n",
       "    <tr>\n",
       "      <th>17348</th>\n",
       "      <td>2021-03-01</td>\n",
       "      <td>Imports</td>\n",
       "      <td>Oregon</td>\n",
       "      <td>British Columbia</td>\n",
       "      <td>11509.9998</td>\n",
       "      <td>2.193562e+05</td>\n",
       "      <td>19.059999</td>\n",
       "      <td>43.979280</td>\n",
       "      <td>-120.737257</td>\n",
       "      <td>55.001251</td>\n",
       "      <td>-125.002441</td>\n",
       "    </tr>\n",
       "    <tr>\n",
       "      <th>17349</th>\n",
       "      <td>2021-03-01</td>\n",
       "      <td>Imports</td>\n",
       "      <td>Washington</td>\n",
       "      <td>Alberta</td>\n",
       "      <td>36203.0000</td>\n",
       "      <td>1.277322e+06</td>\n",
       "      <td>35.279999</td>\n",
       "      <td>38.894992</td>\n",
       "      <td>-77.036558</td>\n",
       "      <td>55.001251</td>\n",
       "      <td>-115.002136</td>\n",
       "    </tr>\n",
       "    <tr>\n",
       "      <th>17350</th>\n",
       "      <td>2021-03-01</td>\n",
       "      <td>Imports</td>\n",
       "      <td>Washington</td>\n",
       "      <td>British Columbia</td>\n",
       "      <td>493092.0000</td>\n",
       "      <td>1.620655e+07</td>\n",
       "      <td>32.869999</td>\n",
       "      <td>38.894992</td>\n",
       "      <td>-77.036558</td>\n",
       "      <td>55.001251</td>\n",
       "      <td>-125.002441</td>\n",
       "    </tr>\n",
       "  </tbody>\n",
       "</table>\n",
       "<p>17351 rows × 11 columns</p>\n",
       "</div>"
      ],
      "text/plain": [
       "          Period Activity            Source       Destination       Energy  \\\n",
       "0     1990-01-01  Exports  British Columbia            Alaska      75.1960   \n",
       "1     1990-01-01  Exports  British Columbia        California  345904.0000   \n",
       "2     1990-01-01  Exports  British Columbia            Oregon  148800.0000   \n",
       "3     1990-01-01  Exports  British Columbia        Washington    1982.4000   \n",
       "4     1990-01-01  Exports          Manitoba         Minnesota    5100.4240   \n",
       "...          ...      ...               ...               ...          ...   \n",
       "17346 2021-03-01  Imports          New York            Québec    1924.0000   \n",
       "17347 2021-03-01  Imports      North Dakota      Saskatchewan    3604.0000   \n",
       "17348 2021-03-01  Imports            Oregon  British Columbia   11509.9998   \n",
       "17349 2021-03-01  Imports        Washington           Alberta   36203.0000   \n",
       "17350 2021-03-01  Imports        Washington  British Columbia  493092.0000   \n",
       "\n",
       "        Total_Value      Price  S_latitude  S_longitude  D_latitude  \\\n",
       "0      4.536000e+03  60.320000   55.001251  -125.002441   64.445961   \n",
       "1      1.114460e+07  32.220001   55.001251  -125.002441   36.701463   \n",
       "2      4.770498e+06  32.060001   55.001251  -125.002441   43.979280   \n",
       "3      8.096000e+04  40.840000   55.001251  -125.002441   38.894992   \n",
       "4      1.290514e+05  25.299999   55.001251   -97.001038   45.989659   \n",
       "...             ...        ...         ...          ...         ...   \n",
       "17346  1.031400e+05  53.610001   40.712728   -74.006015   52.476089   \n",
       "17347 -1.776333e+04  -4.930000   47.620146  -100.540737   55.532126   \n",
       "17348  2.193562e+05  19.059999   43.979280  -120.737257   55.001251   \n",
       "17349  1.277322e+06  35.279999   38.894992   -77.036558   55.001251   \n",
       "17350  1.620655e+07  32.869999   38.894992   -77.036558   55.001251   \n",
       "\n",
       "       D_longitude  \n",
       "0      -149.680909  \n",
       "1      -118.755997  \n",
       "2      -120.737257  \n",
       "3       -77.036558  \n",
       "4       -94.611329  \n",
       "...            ...  \n",
       "17346   -71.825867  \n",
       "17347  -106.141224  \n",
       "17348  -125.002441  \n",
       "17349  -115.002136  \n",
       "17350  -125.002441  \n",
       "\n",
       "[17351 rows x 11 columns]"
      ]
     },
     "execution_count": 83,
     "metadata": {},
     "output_type": "execute_result"
    }
   ],
   "source": [
    "# lets reset index\n",
    "df.reset_index(drop=True)\n"
   ]
  },
  {
   "cell_type": "code",
   "execution_count": 84,
   "metadata": {},
   "outputs": [
    {
     "name": "stdout",
     "output_type": "stream",
     "text": [
      "<class 'pandas.core.frame.DataFrame'>\n",
      "Int64Index: 17351 entries, 0 to 36619\n",
      "Data columns (total 11 columns):\n",
      " #   Column       Non-Null Count  Dtype         \n",
      "---  ------       --------------  -----         \n",
      " 0   Period       17351 non-null  datetime64[ns]\n",
      " 1   Activity     17351 non-null  object        \n",
      " 2   Source       17351 non-null  object        \n",
      " 3   Destination  17351 non-null  object        \n",
      " 4   Energy       17351 non-null  float64       \n",
      " 5   Total_Value  17351 non-null  float64       \n",
      " 6   Price        17351 non-null  float64       \n",
      " 7   S_latitude   17351 non-null  float64       \n",
      " 8   S_longitude  17351 non-null  float64       \n",
      " 9   D_latitude   17351 non-null  float64       \n",
      " 10  D_longitude  17351 non-null  float64       \n",
      "dtypes: datetime64[ns](1), float64(7), object(3)\n",
      "memory usage: 2.2+ MB\n"
     ]
    }
   ],
   "source": [
    "df.info()"
   ]
  },
  {
   "cell_type": "markdown",
   "metadata": {},
   "source": [
    "### Lets do more visualizations"
   ]
  },
  {
   "cell_type": "code",
   "execution_count": 85,
   "metadata": {},
   "outputs": [
    {
     "data": {
      "image/png": "[encoded data removed]",
      "text/plain": [
       "<Figure size 1800x1080 with 9 Axes>"
      ]
     },
     "metadata": {
      "needs_background": "light"
     },
     "output_type": "display_data"
    }
   ],
   "source": [
    "df.hist(figsize=(25, 15))\n",
    "plt.subplots_adjust(hspace=1)"
   ]
  },
  {
   "cell_type": "code",
   "execution_count": 86,
   "metadata": {},
   "outputs": [
    {
     "data": {
      "text/html": [
       "<div>\n",
       "<style scoped>\n",
       "    .dataframe tbody tr th:only-of-type {\n",
       "        vertical-align: middle;\n",
       "    }\n",
       "\n",
       "    .dataframe tbody tr th {\n",
       "        vertical-align: top;\n",
       "    }\n",
       "\n",
       "    .dataframe thead th {\n",
       "        text-align: right;\n",
       "    }\n",
       "</style>\n",
       "<table border=\"1\" class=\"dataframe\">\n",
       "  <thead>\n",
       "    <tr style=\"text-align: right;\">\n",
       "      <th></th>\n",
       "      <th>Total_Value</th>\n",
       "    </tr>\n",
       "    <tr>\n",
       "      <th>Period</th>\n",
       "      <th></th>\n",
       "    </tr>\n",
       "  </thead>\n",
       "  <tbody>\n",
       "    <tr>\n",
       "      <th>1990</th>\n",
       "      <td>1.135287e+09</td>\n",
       "    </tr>\n",
       "    <tr>\n",
       "      <th>1991</th>\n",
       "      <td>6.342699e+08</td>\n",
       "    </tr>\n",
       "    <tr>\n",
       "      <th>1992</th>\n",
       "      <td>7.751095e+08</td>\n",
       "    </tr>\n",
       "    <tr>\n",
       "      <th>1993</th>\n",
       "      <td>9.425052e+08</td>\n",
       "    </tr>\n",
       "    <tr>\n",
       "      <th>1994</th>\n",
       "      <td>1.372487e+09</td>\n",
       "    </tr>\n",
       "    <tr>\n",
       "      <th>1995</th>\n",
       "      <td>1.262512e+09</td>\n",
       "    </tr>\n",
       "    <tr>\n",
       "      <th>1996</th>\n",
       "      <td>1.326286e+09</td>\n",
       "    </tr>\n",
       "    <tr>\n",
       "      <th>1997</th>\n",
       "      <td>1.588744e+09</td>\n",
       "    </tr>\n",
       "    <tr>\n",
       "      <th>1998</th>\n",
       "      <td>1.919046e+09</td>\n",
       "    </tr>\n",
       "    <tr>\n",
       "      <th>1999</th>\n",
       "      <td>2.310995e+09</td>\n",
       "    </tr>\n",
       "    <tr>\n",
       "      <th>2000</th>\n",
       "      <td>4.711238e+09</td>\n",
       "    </tr>\n",
       "    <tr>\n",
       "      <th>2001</th>\n",
       "      <td>6.060970e+09</td>\n",
       "    </tr>\n",
       "    <tr>\n",
       "      <th>2002</th>\n",
       "      <td>2.481022e+09</td>\n",
       "    </tr>\n",
       "    <tr>\n",
       "      <th>2003</th>\n",
       "      <td>3.033796e+09</td>\n",
       "    </tr>\n",
       "    <tr>\n",
       "      <th>2004</th>\n",
       "      <td>3.093336e+09</td>\n",
       "    </tr>\n",
       "    <tr>\n",
       "      <th>2005</th>\n",
       "      <td>4.337231e+09</td>\n",
       "    </tr>\n",
       "    <tr>\n",
       "      <th>2006</th>\n",
       "      <td>3.492880e+09</td>\n",
       "    </tr>\n",
       "    <tr>\n",
       "      <th>2007</th>\n",
       "      <td>4.087185e+09</td>\n",
       "    </tr>\n",
       "    <tr>\n",
       "      <th>2008</th>\n",
       "      <td>5.085004e+09</td>\n",
       "    </tr>\n",
       "    <tr>\n",
       "      <th>2009</th>\n",
       "      <td>3.007853e+09</td>\n",
       "    </tr>\n",
       "    <tr>\n",
       "      <th>2010</th>\n",
       "      <td>2.651994e+09</td>\n",
       "    </tr>\n",
       "    <tr>\n",
       "      <th>2011</th>\n",
       "      <td>2.363624e+09</td>\n",
       "    </tr>\n",
       "    <tr>\n",
       "      <th>2012</th>\n",
       "      <td>2.061658e+09</td>\n",
       "    </tr>\n",
       "    <tr>\n",
       "      <th>2013</th>\n",
       "      <td>2.769714e+09</td>\n",
       "    </tr>\n",
       "    <tr>\n",
       "      <th>2014</th>\n",
       "      <td>3.458321e+09</td>\n",
       "    </tr>\n",
       "    <tr>\n",
       "      <th>2015</th>\n",
       "      <td>3.384657e+09</td>\n",
       "    </tr>\n",
       "    <tr>\n",
       "      <th>2016</th>\n",
       "      <td>3.134444e+09</td>\n",
       "    </tr>\n",
       "    <tr>\n",
       "      <th>2017</th>\n",
       "      <td>3.160931e+09</td>\n",
       "    </tr>\n",
       "    <tr>\n",
       "      <th>2018</th>\n",
       "      <td>3.410908e+09</td>\n",
       "    </tr>\n",
       "    <tr>\n",
       "      <th>2019</th>\n",
       "      <td>3.102940e+09</td>\n",
       "    </tr>\n",
       "    <tr>\n",
       "      <th>2020</th>\n",
       "      <td>2.866734e+09</td>\n",
       "    </tr>\n",
       "    <tr>\n",
       "      <th>2021</th>\n",
       "      <td>8.880114e+08</td>\n",
       "    </tr>\n",
       "  </tbody>\n",
       "</table>\n",
       "</div>"
      ],
      "text/plain": [
       "         Total_Value\n",
       "Period              \n",
       "1990    1.135287e+09\n",
       "1991    6.342699e+08\n",
       "1992    7.751095e+08\n",
       "1993    9.425052e+08\n",
       "1994    1.372487e+09\n",
       "1995    1.262512e+09\n",
       "1996    1.326286e+09\n",
       "1997    1.588744e+09\n",
       "1998    1.919046e+09\n",
       "1999    2.310995e+09\n",
       "2000    4.711238e+09\n",
       "2001    6.060970e+09\n",
       "2002    2.481022e+09\n",
       "2003    3.033796e+09\n",
       "2004    3.093336e+09\n",
       "2005    4.337231e+09\n",
       "2006    3.492880e+09\n",
       "2007    4.087185e+09\n",
       "2008    5.085004e+09\n",
       "2009    3.007853e+09\n",
       "2010    2.651994e+09\n",
       "2011    2.363624e+09\n",
       "2012    2.061658e+09\n",
       "2013    2.769714e+09\n",
       "2014    3.458321e+09\n",
       "2015    3.384657e+09\n",
       "2016    3.134444e+09\n",
       "2017    3.160931e+09\n",
       "2018    3.410908e+09\n",
       "2019    3.102940e+09\n",
       "2020    2.866734e+09\n",
       "2021    8.880114e+08"
      ]
     },
     "execution_count": 86,
     "metadata": {},
     "output_type": "execute_result"
    }
   ],
   "source": [
    "# Total value of electricity by years\n",
    "df[['Period', 'Total_Value']].groupby(df['Period'].dt.year).sum()"
   ]
  },
  {
   "cell_type": "code",
   "execution_count": 87,
   "metadata": {},
   "outputs": [
    {
     "data": {
      "text/plain": [
       "<AxesSubplot:xlabel='Period'>"
      ]
     },
     "execution_count": 87,
     "metadata": {},
     "output_type": "execute_result"
    },
    {
     "data": {
      "image/png": "[encoded data removed]",
      "text/plain": [
       "<Figure size 432x288 with 1 Axes>"
      ]
     },
     "metadata": {
      "needs_background": "light"
     },
     "output_type": "display_data"
    }
   ],
   "source": [
    "df[['Period', 'Total_Value']].groupby(df['Period'].dt.year).sum().plot()"
   ]
  },
  {
   "cell_type": "code",
   "execution_count": 88,
   "metadata": {},
   "outputs": [
    {
     "data": {
      "text/html": [
       "<div>\n",
       "<style scoped>\n",
       "    .dataframe tbody tr th:only-of-type {\n",
       "        vertical-align: middle;\n",
       "    }\n",
       "\n",
       "    .dataframe tbody tr th {\n",
       "        vertical-align: top;\n",
       "    }\n",
       "\n",
       "    .dataframe thead th {\n",
       "        text-align: right;\n",
       "    }\n",
       "</style>\n",
       "<table border=\"1\" class=\"dataframe\">\n",
       "  <thead>\n",
       "    <tr style=\"text-align: right;\">\n",
       "      <th></th>\n",
       "      <th></th>\n",
       "      <th>Total_Value</th>\n",
       "    </tr>\n",
       "    <tr>\n",
       "      <th>Period</th>\n",
       "      <th>Activity</th>\n",
       "      <th></th>\n",
       "    </tr>\n",
       "  </thead>\n",
       "  <tbody>\n",
       "    <tr>\n",
       "      <th rowspan=\"2\" valign=\"top\">1990</th>\n",
       "      <th>Exports</th>\n",
       "      <td>5.793857e+08</td>\n",
       "    </tr>\n",
       "    <tr>\n",
       "      <th>Imports</th>\n",
       "      <td>5.559010e+08</td>\n",
       "    </tr>\n",
       "    <tr>\n",
       "      <th rowspan=\"2\" valign=\"top\">1991</th>\n",
       "      <th>Exports</th>\n",
       "      <td>5.591236e+08</td>\n",
       "    </tr>\n",
       "    <tr>\n",
       "      <th>Imports</th>\n",
       "      <td>7.514624e+07</td>\n",
       "    </tr>\n",
       "    <tr>\n",
       "      <th>1992</th>\n",
       "      <th>Exports</th>\n",
       "      <td>6.979086e+08</td>\n",
       "    </tr>\n",
       "    <tr>\n",
       "      <th>...</th>\n",
       "      <th>...</th>\n",
       "      <td>...</td>\n",
       "    </tr>\n",
       "    <tr>\n",
       "      <th>2019</th>\n",
       "      <th>Imports</th>\n",
       "      <td>5.912061e+08</td>\n",
       "    </tr>\n",
       "    <tr>\n",
       "      <th rowspan=\"2\" valign=\"top\">2020</th>\n",
       "      <th>Exports</th>\n",
       "      <td>2.573527e+09</td>\n",
       "    </tr>\n",
       "    <tr>\n",
       "      <th>Imports</th>\n",
       "      <td>2.932068e+08</td>\n",
       "    </tr>\n",
       "    <tr>\n",
       "      <th rowspan=\"2\" valign=\"top\">2021</th>\n",
       "      <th>Exports</th>\n",
       "      <td>7.452697e+08</td>\n",
       "    </tr>\n",
       "    <tr>\n",
       "      <th>Imports</th>\n",
       "      <td>1.427417e+08</td>\n",
       "    </tr>\n",
       "  </tbody>\n",
       "</table>\n",
       "<p>64 rows × 1 columns</p>\n",
       "</div>"
      ],
      "text/plain": [
       "                  Total_Value\n",
       "Period Activity              \n",
       "1990   Exports   5.793857e+08\n",
       "       Imports   5.559010e+08\n",
       "1991   Exports   5.591236e+08\n",
       "       Imports   7.514624e+07\n",
       "1992   Exports   6.979086e+08\n",
       "...                       ...\n",
       "2019   Imports   5.912061e+08\n",
       "2020   Exports   2.573527e+09\n",
       "       Imports   2.932068e+08\n",
       "2021   Exports   7.452697e+08\n",
       "       Imports   1.427417e+08\n",
       "\n",
       "[64 rows x 1 columns]"
      ]
     },
     "execution_count": 88,
     "metadata": {},
     "output_type": "execute_result"
    }
   ],
   "source": [
    "# lets see separate values for import and export by year\n",
    "df[['Period', 'Total_Value', 'Activity']].groupby([df['Period'].dt.year,'Activity']).sum()"
   ]
  },
  {
   "cell_type": "code",
   "execution_count": 89,
   "metadata": {},
   "outputs": [],
   "source": [
    "di = df[df['Activity']=='Imports']\n",
    "de = df[df['Activity']=='Exports']"
   ]
  },
  {
   "cell_type": "code",
   "execution_count": 90,
   "metadata": {},
   "outputs": [
    {
     "data": {
      "text/html": [
       "<div>\n",
       "<style scoped>\n",
       "    .dataframe tbody tr th:only-of-type {\n",
       "        vertical-align: middle;\n",
       "    }\n",
       "\n",
       "    .dataframe tbody tr th {\n",
       "        vertical-align: top;\n",
       "    }\n",
       "\n",
       "    .dataframe thead th {\n",
       "        text-align: right;\n",
       "    }\n",
       "</style>\n",
       "<table border=\"1\" class=\"dataframe\">\n",
       "  <thead>\n",
       "    <tr style=\"text-align: right;\">\n",
       "      <th></th>\n",
       "      <th>Total_Value</th>\n",
       "    </tr>\n",
       "    <tr>\n",
       "      <th>Period</th>\n",
       "      <th></th>\n",
       "    </tr>\n",
       "  </thead>\n",
       "  <tbody>\n",
       "    <tr>\n",
       "      <th>1990</th>\n",
       "      <td>5.559010e+08</td>\n",
       "    </tr>\n",
       "    <tr>\n",
       "      <th>1991</th>\n",
       "      <td>7.514624e+07</td>\n",
       "    </tr>\n",
       "    <tr>\n",
       "      <th>1992</th>\n",
       "      <td>7.720083e+07</td>\n",
       "    </tr>\n",
       "    <tr>\n",
       "      <th>1993</th>\n",
       "      <td>8.477848e+07</td>\n",
       "    </tr>\n",
       "    <tr>\n",
       "      <th>1994</th>\n",
       "      <td>4.386362e+07</td>\n",
       "    </tr>\n",
       "    <tr>\n",
       "      <th>1995</th>\n",
       "      <td>7.776412e+07</td>\n",
       "    </tr>\n",
       "    <tr>\n",
       "      <th>1996</th>\n",
       "      <td>1.081168e+08</td>\n",
       "    </tr>\n",
       "    <tr>\n",
       "      <th>1997</th>\n",
       "      <td>2.124576e+08</td>\n",
       "    </tr>\n",
       "    <tr>\n",
       "      <th>1998</th>\n",
       "      <td>3.131926e+08</td>\n",
       "    </tr>\n",
       "    <tr>\n",
       "      <th>1999</th>\n",
       "      <td>3.876331e+08</td>\n",
       "    </tr>\n",
       "    <tr>\n",
       "      <th>2000</th>\n",
       "      <td>6.440936e+08</td>\n",
       "    </tr>\n",
       "    <tr>\n",
       "      <th>2001</th>\n",
       "      <td>1.807940e+09</td>\n",
       "    </tr>\n",
       "    <tr>\n",
       "      <th>2002</th>\n",
       "      <td>6.301770e+08</td>\n",
       "    </tr>\n",
       "    <tr>\n",
       "      <th>2003</th>\n",
       "      <td>1.130542e+09</td>\n",
       "    </tr>\n",
       "    <tr>\n",
       "      <th>2004</th>\n",
       "      <td>1.080217e+09</td>\n",
       "    </tr>\n",
       "    <tr>\n",
       "      <th>2005</th>\n",
       "      <td>1.229815e+09</td>\n",
       "    </tr>\n",
       "    <tr>\n",
       "      <th>2006</th>\n",
       "      <td>1.096569e+09</td>\n",
       "    </tr>\n",
       "    <tr>\n",
       "      <th>2007</th>\n",
       "      <td>9.910968e+08</td>\n",
       "    </tr>\n",
       "    <tr>\n",
       "      <th>2008</th>\n",
       "      <td>1.313034e+09</td>\n",
       "    </tr>\n",
       "    <tr>\n",
       "      <th>2009</th>\n",
       "      <td>6.539979e+08</td>\n",
       "    </tr>\n",
       "    <tr>\n",
       "      <th>2010</th>\n",
       "      <td>6.540010e+08</td>\n",
       "    </tr>\n",
       "    <tr>\n",
       "      <th>2011</th>\n",
       "      <td>3.706757e+08</td>\n",
       "    </tr>\n",
       "    <tr>\n",
       "      <th>2012</th>\n",
       "      <td>2.196806e+08</td>\n",
       "    </tr>\n",
       "    <tr>\n",
       "      <th>2013</th>\n",
       "      <td>3.686985e+08</td>\n",
       "    </tr>\n",
       "    <tr>\n",
       "      <th>2014</th>\n",
       "      <td>5.907950e+08</td>\n",
       "    </tr>\n",
       "    <tr>\n",
       "      <th>2015</th>\n",
       "      <td>3.042931e+08</td>\n",
       "    </tr>\n",
       "    <tr>\n",
       "      <th>2016</th>\n",
       "      <td>2.505294e+08</td>\n",
       "    </tr>\n",
       "    <tr>\n",
       "      <th>2017</th>\n",
       "      <td>2.397099e+08</td>\n",
       "    </tr>\n",
       "    <tr>\n",
       "      <th>2018</th>\n",
       "      <td>5.092459e+08</td>\n",
       "    </tr>\n",
       "    <tr>\n",
       "      <th>2019</th>\n",
       "      <td>5.912061e+08</td>\n",
       "    </tr>\n",
       "    <tr>\n",
       "      <th>2020</th>\n",
       "      <td>2.932068e+08</td>\n",
       "    </tr>\n",
       "    <tr>\n",
       "      <th>2021</th>\n",
       "      <td>1.427417e+08</td>\n",
       "    </tr>\n",
       "  </tbody>\n",
       "</table>\n",
       "</div>"
      ],
      "text/plain": [
       "         Total_Value\n",
       "Period              \n",
       "1990    5.559010e+08\n",
       "1991    7.514624e+07\n",
       "1992    7.720083e+07\n",
       "1993    8.477848e+07\n",
       "1994    4.386362e+07\n",
       "1995    7.776412e+07\n",
       "1996    1.081168e+08\n",
       "1997    2.124576e+08\n",
       "1998    3.131926e+08\n",
       "1999    3.876331e+08\n",
       "2000    6.440936e+08\n",
       "2001    1.807940e+09\n",
       "2002    6.301770e+08\n",
       "2003    1.130542e+09\n",
       "2004    1.080217e+09\n",
       "2005    1.229815e+09\n",
       "2006    1.096569e+09\n",
       "2007    9.910968e+08\n",
       "2008    1.313034e+09\n",
       "2009    6.539979e+08\n",
       "2010    6.540010e+08\n",
       "2011    3.706757e+08\n",
       "2012    2.196806e+08\n",
       "2013    3.686985e+08\n",
       "2014    5.907950e+08\n",
       "2015    3.042931e+08\n",
       "2016    2.505294e+08\n",
       "2017    2.397099e+08\n",
       "2018    5.092459e+08\n",
       "2019    5.912061e+08\n",
       "2020    2.932068e+08\n",
       "2021    1.427417e+08"
      ]
     },
     "execution_count": 90,
     "metadata": {},
     "output_type": "execute_result"
    }
   ],
   "source": [
    "di[['Period', 'Total_Value', 'Activity']].groupby(df['Period'].dt.year).sum()\n"
   ]
  },
  {
   "cell_type": "code",
   "execution_count": 91,
   "metadata": {},
   "outputs": [
    {
     "data": {
      "text/html": [
       "<div>\n",
       "<style scoped>\n",
       "    .dataframe tbody tr th:only-of-type {\n",
       "        vertical-align: middle;\n",
       "    }\n",
       "\n",
       "    .dataframe tbody tr th {\n",
       "        vertical-align: top;\n",
       "    }\n",
       "\n",
       "    .dataframe thead th {\n",
       "        text-align: right;\n",
       "    }\n",
       "</style>\n",
       "<table border=\"1\" class=\"dataframe\">\n",
       "  <thead>\n",
       "    <tr style=\"text-align: right;\">\n",
       "      <th></th>\n",
       "      <th>Total_Value</th>\n",
       "    </tr>\n",
       "    <tr>\n",
       "      <th>Period</th>\n",
       "      <th></th>\n",
       "    </tr>\n",
       "  </thead>\n",
       "  <tbody>\n",
       "    <tr>\n",
       "      <th>1990</th>\n",
       "      <td>5.793857e+08</td>\n",
       "    </tr>\n",
       "    <tr>\n",
       "      <th>1991</th>\n",
       "      <td>5.591236e+08</td>\n",
       "    </tr>\n",
       "    <tr>\n",
       "      <th>1992</th>\n",
       "      <td>6.979086e+08</td>\n",
       "    </tr>\n",
       "    <tr>\n",
       "      <th>1993</th>\n",
       "      <td>8.577268e+08</td>\n",
       "    </tr>\n",
       "    <tr>\n",
       "      <th>1994</th>\n",
       "      <td>1.328623e+09</td>\n",
       "    </tr>\n",
       "    <tr>\n",
       "      <th>1995</th>\n",
       "      <td>1.184748e+09</td>\n",
       "    </tr>\n",
       "    <tr>\n",
       "      <th>1996</th>\n",
       "      <td>1.218169e+09</td>\n",
       "    </tr>\n",
       "    <tr>\n",
       "      <th>1997</th>\n",
       "      <td>1.376286e+09</td>\n",
       "    </tr>\n",
       "    <tr>\n",
       "      <th>1998</th>\n",
       "      <td>1.605853e+09</td>\n",
       "    </tr>\n",
       "    <tr>\n",
       "      <th>1999</th>\n",
       "      <td>1.923362e+09</td>\n",
       "    </tr>\n",
       "    <tr>\n",
       "      <th>2000</th>\n",
       "      <td>4.067144e+09</td>\n",
       "    </tr>\n",
       "    <tr>\n",
       "      <th>2001</th>\n",
       "      <td>4.253030e+09</td>\n",
       "    </tr>\n",
       "    <tr>\n",
       "      <th>2002</th>\n",
       "      <td>1.850845e+09</td>\n",
       "    </tr>\n",
       "    <tr>\n",
       "      <th>2003</th>\n",
       "      <td>1.903254e+09</td>\n",
       "    </tr>\n",
       "    <tr>\n",
       "      <th>2004</th>\n",
       "      <td>2.013120e+09</td>\n",
       "    </tr>\n",
       "    <tr>\n",
       "      <th>2005</th>\n",
       "      <td>3.107417e+09</td>\n",
       "    </tr>\n",
       "    <tr>\n",
       "      <th>2006</th>\n",
       "      <td>2.396311e+09</td>\n",
       "    </tr>\n",
       "    <tr>\n",
       "      <th>2007</th>\n",
       "      <td>3.096088e+09</td>\n",
       "    </tr>\n",
       "    <tr>\n",
       "      <th>2008</th>\n",
       "      <td>3.771970e+09</td>\n",
       "    </tr>\n",
       "    <tr>\n",
       "      <th>2009</th>\n",
       "      <td>2.353855e+09</td>\n",
       "    </tr>\n",
       "    <tr>\n",
       "      <th>2010</th>\n",
       "      <td>1.997993e+09</td>\n",
       "    </tr>\n",
       "    <tr>\n",
       "      <th>2011</th>\n",
       "      <td>1.992948e+09</td>\n",
       "    </tr>\n",
       "    <tr>\n",
       "      <th>2012</th>\n",
       "      <td>1.841977e+09</td>\n",
       "    </tr>\n",
       "    <tr>\n",
       "      <th>2013</th>\n",
       "      <td>2.401016e+09</td>\n",
       "    </tr>\n",
       "    <tr>\n",
       "      <th>2014</th>\n",
       "      <td>2.867526e+09</td>\n",
       "    </tr>\n",
       "    <tr>\n",
       "      <th>2015</th>\n",
       "      <td>3.080364e+09</td>\n",
       "    </tr>\n",
       "    <tr>\n",
       "      <th>2016</th>\n",
       "      <td>2.883914e+09</td>\n",
       "    </tr>\n",
       "    <tr>\n",
       "      <th>2017</th>\n",
       "      <td>2.921221e+09</td>\n",
       "    </tr>\n",
       "    <tr>\n",
       "      <th>2018</th>\n",
       "      <td>2.901662e+09</td>\n",
       "    </tr>\n",
       "    <tr>\n",
       "      <th>2019</th>\n",
       "      <td>2.511734e+09</td>\n",
       "    </tr>\n",
       "    <tr>\n",
       "      <th>2020</th>\n",
       "      <td>2.573527e+09</td>\n",
       "    </tr>\n",
       "    <tr>\n",
       "      <th>2021</th>\n",
       "      <td>7.452697e+08</td>\n",
       "    </tr>\n",
       "  </tbody>\n",
       "</table>\n",
       "</div>"
      ],
      "text/plain": [
       "         Total_Value\n",
       "Period              \n",
       "1990    5.793857e+08\n",
       "1991    5.591236e+08\n",
       "1992    6.979086e+08\n",
       "1993    8.577268e+08\n",
       "1994    1.328623e+09\n",
       "1995    1.184748e+09\n",
       "1996    1.218169e+09\n",
       "1997    1.376286e+09\n",
       "1998    1.605853e+09\n",
       "1999    1.923362e+09\n",
       "2000    4.067144e+09\n",
       "2001    4.253030e+09\n",
       "2002    1.850845e+09\n",
       "2003    1.903254e+09\n",
       "2004    2.013120e+09\n",
       "2005    3.107417e+09\n",
       "2006    2.396311e+09\n",
       "2007    3.096088e+09\n",
       "2008    3.771970e+09\n",
       "2009    2.353855e+09\n",
       "2010    1.997993e+09\n",
       "2011    1.992948e+09\n",
       "2012    1.841977e+09\n",
       "2013    2.401016e+09\n",
       "2014    2.867526e+09\n",
       "2015    3.080364e+09\n",
       "2016    2.883914e+09\n",
       "2017    2.921221e+09\n",
       "2018    2.901662e+09\n",
       "2019    2.511734e+09\n",
       "2020    2.573527e+09\n",
       "2021    7.452697e+08"
      ]
     },
     "execution_count": 91,
     "metadata": {},
     "output_type": "execute_result"
    }
   ],
   "source": [
    "de[['Period', 'Total_Value', 'Activity']].groupby(df['Period'].dt.year).sum()"
   ]
  },
  {
   "cell_type": "code",
   "execution_count": 92,
   "metadata": {},
   "outputs": [
    {
     "data": {
      "text/plain": [
       "<AxesSubplot:xlabel='Period', ylabel='Export'>"
      ]
     },
     "execution_count": 92,
     "metadata": {},
     "output_type": "execute_result"
    },
    {
     "data": {
      "image/png": "[encoded data removed]",
      "text/plain": [
       "<Figure size 432x288 with 1 Axes>"
      ]
     },
     "metadata": {
      "needs_background": "light"
     },
     "output_type": "display_data"
    },
    {
     "data": {
      "image/png": "[encoded data removed]",
      "text/plain": [
       "<Figure size 432x288 with 1 Axes>"
      ]
     },
     "metadata": {
      "needs_background": "light"
     },
     "output_type": "display_data"
    }
   ],
   "source": [
    "di[['Period', 'Total_Value', 'Activity']].groupby(df['Period'].dt.year).sum().plot(kind='bar',ylabel='Import')\n",
    "de[['Period', 'Total_Value', 'Activity']].groupby(df['Period'].dt.year).sum().plot(kind='bar', ylabel='Export')\n",
    "\n",
    "\n"
   ]
  },
  {
   "cell_type": "code",
   "execution_count": 93,
   "metadata": {},
   "outputs": [
    {
     "data": {
      "text/plain": [
       "<AxesSubplot:xlabel='Period', ylabel='Export'>"
      ]
     },
     "execution_count": 93,
     "metadata": {},
     "output_type": "execute_result"
    },
    {
     "data": {
      "image/png": "[encoded data removed]",
      "text/plain": [
       "<Figure size 432x288 with 1 Axes>"
      ]
     },
     "metadata": {
      "needs_background": "light"
     },
     "output_type": "display_data"
    },
    {
     "data": {
      "image/png": "[encoded data removed]",
      "text/plain": [
       "<Figure size 432x288 with 1 Axes>"
      ]
     },
     "metadata": {
      "needs_background": "light"
     },
     "output_type": "display_data"
    }
   ],
   "source": [
    "#average value by year\n",
    "di[['Period', 'Total_Value', 'Activity']].groupby(df['Period'].dt.year).mean().plot(kind='bar',ylabel='Import')\n",
    "de[['Period', 'Total_Value', 'Activity']].groupby(df['Period'].dt.year).mean().plot(kind='bar', ylabel='Export')\n",
    "\n"
   ]
  },
  {
   "cell_type": "code",
   "execution_count": 94,
   "metadata": {},
   "outputs": [
    {
     "data": {
      "text/plain": [
       "<AxesSubplot:xlabel='Period', ylabel='Export'>"
      ]
     },
     "execution_count": 94,
     "metadata": {},
     "output_type": "execute_result"
    },
    {
     "data": {
      "image/png": "[encoded data removed]",
      "text/plain": [
       "<Figure size 432x288 with 1 Axes>"
      ]
     },
     "metadata": {
      "needs_background": "light"
     },
     "output_type": "display_data"
    },
    {
     "data": {
      "image/png": "[encoded data removed]",
      "text/plain": [
       "<Figure size 432x288 with 1 Axes>"
      ]
     },
     "metadata": {
      "needs_background": "light"
     },
     "output_type": "display_data"
    }
   ],
   "source": [
    "#average price by yeAR\n",
    "di[['Period', 'Price', 'Activity']].groupby(df['Period'].dt.year).mean().plot(kind='line',ylabel='Import')\n",
    "de[['Period', 'Price', 'Activity']].groupby(df['Period'].dt.year).mean().plot(kind='line', ylabel='Export')"
   ]
  },
  {
   "cell_type": "code",
   "execution_count": null,
   "metadata": {},
   "outputs": [],
   "source": []
  },
  {
   "cell_type": "code",
   "execution_count": null,
   "metadata": {},
   "outputs": [],
   "source": []
  }
 ],
 "metadata": {
  "kernelspec": {
   "display_name": "Python 3",
   "language": "python",
   "name": "python3"
  },
  "language_info": {
   "codemirror_mode": {
    "name": "ipython",
    "version": 3
   },
   "file_extension": ".py",
   "mimetype": "text/x-python",
   "name": "python",
   "nbconvert_exporter": "python",
   "pygments_lexer": "ipython3",
   "version": "3.8.5"
  }
 },
 "nbformat": 4,
 "nbformat_minor": 4
}
