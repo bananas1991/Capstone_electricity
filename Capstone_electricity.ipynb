{
 "cells": [
  {
   "cell_type": "markdown",
   "metadata": {},
   "source": [
    "# CAPSTONE - Electricity\n",
    "    "
   ]
  },
  {
   "cell_type": "code",
   "execution_count": 107,
   "metadata": {},
   "outputs": [],
   "source": [
    "\n",
    "#let's import below packages:\n",
    "\n",
    "import numpy as np\n",
    "import pandas as pd\n",
    "import matplotlib.pyplot as plt\n",
    "import seaborn as sns\n",
    "import os \n",
    "from datetime import datetime"
   ]
  },
  {
   "cell_type": "code",
   "execution_count": 108,
   "metadata": {},
   "outputs": [
    {
     "data": {
      "text/plain": [
       "'/Users/markoglodovic/Documents/Springboard_projects/Electricity'"
      ]
     },
     "execution_count": 108,
     "metadata": {},
     "output_type": "execute_result"
    }
   ],
   "source": [
    "# First let's find current Directory:\n",
    "os.getcwd()"
   ]
  },
  {
   "cell_type": "code",
   "execution_count": 109,
   "metadata": {},
   "outputs": [],
   "source": [
    "# Changing the directory:\n",
    "os.chdir(r'/Users/markoglodovic/Documents/Springboard_projects/Electricity')"
   ]
  },
  {
   "cell_type": "code",
   "execution_count": 110,
   "metadata": {},
   "outputs": [
    {
     "data": {
      "text/plain": [
       "'/Users/markoglodovic/Documents/Springboard_projects/Electricity'"
      ]
     },
     "execution_count": 110,
     "metadata": {},
     "output_type": "execute_result"
    }
   ],
   "source": [
    "os.getcwd()"
   ]
  },
  {
   "cell_type": "markdown",
   "metadata": {},
   "source": [
    "## The Data wrangling step focuses on collecting our data, organizing it, and making sure it's well defined. For our project we have collected below dataset to have a good foundation to build a Machine Learning model where we can provide a good estimate of future tendecies regarding electricity needs in USA and CANADA."
   ]
  },
  {
   "cell_type": "code",
   "execution_count": 111,
   "metadata": {},
   "outputs": [],
   "source": [
    "df = pd.read_csv('/Users/markoglodovic/Downloads/electricity-exports-and-imports-monthly.csv',    encoding='latin-1')"
   ]
  },
  {
   "cell_type": "markdown",
   "metadata": {},
   "source": [
    "We will need to Clean NANs, duplicate values, wrong values and removing insignificant columns.\n"
   ]
  },
  {
   "cell_type": "code",
   "execution_count": 112,
   "metadata": {},
   "outputs": [
    {
     "data": {
      "text/html": [
       "<div>\n",
       "<style scoped>\n",
       "    .dataframe tbody tr th:only-of-type {\n",
       "        vertical-align: middle;\n",
       "    }\n",
       "\n",
       "    .dataframe tbody tr th {\n",
       "        vertical-align: top;\n",
       "    }\n",
       "\n",
       "    .dataframe thead th {\n",
       "        text-align: right;\n",
       "    }\n",
       "</style>\n",
       "<table border=\"1\" class=\"dataframe\">\n",
       "  <thead>\n",
       "    <tr style=\"text-align: right;\">\n",
       "      <th></th>\n",
       "      <th>Period</th>\n",
       "      <th>Activity</th>\n",
       "      <th>Source</th>\n",
       "      <th>Destination</th>\n",
       "      <th>Energy (MW.h)</th>\n",
       "      <th>Total Value (CAN$)</th>\n",
       "      <th>Price (CAN$/MW.h)</th>\n",
       "    </tr>\n",
       "  </thead>\n",
       "  <tbody>\n",
       "    <tr>\n",
       "      <th>0</th>\n",
       "      <td>01/01/1990</td>\n",
       "      <td>Exports</td>\n",
       "      <td>British Columbia</td>\n",
       "      <td>Alaska</td>\n",
       "      <td>75.196</td>\n",
       "      <td>4536.00</td>\n",
       "      <td>60.32</td>\n",
       "    </tr>\n",
       "    <tr>\n",
       "      <th>1</th>\n",
       "      <td>01/01/1990</td>\n",
       "      <td>Exports</td>\n",
       "      <td>British Columbia</td>\n",
       "      <td>California</td>\n",
       "      <td>345904.000</td>\n",
       "      <td>11144596.03</td>\n",
       "      <td>32.22</td>\n",
       "    </tr>\n",
       "    <tr>\n",
       "      <th>2</th>\n",
       "      <td>01/01/1990</td>\n",
       "      <td>Exports</td>\n",
       "      <td>British Columbia</td>\n",
       "      <td>Oregon</td>\n",
       "      <td>148800.000</td>\n",
       "      <td>4770498.00</td>\n",
       "      <td>32.06</td>\n",
       "    </tr>\n",
       "    <tr>\n",
       "      <th>3</th>\n",
       "      <td>01/01/1990</td>\n",
       "      <td>Exports</td>\n",
       "      <td>British Columbia</td>\n",
       "      <td>Total</td>\n",
       "      <td>496761.596</td>\n",
       "      <td>16000590.03</td>\n",
       "      <td>32.21</td>\n",
       "    </tr>\n",
       "    <tr>\n",
       "      <th>4</th>\n",
       "      <td>01/01/1990</td>\n",
       "      <td>Exports</td>\n",
       "      <td>British Columbia</td>\n",
       "      <td>Washington</td>\n",
       "      <td>1982.400</td>\n",
       "      <td>80960.00</td>\n",
       "      <td>40.84</td>\n",
       "    </tr>\n",
       "  </tbody>\n",
       "</table>\n",
       "</div>"
      ],
      "text/plain": [
       "       Period Activity            Source Destination  Energy (MW.h)  \\\n",
       "0  01/01/1990  Exports  British Columbia      Alaska         75.196   \n",
       "1  01/01/1990  Exports  British Columbia  California     345904.000   \n",
       "2  01/01/1990  Exports  British Columbia      Oregon     148800.000   \n",
       "3  01/01/1990  Exports  British Columbia       Total     496761.596   \n",
       "4  01/01/1990  Exports  British Columbia  Washington       1982.400   \n",
       "\n",
       "   Total Value (CAN$) Price (CAN$/MW.h)  \n",
       "0             4536.00             60.32  \n",
       "1         11144596.03             32.22  \n",
       "2          4770498.00             32.06  \n",
       "3         16000590.03             32.21  \n",
       "4            80960.00             40.84  "
      ]
     },
     "execution_count": 112,
     "metadata": {},
     "output_type": "execute_result"
    }
   ],
   "source": [
    "# lets check the Dataframe we got\n",
    "df.head()"
   ]
  },
  {
   "cell_type": "code",
   "execution_count": 113,
   "metadata": {},
   "outputs": [
    {
     "data": {
      "text/plain": [
       "Period                 object\n",
       "Activity               object\n",
       "Source                 object\n",
       "Destination            object\n",
       "Energy (MW.h)         float64\n",
       "Total Value (CAN$)    float64\n",
       "Price (CAN$/MW.h)      object\n",
       "dtype: object"
      ]
     },
     "execution_count": 113,
     "metadata": {},
     "output_type": "execute_result"
    }
   ],
   "source": [
    "# let's check the data types in the df:\n",
    "df.dtypes"
   ]
  },
  {
   "cell_type": "markdown",
   "metadata": {},
   "source": [
    "#### So the data types need to be changed "
   ]
  },
  {
   "cell_type": "code",
   "execution_count": 114,
   "metadata": {},
   "outputs": [],
   "source": [
    "# let's change 'Perid' data type from 'object' to 'datetime':\n",
    "df['Period']=pd.to_datetime(df['Period'])"
   ]
  },
  {
   "cell_type": "code",
   "execution_count": 115,
   "metadata": {},
   "outputs": [],
   "source": [
    "# second we need to change 'Price' data type from 'object' to 'float64'\n",
    "df['Price (CAN$/MW.h)'] = df['Price (CAN$/MW.h)'].apply(pd.to_numeric, downcast='float', errors='coerce')"
   ]
  },
  {
   "cell_type": "code",
   "execution_count": 116,
   "metadata": {},
   "outputs": [
    {
     "data": {
      "text/plain": [
       "Period                datetime64[ns]\n",
       "Activity                      object\n",
       "Source                        object\n",
       "Destination                   object\n",
       "Energy (MW.h)                float64\n",
       "Total Value (CAN$)           float64\n",
       "Price (CAN$/MW.h)            float64\n",
       "dtype: object"
      ]
     },
     "execution_count": 116,
     "metadata": {},
     "output_type": "execute_result"
    }
   ],
   "source": [
    "# let's check the data types in the df:\n",
    "df.dtypes"
   ]
  },
  {
   "cell_type": "markdown",
   "metadata": {},
   "source": [
    "### Data types are corrected"
   ]
  },
  {
   "cell_type": "code",
   "execution_count": 117,
   "metadata": {},
   "outputs": [
    {
     "data": {
      "text/plain": [
       "Period                  0\n",
       "Activity                0\n",
       "Source                  0\n",
       "Destination             6\n",
       "Energy (MW.h)           0\n",
       "Total Value (CAN$)      0\n",
       "Price (CAN$/MW.h)     573\n",
       "dtype: int64"
      ]
     },
     "execution_count": 117,
     "metadata": {},
     "output_type": "execute_result"
    }
   ],
   "source": [
    "# let's check if we have any NANs: \n",
    "df.isnull().sum()"
   ]
  },
  {
   "cell_type": "code",
   "execution_count": 118,
   "metadata": {},
   "outputs": [
    {
     "data": {
      "text/html": [
       "<div>\n",
       "<style scoped>\n",
       "    .dataframe tbody tr th:only-of-type {\n",
       "        vertical-align: middle;\n",
       "    }\n",
       "\n",
       "    .dataframe tbody tr th {\n",
       "        vertical-align: top;\n",
       "    }\n",
       "\n",
       "    .dataframe thead th {\n",
       "        text-align: right;\n",
       "    }\n",
       "</style>\n",
       "<table border=\"1\" class=\"dataframe\">\n",
       "  <thead>\n",
       "    <tr style=\"text-align: right;\">\n",
       "      <th></th>\n",
       "      <th>count</th>\n",
       "      <th>%</th>\n",
       "    </tr>\n",
       "  </thead>\n",
       "  <tbody>\n",
       "    <tr>\n",
       "      <th>Price (CAN$/MW.h)</th>\n",
       "      <td>573</td>\n",
       "      <td>1.564676</td>\n",
       "    </tr>\n",
       "    <tr>\n",
       "      <th>Destination</th>\n",
       "      <td>6</td>\n",
       "      <td>0.016384</td>\n",
       "    </tr>\n",
       "    <tr>\n",
       "      <th>Period</th>\n",
       "      <td>0</td>\n",
       "      <td>0.000000</td>\n",
       "    </tr>\n",
       "    <tr>\n",
       "      <th>Activity</th>\n",
       "      <td>0</td>\n",
       "      <td>0.000000</td>\n",
       "    </tr>\n",
       "    <tr>\n",
       "      <th>Source</th>\n",
       "      <td>0</td>\n",
       "      <td>0.000000</td>\n",
       "    </tr>\n",
       "    <tr>\n",
       "      <th>Energy (MW.h)</th>\n",
       "      <td>0</td>\n",
       "      <td>0.000000</td>\n",
       "    </tr>\n",
       "    <tr>\n",
       "      <th>Total Value (CAN$)</th>\n",
       "      <td>0</td>\n",
       "      <td>0.000000</td>\n",
       "    </tr>\n",
       "  </tbody>\n",
       "</table>\n",
       "</div>"
      ],
      "text/plain": [
       "                    count         %\n",
       "Price (CAN$/MW.h)     573  1.564676\n",
       "Destination             6  0.016384\n",
       "Period                  0  0.000000\n",
       "Activity                0  0.000000\n",
       "Source                  0  0.000000\n",
       "Energy (MW.h)           0  0.000000\n",
       "Total Value (CAN$)      0  0.000000"
      ]
     },
     "execution_count": 118,
     "metadata": {},
     "output_type": "execute_result"
    }
   ],
   "source": [
    "missing = pd.concat([df.isnull().sum(), 100 * df.isnull().mean()], axis=1)\n",
    "missing.columns=['count', '%']\n",
    "missing.sort_values(by='count', ascending=False)"
   ]
  },
  {
   "cell_type": "code",
   "execution_count": 119,
   "metadata": {},
   "outputs": [],
   "source": [
    "# lets change the name of columns for easier work\n",
    "df=df.rename(columns = {'Price (CAN$/MW.h)':'Price','Total Value (CAN$)':'Total_Value','Energy (MW.h)':'Energy' })"
   ]
  },
  {
   "cell_type": "code",
   "execution_count": 120,
   "metadata": {},
   "outputs": [
    {
     "data": {
      "text/html": [
       "<div>\n",
       "<style scoped>\n",
       "    .dataframe tbody tr th:only-of-type {\n",
       "        vertical-align: middle;\n",
       "    }\n",
       "\n",
       "    .dataframe tbody tr th {\n",
       "        vertical-align: top;\n",
       "    }\n",
       "\n",
       "    .dataframe thead th {\n",
       "        text-align: right;\n",
       "    }\n",
       "</style>\n",
       "<table border=\"1\" class=\"dataframe\">\n",
       "  <thead>\n",
       "    <tr style=\"text-align: right;\">\n",
       "      <th></th>\n",
       "      <th>Period</th>\n",
       "      <th>Activity</th>\n",
       "      <th>Source</th>\n",
       "      <th>Destination</th>\n",
       "      <th>Energy</th>\n",
       "      <th>Total_Value</th>\n",
       "      <th>Price</th>\n",
       "    </tr>\n",
       "  </thead>\n",
       "  <tbody>\n",
       "    <tr>\n",
       "      <th>5748</th>\n",
       "      <td>1997-07-01</td>\n",
       "      <td>Exports</td>\n",
       "      <td>British Columbia</td>\n",
       "      <td>NaN</td>\n",
       "      <td>17280.0</td>\n",
       "      <td>554991.26</td>\n",
       "      <td>32.119999</td>\n",
       "    </tr>\n",
       "    <tr>\n",
       "      <th>5784</th>\n",
       "      <td>1997-07-01</td>\n",
       "      <td>Exports</td>\n",
       "      <td>Total</td>\n",
       "      <td>NaN</td>\n",
       "      <td>17280.0</td>\n",
       "      <td>554991.26</td>\n",
       "      <td>32.119999</td>\n",
       "    </tr>\n",
       "    <tr>\n",
       "      <th>5839</th>\n",
       "      <td>1997-08-01</td>\n",
       "      <td>Exports</td>\n",
       "      <td>British Columbia</td>\n",
       "      <td>NaN</td>\n",
       "      <td>20800.0</td>\n",
       "      <td>671478.60</td>\n",
       "      <td>32.279999</td>\n",
       "    </tr>\n",
       "    <tr>\n",
       "      <th>5878</th>\n",
       "      <td>1997-08-01</td>\n",
       "      <td>Exports</td>\n",
       "      <td>Total</td>\n",
       "      <td>NaN</td>\n",
       "      <td>20800.0</td>\n",
       "      <td>671478.60</td>\n",
       "      <td>32.279999</td>\n",
       "    </tr>\n",
       "    <tr>\n",
       "      <th>5936</th>\n",
       "      <td>1997-09-01</td>\n",
       "      <td>Exports</td>\n",
       "      <td>British Columbia</td>\n",
       "      <td>NaN</td>\n",
       "      <td>15350.0</td>\n",
       "      <td>501942.40</td>\n",
       "      <td>32.700001</td>\n",
       "    </tr>\n",
       "    <tr>\n",
       "      <th>5973</th>\n",
       "      <td>1997-09-01</td>\n",
       "      <td>Exports</td>\n",
       "      <td>Total</td>\n",
       "      <td>NaN</td>\n",
       "      <td>15350.0</td>\n",
       "      <td>501942.40</td>\n",
       "      <td>32.700001</td>\n",
       "    </tr>\n",
       "  </tbody>\n",
       "</table>\n",
       "</div>"
      ],
      "text/plain": [
       "         Period Activity            Source Destination   Energy  Total_Value  \\\n",
       "5748 1997-07-01  Exports  British Columbia         NaN  17280.0    554991.26   \n",
       "5784 1997-07-01  Exports             Total         NaN  17280.0    554991.26   \n",
       "5839 1997-08-01  Exports  British Columbia         NaN  20800.0    671478.60   \n",
       "5878 1997-08-01  Exports             Total         NaN  20800.0    671478.60   \n",
       "5936 1997-09-01  Exports  British Columbia         NaN  15350.0    501942.40   \n",
       "5973 1997-09-01  Exports             Total         NaN  15350.0    501942.40   \n",
       "\n",
       "          Price  \n",
       "5748  32.119999  \n",
       "5784  32.119999  \n",
       "5839  32.279999  \n",
       "5878  32.279999  \n",
       "5936  32.700001  \n",
       "5973  32.700001  "
      ]
     },
     "execution_count": 120,
     "metadata": {},
     "output_type": "execute_result"
    }
   ],
   "source": [
    "# checking for nan values in 'Destination'\n",
    "df[df['Destination'].isnull()]"
   ]
  },
  {
   "cell_type": "code",
   "execution_count": 121,
   "metadata": {},
   "outputs": [],
   "source": [
    "# we can't find out the destination so we should drop the rows\n",
    "df = df.dropna(subset=['Destination'])"
   ]
  },
  {
   "cell_type": "code",
   "execution_count": 122,
   "metadata": {},
   "outputs": [
    {
     "data": {
      "text/plain": [
       "Period           0\n",
       "Activity         0\n",
       "Source           0\n",
       "Destination      0\n",
       "Energy           0\n",
       "Total_Value      0\n",
       "Price          573\n",
       "dtype: int64"
      ]
     },
     "execution_count": 122,
     "metadata": {},
     "output_type": "execute_result"
    }
   ],
   "source": [
    "df.isnull().sum()"
   ]
  },
  {
   "cell_type": "code",
   "execution_count": 123,
   "metadata": {},
   "outputs": [
    {
     "data": {
      "text/html": [
       "<div>\n",
       "<style scoped>\n",
       "    .dataframe tbody tr th:only-of-type {\n",
       "        vertical-align: middle;\n",
       "    }\n",
       "\n",
       "    .dataframe tbody tr th {\n",
       "        vertical-align: top;\n",
       "    }\n",
       "\n",
       "    .dataframe thead th {\n",
       "        text-align: right;\n",
       "    }\n",
       "</style>\n",
       "<table border=\"1\" class=\"dataframe\">\n",
       "  <thead>\n",
       "    <tr style=\"text-align: right;\">\n",
       "      <th></th>\n",
       "      <th>Period</th>\n",
       "      <th>Activity</th>\n",
       "      <th>Source</th>\n",
       "      <th>Destination</th>\n",
       "      <th>Energy</th>\n",
       "      <th>Total_Value</th>\n",
       "      <th>Price</th>\n",
       "    </tr>\n",
       "  </thead>\n",
       "  <tbody>\n",
       "    <tr>\n",
       "      <th>14093</th>\n",
       "      <td>2005-05-01</td>\n",
       "      <td>Exports</td>\n",
       "      <td>Manitoba</td>\n",
       "      <td>Minn / N. Dakota</td>\n",
       "      <td>1180302.087</td>\n",
       "      <td>48985493.92</td>\n",
       "      <td>NaN</td>\n",
       "    </tr>\n",
       "    <tr>\n",
       "      <th>14094</th>\n",
       "      <td>2005-05-01</td>\n",
       "      <td>Exports</td>\n",
       "      <td>Manitoba</td>\n",
       "      <td>Total</td>\n",
       "      <td>1180302.087</td>\n",
       "      <td>48985493.92</td>\n",
       "      <td>NaN</td>\n",
       "    </tr>\n",
       "    <tr>\n",
       "      <th>14124</th>\n",
       "      <td>2005-05-01</td>\n",
       "      <td>Exports</td>\n",
       "      <td>Total</td>\n",
       "      <td>Minn / N. Dakota</td>\n",
       "      <td>1180302.087</td>\n",
       "      <td>48985493.92</td>\n",
       "      <td>NaN</td>\n",
       "    </tr>\n",
       "    <tr>\n",
       "      <th>14211</th>\n",
       "      <td>2005-06-01</td>\n",
       "      <td>Exports</td>\n",
       "      <td>Manitoba</td>\n",
       "      <td>Minn / N. Dakota</td>\n",
       "      <td>1180010.579</td>\n",
       "      <td>56770667.49</td>\n",
       "      <td>NaN</td>\n",
       "    </tr>\n",
       "    <tr>\n",
       "      <th>14212</th>\n",
       "      <td>2005-06-01</td>\n",
       "      <td>Exports</td>\n",
       "      <td>Manitoba</td>\n",
       "      <td>Total</td>\n",
       "      <td>1180010.579</td>\n",
       "      <td>56770667.49</td>\n",
       "      <td>NaN</td>\n",
       "    </tr>\n",
       "    <tr>\n",
       "      <th>...</th>\n",
       "      <td>...</td>\n",
       "      <td>...</td>\n",
       "      <td>...</td>\n",
       "      <td>...</td>\n",
       "      <td>...</td>\n",
       "      <td>...</td>\n",
       "      <td>...</td>\n",
       "    </tr>\n",
       "    <tr>\n",
       "      <th>36412</th>\n",
       "      <td>2021-02-01</td>\n",
       "      <td>Exports</td>\n",
       "      <td>Manitoba</td>\n",
       "      <td>Total</td>\n",
       "      <td>302822.557</td>\n",
       "      <td>41185178.51</td>\n",
       "      <td>NaN</td>\n",
       "    </tr>\n",
       "    <tr>\n",
       "      <th>36450</th>\n",
       "      <td>2021-02-01</td>\n",
       "      <td>Exports</td>\n",
       "      <td>Total</td>\n",
       "      <td>Minn / N. Dakota</td>\n",
       "      <td>305755.557</td>\n",
       "      <td>41302521.51</td>\n",
       "      <td>NaN</td>\n",
       "    </tr>\n",
       "    <tr>\n",
       "      <th>36530</th>\n",
       "      <td>2021-03-01</td>\n",
       "      <td>Exports</td>\n",
       "      <td>Manitoba</td>\n",
       "      <td>Minn / N. Dakota</td>\n",
       "      <td>571305.225</td>\n",
       "      <td>37367970.89</td>\n",
       "      <td>NaN</td>\n",
       "    </tr>\n",
       "    <tr>\n",
       "      <th>36532</th>\n",
       "      <td>2021-03-01</td>\n",
       "      <td>Exports</td>\n",
       "      <td>Manitoba</td>\n",
       "      <td>Total</td>\n",
       "      <td>571305.225</td>\n",
       "      <td>37367970.89</td>\n",
       "      <td>NaN</td>\n",
       "    </tr>\n",
       "    <tr>\n",
       "      <th>36563</th>\n",
       "      <td>2021-03-01</td>\n",
       "      <td>Exports</td>\n",
       "      <td>Total</td>\n",
       "      <td>Minn / N. Dakota</td>\n",
       "      <td>574430.225</td>\n",
       "      <td>37412753.89</td>\n",
       "      <td>NaN</td>\n",
       "    </tr>\n",
       "  </tbody>\n",
       "</table>\n",
       "<p>573 rows × 7 columns</p>\n",
       "</div>"
      ],
      "text/plain": [
       "          Period Activity    Source       Destination       Energy  \\\n",
       "14093 2005-05-01  Exports  Manitoba  Minn / N. Dakota  1180302.087   \n",
       "14094 2005-05-01  Exports  Manitoba             Total  1180302.087   \n",
       "14124 2005-05-01  Exports     Total  Minn / N. Dakota  1180302.087   \n",
       "14211 2005-06-01  Exports  Manitoba  Minn / N. Dakota  1180010.579   \n",
       "14212 2005-06-01  Exports  Manitoba             Total  1180010.579   \n",
       "...          ...      ...       ...               ...          ...   \n",
       "36412 2021-02-01  Exports  Manitoba             Total   302822.557   \n",
       "36450 2021-02-01  Exports     Total  Minn / N. Dakota   305755.557   \n",
       "36530 2021-03-01  Exports  Manitoba  Minn / N. Dakota   571305.225   \n",
       "36532 2021-03-01  Exports  Manitoba             Total   571305.225   \n",
       "36563 2021-03-01  Exports     Total  Minn / N. Dakota   574430.225   \n",
       "\n",
       "       Total_Value  Price  \n",
       "14093  48985493.92    NaN  \n",
       "14094  48985493.92    NaN  \n",
       "14124  48985493.92    NaN  \n",
       "14211  56770667.49    NaN  \n",
       "14212  56770667.49    NaN  \n",
       "...            ...    ...  \n",
       "36412  41185178.51    NaN  \n",
       "36450  41302521.51    NaN  \n",
       "36530  37367970.89    NaN  \n",
       "36532  37367970.89    NaN  \n",
       "36563  37412753.89    NaN  \n",
       "\n",
       "[573 rows x 7 columns]"
      ]
     },
     "execution_count": 123,
     "metadata": {},
     "output_type": "execute_result"
    }
   ],
   "source": [
    "# now lets check for 'Price' column\n",
    "df[df['Price'].isnull()]"
   ]
  },
  {
   "cell_type": "code",
   "execution_count": 125,
   "metadata": {},
   "outputs": [],
   "source": [
    "# we can find the missing price if we divide total_value with energy\n",
    "df['price'] = df['Total_Value'] / df['Energy']"
   ]
  },
  {
   "cell_type": "code",
   "execution_count": 127,
   "metadata": {},
   "outputs": [],
   "source": [
    "# fill up the missing values\n",
    "df = df.fillna({'Price': df['price']})"
   ]
  },
  {
   "cell_type": "code",
   "execution_count": 128,
   "metadata": {},
   "outputs": [
    {
     "data": {
      "text/plain": [
       "Period           0\n",
       "Activity         0\n",
       "Source           0\n",
       "Destination      0\n",
       "Energy           0\n",
       "Total_Value      0\n",
       "Price            0\n",
       "price          754\n",
       "dtype: int64"
      ]
     },
     "execution_count": 128,
     "metadata": {},
     "output_type": "execute_result"
    }
   ],
   "source": [
    "df.isnull().sum()"
   ]
  },
  {
   "cell_type": "code",
   "execution_count": 129,
   "metadata": {},
   "outputs": [],
   "source": [
    "#drop the 'price' column we dont need it anymore\n",
    "df.drop('price', axis=1, inplace=True)"
   ]
  },
  {
   "cell_type": "code",
   "execution_count": 130,
   "metadata": {},
   "outputs": [
    {
     "data": {
      "text/plain": [
       "Period         0\n",
       "Activity       0\n",
       "Source         0\n",
       "Destination    0\n",
       "Energy         0\n",
       "Total_Value    0\n",
       "Price          0\n",
       "dtype: int64"
      ]
     },
     "execution_count": 130,
     "metadata": {},
     "output_type": "execute_result"
    }
   ],
   "source": [
    "df.isnull().sum()"
   ]
  },
  {
   "cell_type": "code",
   "execution_count": 131,
   "metadata": {},
   "outputs": [
    {
     "data": {
      "text/html": [
       "<div>\n",
       "<style scoped>\n",
       "    .dataframe tbody tr th:only-of-type {\n",
       "        vertical-align: middle;\n",
       "    }\n",
       "\n",
       "    .dataframe tbody tr th {\n",
       "        vertical-align: top;\n",
       "    }\n",
       "\n",
       "    .dataframe thead th {\n",
       "        text-align: right;\n",
       "    }\n",
       "</style>\n",
       "<table border=\"1\" class=\"dataframe\">\n",
       "  <thead>\n",
       "    <tr style=\"text-align: right;\">\n",
       "      <th></th>\n",
       "      <th>Period</th>\n",
       "      <th>Activity</th>\n",
       "      <th>Source</th>\n",
       "      <th>Destination</th>\n",
       "      <th>Energy</th>\n",
       "      <th>Total_Value</th>\n",
       "      <th>Price</th>\n",
       "    </tr>\n",
       "  </thead>\n",
       "  <tbody>\n",
       "    <tr>\n",
       "      <th>0</th>\n",
       "      <td>1990-01-01</td>\n",
       "      <td>Exports</td>\n",
       "      <td>British Columbia</td>\n",
       "      <td>Alaska</td>\n",
       "      <td>75.196</td>\n",
       "      <td>4536.00</td>\n",
       "      <td>60.320000</td>\n",
       "    </tr>\n",
       "    <tr>\n",
       "      <th>1</th>\n",
       "      <td>1990-01-01</td>\n",
       "      <td>Exports</td>\n",
       "      <td>British Columbia</td>\n",
       "      <td>California</td>\n",
       "      <td>345904.000</td>\n",
       "      <td>11144596.03</td>\n",
       "      <td>32.220001</td>\n",
       "    </tr>\n",
       "    <tr>\n",
       "      <th>2</th>\n",
       "      <td>1990-01-01</td>\n",
       "      <td>Exports</td>\n",
       "      <td>British Columbia</td>\n",
       "      <td>Oregon</td>\n",
       "      <td>148800.000</td>\n",
       "      <td>4770498.00</td>\n",
       "      <td>32.060001</td>\n",
       "    </tr>\n",
       "    <tr>\n",
       "      <th>3</th>\n",
       "      <td>1990-01-01</td>\n",
       "      <td>Exports</td>\n",
       "      <td>British Columbia</td>\n",
       "      <td>Total</td>\n",
       "      <td>496761.596</td>\n",
       "      <td>16000590.03</td>\n",
       "      <td>32.209999</td>\n",
       "    </tr>\n",
       "    <tr>\n",
       "      <th>4</th>\n",
       "      <td>1990-01-01</td>\n",
       "      <td>Exports</td>\n",
       "      <td>British Columbia</td>\n",
       "      <td>Washington</td>\n",
       "      <td>1982.400</td>\n",
       "      <td>80960.00</td>\n",
       "      <td>40.840000</td>\n",
       "    </tr>\n",
       "  </tbody>\n",
       "</table>\n",
       "</div>"
      ],
      "text/plain": [
       "      Period Activity            Source Destination      Energy  Total_Value  \\\n",
       "0 1990-01-01  Exports  British Columbia      Alaska      75.196      4536.00   \n",
       "1 1990-01-01  Exports  British Columbia  California  345904.000  11144596.03   \n",
       "2 1990-01-01  Exports  British Columbia      Oregon  148800.000   4770498.00   \n",
       "3 1990-01-01  Exports  British Columbia       Total  496761.596  16000590.03   \n",
       "4 1990-01-01  Exports  British Columbia  Washington    1982.400     80960.00   \n",
       "\n",
       "       Price  \n",
       "0  60.320000  \n",
       "1  32.220001  \n",
       "2  32.060001  \n",
       "3  32.209999  \n",
       "4  40.840000  "
      ]
     },
     "execution_count": 131,
     "metadata": {},
     "output_type": "execute_result"
    }
   ],
   "source": [
    "df.head()"
   ]
  },
  {
   "cell_type": "code",
   "execution_count": 132,
   "metadata": {},
   "outputs": [
    {
     "name": "stdout",
     "output_type": "stream",
     "text": [
      "<class 'pandas.core.frame.DataFrame'>\n",
      "Int64Index: 36615 entries, 0 to 36620\n",
      "Data columns (total 7 columns):\n",
      " #   Column       Non-Null Count  Dtype         \n",
      "---  ------       --------------  -----         \n",
      " 0   Period       36615 non-null  datetime64[ns]\n",
      " 1   Activity     36615 non-null  object        \n",
      " 2   Source       36615 non-null  object        \n",
      " 3   Destination  36615 non-null  object        \n",
      " 4   Energy       36615 non-null  float64       \n",
      " 5   Total_Value  36615 non-null  float64       \n",
      " 6   Price        36615 non-null  float64       \n",
      "dtypes: datetime64[ns](1), float64(3), object(3)\n",
      "memory usage: 2.2+ MB\n"
     ]
    }
   ],
   "source": [
    "df.info()"
   ]
  },
  {
   "cell_type": "code",
   "execution_count": 133,
   "metadata": {},
   "outputs": [
    {
     "data": {
      "text/plain": [
       "0        False\n",
       "1        False\n",
       "2        False\n",
       "3        False\n",
       "4        False\n",
       "         ...  \n",
       "36616    False\n",
       "36617    False\n",
       "36618    False\n",
       "36619    False\n",
       "36620    False\n",
       "Length: 36615, dtype: bool"
      ]
     },
     "execution_count": 133,
     "metadata": {},
     "output_type": "execute_result"
    }
   ],
   "source": [
    "#check for duplicates\n",
    "df.duplicated()"
   ]
  },
  {
   "cell_type": "code",
   "execution_count": 134,
   "metadata": {},
   "outputs": [
    {
     "data": {
      "text/plain": [
       "array(['British Columbia', 'Manitoba', 'New Brunswick', 'Ontario',\n",
       "       'Québec', 'Total', 'Maine', 'Michigan', 'Minnesota', 'Montana',\n",
       "       'New England-ISO', 'New York', 'North Dakota', 'Vermont',\n",
       "       'Washington', 'Saskatchewan', 'Pennsylvania', 'Alberta', 'Idaho',\n",
       "       'Nebraska', 'South Dakota', 'Texas', 'Oregon', 'Wisconsin', 'Iowa',\n",
       "       'Missouri', 'Kansas', 'California', 'Minn / N. Dakota',\n",
       "       'Massachusetts', 'Nova Scotia', 'Illinois', 'Ohio', 'Indiana',\n",
       "       'New Jersey', 'Arizona', 'Nevada', 'New Mexico', 'Wyoming',\n",
       "       'Oklahoma', 'Colorado', 'Kentucky', 'Utah', 'Connecticut',\n",
       "       'Pennsylvania Jersey Maryland Power Pool',\n",
       "       'Newfoundland and Labrador', 'West Virginia'], dtype=object)"
      ]
     },
     "execution_count": 134,
     "metadata": {},
     "output_type": "execute_result"
    }
   ],
   "source": [
    "df['Source'].unique()"
   ]
  },
  {
   "cell_type": "code",
   "execution_count": 135,
   "metadata": {},
   "outputs": [
    {
     "data": {
      "text/plain": [
       "array(['Alaska', 'California', 'Oregon', 'Total', 'Washington',\n",
       "       'Minnesota', 'North Dakota', 'Maine', 'Massachusetts', 'Michigan',\n",
       "       'New York', 'Vermont', 'New Brunswick', 'Ontario', 'Manitoba',\n",
       "       'British Columbia', 'Québec', 'Saskatchewan', 'Alberta', 'Idaho',\n",
       "       'Nevada', 'Montana', 'New Hampshire', 'New England-ISO',\n",
       "       'Pennsylvania', 'Arizona', 'Missouri', 'Wisconsin', 'South Dakota',\n",
       "       'Texas', 'Nebraska', 'Iowa', 'Colorado', 'Kansas', 'Utah',\n",
       "       'Minn / N. Dakota', 'New Mexico', 'Maryland', 'Nova Scotia',\n",
       "       'Virginia', 'Wyoming', 'Ohio', 'Tennessee', 'Illinois', 'Indiana',\n",
       "       'Connecticut', 'Pennsylvania Jersey Maryland Power Pool',\n",
       "       'Mississippi', 'New Jersey', 'Newfoundland and Labrador',\n",
       "       'Oklahoma', 'Florida'], dtype=object)"
      ]
     },
     "execution_count": 135,
     "metadata": {},
     "output_type": "execute_result"
    }
   ],
   "source": [
    "df['Destination'].unique()"
   ]
  },
  {
   "cell_type": "code",
   "execution_count": 136,
   "metadata": {},
   "outputs": [],
   "source": [
    "# we have total value that we dont need, so we will drop it\n",
    "df = df[df['Source'].str.contains('Total')==False]"
   ]
  },
  {
   "cell_type": "code",
   "execution_count": 137,
   "metadata": {},
   "outputs": [],
   "source": [
    "# we have total value that we dont need, so we will drop it\n",
    "df = df[df['Destination'].str.contains('Total')==False]"
   ]
  },
  {
   "cell_type": "code",
   "execution_count": 138,
   "metadata": {},
   "outputs": [
    {
     "name": "stdout",
     "output_type": "stream",
     "text": [
      "<class 'pandas.core.frame.DataFrame'>\n",
      "Int64Index: 17569 entries, 0 to 36619\n",
      "Data columns (total 7 columns):\n",
      " #   Column       Non-Null Count  Dtype         \n",
      "---  ------       --------------  -----         \n",
      " 0   Period       17569 non-null  datetime64[ns]\n",
      " 1   Activity     17569 non-null  object        \n",
      " 2   Source       17569 non-null  object        \n",
      " 3   Destination  17569 non-null  object        \n",
      " 4   Energy       17569 non-null  float64       \n",
      " 5   Total_Value  17569 non-null  float64       \n",
      " 6   Price        17569 non-null  float64       \n",
      "dtypes: datetime64[ns](1), float64(3), object(3)\n",
      "memory usage: 1.1+ MB\n"
     ]
    }
   ],
   "source": [
    "df.info()"
   ]
  },
  {
   "cell_type": "code",
   "execution_count": 198,
   "metadata": {},
   "outputs": [
    {
     "data": {
      "text/html": [
       "<div>\n",
       "<style scoped>\n",
       "    .dataframe tbody tr th:only-of-type {\n",
       "        vertical-align: middle;\n",
       "    }\n",
       "\n",
       "    .dataframe tbody tr th {\n",
       "        vertical-align: top;\n",
       "    }\n",
       "\n",
       "    .dataframe thead th {\n",
       "        text-align: right;\n",
       "    }\n",
       "</style>\n",
       "<table border=\"1\" class=\"dataframe\">\n",
       "  <thead>\n",
       "    <tr style=\"text-align: right;\">\n",
       "      <th></th>\n",
       "      <th>Period</th>\n",
       "      <th>Activity</th>\n",
       "      <th>Source</th>\n",
       "      <th>Destination</th>\n",
       "      <th>Energy</th>\n",
       "      <th>Total_Value</th>\n",
       "      <th>Price</th>\n",
       "    </tr>\n",
       "  </thead>\n",
       "  <tbody>\n",
       "    <tr>\n",
       "      <th>0</th>\n",
       "      <td>1990-01-01</td>\n",
       "      <td>Exports</td>\n",
       "      <td>British Columbia</td>\n",
       "      <td>Alaska</td>\n",
       "      <td>75.20</td>\n",
       "      <td>4,536.00</td>\n",
       "      <td>60.32</td>\n",
       "    </tr>\n",
       "    <tr>\n",
       "      <th>1</th>\n",
       "      <td>1990-01-01</td>\n",
       "      <td>Exports</td>\n",
       "      <td>British Columbia</td>\n",
       "      <td>California</td>\n",
       "      <td>345,904.00</td>\n",
       "      <td>11,144,596.03</td>\n",
       "      <td>32.22</td>\n",
       "    </tr>\n",
       "    <tr>\n",
       "      <th>2</th>\n",
       "      <td>1990-01-01</td>\n",
       "      <td>Exports</td>\n",
       "      <td>British Columbia</td>\n",
       "      <td>Oregon</td>\n",
       "      <td>148,800.00</td>\n",
       "      <td>4,770,498.00</td>\n",
       "      <td>32.06</td>\n",
       "    </tr>\n",
       "    <tr>\n",
       "      <th>4</th>\n",
       "      <td>1990-01-01</td>\n",
       "      <td>Exports</td>\n",
       "      <td>British Columbia</td>\n",
       "      <td>Washington</td>\n",
       "      <td>1,982.40</td>\n",
       "      <td>80,960.00</td>\n",
       "      <td>40.84</td>\n",
       "    </tr>\n",
       "    <tr>\n",
       "      <th>5</th>\n",
       "      <td>1990-01-01</td>\n",
       "      <td>Exports</td>\n",
       "      <td>Manitoba</td>\n",
       "      <td>Minnesota</td>\n",
       "      <td>5,100.42</td>\n",
       "      <td>129,051.37</td>\n",
       "      <td>25.30</td>\n",
       "    </tr>\n",
       "  </tbody>\n",
       "</table>\n",
       "</div>"
      ],
      "text/plain": [
       "      Period Activity            Source Destination     Energy   Total_Value  \\\n",
       "0 1990-01-01  Exports  British Columbia      Alaska      75.20      4,536.00   \n",
       "1 1990-01-01  Exports  British Columbia  California 345,904.00 11,144,596.03   \n",
       "2 1990-01-01  Exports  British Columbia      Oregon 148,800.00  4,770,498.00   \n",
       "4 1990-01-01  Exports  British Columbia  Washington   1,982.40     80,960.00   \n",
       "5 1990-01-01  Exports          Manitoba   Minnesota   5,100.42    129,051.37   \n",
       "\n",
       "   Price  \n",
       "0  60.32  \n",
       "1  32.22  \n",
       "2  32.06  \n",
       "4  40.84  \n",
       "5  25.30  "
      ]
     },
     "execution_count": 198,
     "metadata": {},
     "output_type": "execute_result"
    }
   ],
   "source": [
    "df.head()"
   ]
  },
  {
   "cell_type": "code",
   "execution_count": 194,
   "metadata": {},
   "outputs": [],
   "source": [
    "pd.options.display.float_format = \"{:,.2f}\".format"
   ]
  },
  {
   "cell_type": "markdown",
   "metadata": {},
   "source": [
    "#### LETS CHECK FOR OUTLIERS"
   ]
  },
  {
   "cell_type": "code",
   "execution_count": 200,
   "metadata": {},
   "outputs": [
    {
     "data": {
      "image/png": "[encoded data removed]",
      "text/plain": [
       "<Figure size 720x432 with 1 Axes>"
      ]
     },
     "metadata": {
      "needs_background": "light"
     },
     "output_type": "display_data"
    }
   ],
   "source": [
    "f, ax = plt.subplots(figsize = (10,6))\n",
    "ax = sns.histplot(df['Price'], kde=True, bins=10)\n",
    "ax.set_title('Price')\n",
    "plt.grid(True)"
   ]
  },
  {
   "cell_type": "code",
   "execution_count": 201,
   "metadata": {},
   "outputs": [
    {
     "data": {
      "text/plain": [
       "11305   10,832.80\n",
       "13093    3,127.99\n",
       "1174     3,057.24\n",
       "28134    1,624.37\n",
       "9039     1,331.37\n",
       "           ...   \n",
       "10239     -223.09\n",
       "29471     -462.32\n",
       "3614      -734.18\n",
       "10271   -2,220.29\n",
       "10419   -2,680.20\n",
       "Name: Price, Length: 17569, dtype: float64"
      ]
     },
     "execution_count": 201,
     "metadata": {},
     "output_type": "execute_result"
    }
   ],
   "source": [
    "df.Price.sort_values(ascending=False)"
   ]
  },
  {
   "cell_type": "code",
   "execution_count": 203,
   "metadata": {},
   "outputs": [
    {
     "data": {
      "text/html": [
       "<div>\n",
       "<style scoped>\n",
       "    .dataframe tbody tr th:only-of-type {\n",
       "        vertical-align: middle;\n",
       "    }\n",
       "\n",
       "    .dataframe tbody tr th {\n",
       "        vertical-align: top;\n",
       "    }\n",
       "\n",
       "    .dataframe thead th {\n",
       "        text-align: right;\n",
       "    }\n",
       "</style>\n",
       "<table border=\"1\" class=\"dataframe\">\n",
       "  <thead>\n",
       "    <tr style=\"text-align: right;\">\n",
       "      <th></th>\n",
       "      <th>Period</th>\n",
       "      <th>Activity</th>\n",
       "      <th>Source</th>\n",
       "      <th>Destination</th>\n",
       "      <th>Energy</th>\n",
       "      <th>Total_Value</th>\n",
       "      <th>Price</th>\n",
       "    </tr>\n",
       "  </thead>\n",
       "  <tbody>\n",
       "    <tr>\n",
       "      <th>11305</th>\n",
       "      <td>2002-12-01</td>\n",
       "      <td>Imports</td>\n",
       "      <td>Maine</td>\n",
       "      <td>Québec</td>\n",
       "      <td>1,463.00</td>\n",
       "      <td>15,848,382.71</td>\n",
       "      <td>10,832.80</td>\n",
       "    </tr>\n",
       "  </tbody>\n",
       "</table>\n",
       "</div>"
      ],
      "text/plain": [
       "          Period Activity Source Destination   Energy   Total_Value     Price\n",
       "11305 2002-12-01  Imports  Maine      Québec 1,463.00 15,848,382.71 10,832.80"
      ]
     },
     "execution_count": 203,
     "metadata": {},
     "output_type": "execute_result"
    }
   ],
   "source": [
    "df[df['Price'] > 10000 ]"
   ]
  },
  {
   "cell_type": "code",
   "execution_count": 204,
   "metadata": {},
   "outputs": [
    {
     "data": {
      "text/html": [
       "<div>\n",
       "<style scoped>\n",
       "    .dataframe tbody tr th:only-of-type {\n",
       "        vertical-align: middle;\n",
       "    }\n",
       "\n",
       "    .dataframe tbody tr th {\n",
       "        vertical-align: top;\n",
       "    }\n",
       "\n",
       "    .dataframe thead th {\n",
       "        text-align: right;\n",
       "    }\n",
       "</style>\n",
       "<table border=\"1\" class=\"dataframe\">\n",
       "  <thead>\n",
       "    <tr style=\"text-align: right;\">\n",
       "      <th></th>\n",
       "      <th>Period</th>\n",
       "      <th>Activity</th>\n",
       "      <th>Source</th>\n",
       "      <th>Destination</th>\n",
       "      <th>Energy</th>\n",
       "      <th>Total_Value</th>\n",
       "      <th>Price</th>\n",
       "    </tr>\n",
       "  </thead>\n",
       "  <tbody>\n",
       "    <tr>\n",
       "      <th>3614</th>\n",
       "      <td>1994-11-01</td>\n",
       "      <td>Exports</td>\n",
       "      <td>New Brunswick</td>\n",
       "      <td>Massachusetts</td>\n",
       "      <td>50.00</td>\n",
       "      <td>-36,709.00</td>\n",
       "      <td>-734.18</td>\n",
       "    </tr>\n",
       "    <tr>\n",
       "      <th>6440</th>\n",
       "      <td>1998-02-01</td>\n",
       "      <td>Imports</td>\n",
       "      <td>New England-ISO</td>\n",
       "      <td>Québec</td>\n",
       "      <td>401.00</td>\n",
       "      <td>-26,320.80</td>\n",
       "      <td>-65.64</td>\n",
       "    </tr>\n",
       "    <tr>\n",
       "      <th>10164</th>\n",
       "      <td>2001-09-01</td>\n",
       "      <td>Exports</td>\n",
       "      <td>Québec</td>\n",
       "      <td>New York</td>\n",
       "      <td>-27,885.00</td>\n",
       "      <td>10,182,372.85</td>\n",
       "      <td>-95.12</td>\n",
       "    </tr>\n",
       "    <tr>\n",
       "      <th>10239</th>\n",
       "      <td>2001-10-01</td>\n",
       "      <td>Exports</td>\n",
       "      <td>Québec</td>\n",
       "      <td>New York</td>\n",
       "      <td>89,861.00</td>\n",
       "      <td>-12,452,609.22</td>\n",
       "      <td>-223.09</td>\n",
       "    </tr>\n",
       "    <tr>\n",
       "      <th>10271</th>\n",
       "      <td>2001-10-01</td>\n",
       "      <td>Imports</td>\n",
       "      <td>New York</td>\n",
       "      <td>Ontario</td>\n",
       "      <td>34.00</td>\n",
       "      <td>-75,489.74</td>\n",
       "      <td>-2,220.29</td>\n",
       "    </tr>\n",
       "    <tr>\n",
       "      <th>...</th>\n",
       "      <td>...</td>\n",
       "      <td>...</td>\n",
       "      <td>...</td>\n",
       "      <td>...</td>\n",
       "      <td>...</td>\n",
       "      <td>...</td>\n",
       "      <td>...</td>\n",
       "    </tr>\n",
       "    <tr>\n",
       "      <th>36142</th>\n",
       "      <td>2020-11-01</td>\n",
       "      <td>Imports</td>\n",
       "      <td>Nebraska</td>\n",
       "      <td>British Columbia</td>\n",
       "      <td>6,135.00</td>\n",
       "      <td>-62,905.63</td>\n",
       "      <td>-10.25</td>\n",
       "    </tr>\n",
       "    <tr>\n",
       "      <th>36251</th>\n",
       "      <td>2020-12-01</td>\n",
       "      <td>Imports</td>\n",
       "      <td>Nebraska</td>\n",
       "      <td>British Columbia</td>\n",
       "      <td>1,015.00</td>\n",
       "      <td>-5,015.74</td>\n",
       "      <td>-4.94</td>\n",
       "    </tr>\n",
       "    <tr>\n",
       "      <th>36490</th>\n",
       "      <td>2021-02-01</td>\n",
       "      <td>Imports</td>\n",
       "      <td>Nebraska</td>\n",
       "      <td>British Columbia</td>\n",
       "      <td>2,108.00</td>\n",
       "      <td>-35,155.24</td>\n",
       "      <td>-16.68</td>\n",
       "    </tr>\n",
       "    <tr>\n",
       "      <th>36598</th>\n",
       "      <td>2021-03-01</td>\n",
       "      <td>Imports</td>\n",
       "      <td>Nebraska</td>\n",
       "      <td>British Columbia</td>\n",
       "      <td>11,005.00</td>\n",
       "      <td>-17,042.68</td>\n",
       "      <td>-1.55</td>\n",
       "    </tr>\n",
       "    <tr>\n",
       "      <th>36603</th>\n",
       "      <td>2021-03-01</td>\n",
       "      <td>Imports</td>\n",
       "      <td>North Dakota</td>\n",
       "      <td>Saskatchewan</td>\n",
       "      <td>3,604.00</td>\n",
       "      <td>-17,763.33</td>\n",
       "      <td>-4.93</td>\n",
       "    </tr>\n",
       "  </tbody>\n",
       "</table>\n",
       "<p>153 rows × 7 columns</p>\n",
       "</div>"
      ],
      "text/plain": [
       "          Period Activity           Source       Destination     Energy  \\\n",
       "3614  1994-11-01  Exports    New Brunswick     Massachusetts      50.00   \n",
       "6440  1998-02-01  Imports  New England-ISO            Québec     401.00   \n",
       "10164 2001-09-01  Exports           Québec          New York -27,885.00   \n",
       "10239 2001-10-01  Exports           Québec          New York  89,861.00   \n",
       "10271 2001-10-01  Imports         New York           Ontario      34.00   \n",
       "...          ...      ...              ...               ...        ...   \n",
       "36142 2020-11-01  Imports         Nebraska  British Columbia   6,135.00   \n",
       "36251 2020-12-01  Imports         Nebraska  British Columbia   1,015.00   \n",
       "36490 2021-02-01  Imports         Nebraska  British Columbia   2,108.00   \n",
       "36598 2021-03-01  Imports         Nebraska  British Columbia  11,005.00   \n",
       "36603 2021-03-01  Imports     North Dakota      Saskatchewan   3,604.00   \n",
       "\n",
       "         Total_Value     Price  \n",
       "3614      -36,709.00   -734.18  \n",
       "6440      -26,320.80    -65.64  \n",
       "10164  10,182,372.85    -95.12  \n",
       "10239 -12,452,609.22   -223.09  \n",
       "10271     -75,489.74 -2,220.29  \n",
       "...              ...       ...  \n",
       "36142     -62,905.63    -10.25  \n",
       "36251      -5,015.74     -4.94  \n",
       "36490     -35,155.24    -16.68  \n",
       "36598     -17,042.68     -1.55  \n",
       "36603     -17,763.33     -4.93  \n",
       "\n",
       "[153 rows x 7 columns]"
      ]
     },
     "execution_count": 204,
     "metadata": {},
     "output_type": "execute_result"
    }
   ],
   "source": [
    "df[df['Price'] < 0]"
   ]
  },
  {
   "cell_type": "code",
   "execution_count": 207,
   "metadata": {},
   "outputs": [
    {
     "data": {
      "image/png": "[encoded data removed]",
      "text/plain": [
       "<Figure size 720x432 with 1 Axes>"
      ]
     },
     "metadata": {
      "needs_background": "light"
     },
     "output_type": "display_data"
    }
   ],
   "source": [
    "f, ax = plt.subplots(figsize = (10,6))\n",
    "ax = sns.histplot(df['Total_Value'], kde=True, bins=10)\n",
    "ax.set_title('Total_Value')\n",
    "plt.grid(True)"
   ]
  },
  {
   "cell_type": "code",
   "execution_count": 205,
   "metadata": {},
   "outputs": [
    {
     "data": {
      "text/plain": [
       "9848    455,483,705.40\n",
       "9629    350,692,876.73\n",
       "9777    329,827,543.69\n",
       "9769    289,056,642.05\n",
       "9696    285,634,746.94\n",
       "             ...      \n",
       "26119    -1,815,686.13\n",
       "10419    -1,889,542.24\n",
       "4144     -4,246,341.36\n",
       "10310    -4,397,565.31\n",
       "10239   -12,452,609.22\n",
       "Name: Total_Value, Length: 17569, dtype: float64"
      ]
     },
     "execution_count": 205,
     "metadata": {},
     "output_type": "execute_result"
    }
   ],
   "source": [
    "df.Total_Value.sort_values(ascending=False)"
   ]
  },
  {
   "cell_type": "code",
   "execution_count": 208,
   "metadata": {},
   "outputs": [
    {
     "data": {
      "image/png": "[encoded data removed]",
      "text/plain": [
       "<Figure size 720x432 with 1 Axes>"
      ]
     },
     "metadata": {
      "needs_background": "light"
     },
     "output_type": "display_data"
    }
   ],
   "source": [
    "f, ax = plt.subplots(figsize = (10,6))\n",
    "ax = sns.histplot(df['Energy'], kde=True, bins=10)\n",
    "ax.set_title('Energy')\n",
    "plt.grid(True)"
   ]
  },
  {
   "cell_type": "code",
   "execution_count": 206,
   "metadata": {},
   "outputs": [
    {
     "data": {
      "text/plain": [
       "18850   2,022,303.00\n",
       "10889   1,717,663.00\n",
       "10962   1,538,251.00\n",
       "10607   1,440,156.00\n",
       "9528    1,400,401.00\n",
       "            ...     \n",
       "25829           0.00\n",
       "29512           0.00\n",
       "5257           -9.00\n",
       "10163         -83.00\n",
       "10164     -27,885.00\n",
       "Name: Energy, Length: 17569, dtype: float64"
      ]
     },
     "execution_count": 206,
     "metadata": {},
     "output_type": "execute_result"
    }
   ],
   "source": [
    "df.Energy.sort_values(ascending=False)"
   ]
  },
  {
   "cell_type": "markdown",
   "metadata": {},
   "source": [
    "#### Finding locations"
   ]
  },
  {
   "cell_type": "code",
   "execution_count": 212,
   "metadata": {},
   "outputs": [],
   "source": [
    "a = list(df['Source'].unique())"
   ]
  },
  {
   "cell_type": "code",
   "execution_count": 213,
   "metadata": {},
   "outputs": [
    {
     "name": "stdout",
     "output_type": "stream",
     "text": [
      "['British Columbia', 'Manitoba', 'New Brunswick', 'Ontario', 'Québec', 'Maine', 'Michigan', 'Minnesota', 'Montana', 'New England-ISO', 'New York', 'North Dakota', 'Vermont', 'Washington', 'Saskatchewan', 'Pennsylvania', 'Alberta', 'Idaho', 'Nebraska', 'South Dakota', 'Texas', 'Oregon', 'Wisconsin', 'Iowa', 'Missouri', 'Kansas', 'California', 'Minn / N. Dakota', 'Massachusetts', 'Nova Scotia', 'Illinois', 'Ohio', 'Indiana', 'New Jersey', 'Arizona', 'Nevada', 'New Mexico', 'Wyoming', 'Oklahoma', 'Colorado', 'Kentucky', 'Utah', 'Connecticut', 'Pennsylvania Jersey Maryland Power Pool', 'Newfoundland and Labrador', 'West Virginia']\n"
     ]
    }
   ],
   "source": [
    "print(a)"
   ]
  },
  {
   "cell_type": "code",
   "execution_count": 214,
   "metadata": {},
   "outputs": [],
   "source": [
    "a.remove('Pennsylvania Jersey Maryland Power Pool')"
   ]
  },
  {
   "cell_type": "code",
   "execution_count": 215,
   "metadata": {},
   "outputs": [],
   "source": [
    "from geopy.geocoders import Nominatim\n",
    "latitude = []\n",
    "longitude = []\n",
    "for x in a:\n",
    "    address= x\n",
    "    geolocator = Nominatim(user_agent=\"Your_Name\")\n",
    "    location = geolocator.geocode(address)\n",
    "    latitude.append(location.latitude)\n",
    "    longitude.append(location.longitude)\n",
    "    "
   ]
  },
  {
   "cell_type": "code",
   "execution_count": 216,
   "metadata": {},
   "outputs": [
    {
     "name": "stdout",
     "output_type": "stream",
     "text": [
      "[55.001251, 55.001251, 46.500283, 50.000678, 52.4760892, 45.709097, 43.6211955, 45.9896587, 47.3752671, 42.18590185, 40.7127281, 47.6201461, 44.5990718, 38.8949924, 55.5321257, 40.9699889, 55.001251, 43.6447642, 41.7370229, 44.6471761, 31.8160381, 43.9792797, 44.4308975, 41.9216734, 38.7604815, 38.27312, 36.7014631, 44.666655, 42.3788774, 45.1960403, 40.0796606, 40.2253569, 40.3270127, 40.0757384, 34.395342, 39.5158825, 34.5708167, 43.1700264, 34.9550817, 38.7251776, 37.5726028, 39.4225192, 41.6500201, 53.8217327, 38.4758406]\n"
     ]
    }
   ],
   "source": [
    "print(latitude)"
   ]
  },
  {
   "cell_type": "code",
   "execution_count": 217,
   "metadata": {},
   "outputs": [],
   "source": [
    "b = list(df['Destination'].unique())"
   ]
  },
  {
   "cell_type": "code",
   "execution_count": 218,
   "metadata": {},
   "outputs": [
    {
     "name": "stdout",
     "output_type": "stream",
     "text": [
      "['Alaska', 'California', 'Oregon', 'Washington', 'Minnesota', 'North Dakota', 'Maine', 'Massachusetts', 'Michigan', 'New York', 'Vermont', 'New Brunswick', 'Ontario', 'Manitoba', 'British Columbia', 'Québec', 'Saskatchewan', 'Alberta', 'Idaho', 'Nevada', 'Montana', 'New Hampshire', 'New England-ISO', 'Pennsylvania', 'Arizona', 'Missouri', 'Wisconsin', 'South Dakota', 'Texas', 'Nebraska', 'Iowa', 'Colorado', 'Kansas', 'Utah', 'Minn / N. Dakota', 'New Mexico', 'Maryland', 'Nova Scotia', 'Virginia', 'Wyoming', 'Ohio', 'Tennessee', 'Illinois', 'Indiana', 'Connecticut', 'Pennsylvania Jersey Maryland Power Pool', 'Mississippi', 'New Jersey', 'Newfoundland and Labrador', 'Oklahoma', 'Florida']\n"
     ]
    }
   ],
   "source": [
    "print(b)"
   ]
  },
  {
   "cell_type": "code",
   "execution_count": 219,
   "metadata": {},
   "outputs": [],
   "source": [
    "b.remove('Pennsylvania Jersey Maryland Power Pool')"
   ]
  },
  {
   "cell_type": "code",
   "execution_count": null,
   "metadata": {},
   "outputs": [],
   "source": []
  },
  {
   "cell_type": "code",
   "execution_count": 220,
   "metadata": {},
   "outputs": [
    {
     "name": "stdout",
     "output_type": "stream",
     "text": [
      "('Alaska', (64.4459613, -149.680909))\n",
      "('California', (36.7014631, -118.755997))\n",
      "('Oregon', (43.9792797, -120.737257))\n",
      "('Washington', (38.8949924, -77.0365581))\n",
      "('Minnesota', (45.9896587, -94.6113288))\n",
      "('North Dakota', (47.6201461, -100.540737))\n",
      "('Maine', (45.709097, -68.8590201))\n",
      "('Massachusetts', (42.3788774, -72.032366))\n",
      "('Michigan', (43.6211955, -84.6824346))\n",
      "('New York', (40.7127281, -74.0060152))\n",
      "('Vermont', (44.5990718, -72.5002608))\n",
      "('New Brunswick', (46.500283, -66.750183))\n",
      "('Ontario', (50.000678, -86.000977))\n",
      "('Manitoba', (55.001251, -97.001038))\n",
      "('British Columbia', (55.001251, -125.002441))\n",
      "('Québec', (52.4760892, -71.8258668))\n",
      "('Saskatchewan', (55.5321257, -106.1412243))\n",
      "('Alberta', (55.001251, -115.002136))\n",
      "('Idaho', (43.6447642, -114.015407))\n",
      "('Nevada', (39.5158825, -116.8537227))\n",
      "('Montana', (47.3752671, -109.638757))\n",
      "('New Hampshire', (43.4849133, -71.6553992))\n",
      "('New England-ISO', (42.18590185, -72.63837929597904))\n",
      "('Pennsylvania', (40.9699889, -77.7278831))\n",
      "('Arizona', (34.395342, -111.763275))\n",
      "('Missouri', (38.7604815, -92.5617875))\n",
      "('Wisconsin', (44.4308975, -89.6884637))\n",
      "('South Dakota', (44.6471761, -100.348761))\n",
      "('Texas', (31.8160381, -99.5120986))\n",
      "('Nebraska', (41.7370229, -99.5873816))\n",
      "('Iowa', (41.9216734, -93.3122705))\n",
      "('Colorado', (38.7251776, -105.607716))\n",
      "('Kansas', (38.27312, -98.5821872))\n",
      "('Utah', (39.4225192, -111.714358))\n",
      "('Minn / N. Dakota', (44.666655, -93.044911))\n",
      "('New Mexico', (34.5708167, -105.993007))\n",
      "('Maryland', (39.5162234, -76.9382069))\n",
      "('Nova Scotia', (45.1960403, -63.1653789))\n",
      "('Virginia', (37.1232245, -78.4927721))\n",
      "('Wyoming', (43.1700264, -107.568534))\n",
      "('Ohio', (40.2253569, -82.6881395))\n",
      "('Tennessee', (35.7730076, -86.2820081))\n",
      "('Illinois', (40.0796606, -89.4337288))\n",
      "('Indiana', (40.3270127, -86.1746933))\n",
      "('Connecticut', (41.6500201, -72.7342163))\n",
      "('Mississippi', (32.9715285, -89.7348497))\n",
      "('New Jersey', (40.0757384, -74.4041622))\n",
      "('Newfoundland and Labrador', (53.8217327, -61.2295532))\n",
      "('Oklahoma', (34.9550817, -97.2684063))\n",
      "('Florida', (27.7567667, -81.4639835))\n"
     ]
    }
   ],
   "source": [
    "for x in b:\n",
    "    address= x\n",
    "    geolocator = Nominatim(user_agent=\"Your_Name\")\n",
    "    location = geolocator.geocode(address)\n",
    "    print ((x,(location.latitude, location.longitude)))"
   ]
  },
  {
   "cell_type": "markdown",
   "metadata": {},
   "source": [
    "### Lets do more visualizations"
   ]
  },
  {
   "cell_type": "code",
   "execution_count": 221,
   "metadata": {},
   "outputs": [
    {
     "data": {
      "image/png": "[encoded data removed]",
      "text/plain": [
       "<Figure size 1800x1080 with 4 Axes>"
      ]
     },
     "metadata": {
      "needs_background": "light"
     },
     "output_type": "display_data"
    }
   ],
   "source": [
    "df.hist(figsize=(25, 15))\n",
    "plt.subplots_adjust(hspace=1)"
   ]
  },
  {
   "cell_type": "code",
   "execution_count": 256,
   "metadata": {},
   "outputs": [
    {
     "data": {
      "text/html": [
       "<div>\n",
       "<style scoped>\n",
       "    .dataframe tbody tr th:only-of-type {\n",
       "        vertical-align: middle;\n",
       "    }\n",
       "\n",
       "    .dataframe tbody tr th {\n",
       "        vertical-align: top;\n",
       "    }\n",
       "\n",
       "    .dataframe thead th {\n",
       "        text-align: right;\n",
       "    }\n",
       "</style>\n",
       "<table border=\"1\" class=\"dataframe\">\n",
       "  <thead>\n",
       "    <tr style=\"text-align: right;\">\n",
       "      <th></th>\n",
       "      <th>Total_Value</th>\n",
       "    </tr>\n",
       "    <tr>\n",
       "      <th>Period</th>\n",
       "      <th></th>\n",
       "    </tr>\n",
       "  </thead>\n",
       "  <tbody>\n",
       "    <tr>\n",
       "      <th>1990</th>\n",
       "      <td>1,135,286,632.69</td>\n",
       "    </tr>\n",
       "    <tr>\n",
       "      <th>1991</th>\n",
       "      <td>634,269,884.98</td>\n",
       "    </tr>\n",
       "    <tr>\n",
       "      <th>1992</th>\n",
       "      <td>775,109,459.25</td>\n",
       "    </tr>\n",
       "    <tr>\n",
       "      <th>1993</th>\n",
       "      <td>942,505,248.94</td>\n",
       "    </tr>\n",
       "    <tr>\n",
       "      <th>1994</th>\n",
       "      <td>1,372,486,697.45</td>\n",
       "    </tr>\n",
       "    <tr>\n",
       "      <th>1995</th>\n",
       "      <td>1,262,512,498.06</td>\n",
       "    </tr>\n",
       "    <tr>\n",
       "      <th>1996</th>\n",
       "      <td>1,326,285,752.30</td>\n",
       "    </tr>\n",
       "    <tr>\n",
       "      <th>1997</th>\n",
       "      <td>1,588,743,663.34</td>\n",
       "    </tr>\n",
       "    <tr>\n",
       "      <th>1998</th>\n",
       "      <td>1,919,046,054.72</td>\n",
       "    </tr>\n",
       "    <tr>\n",
       "      <th>1999</th>\n",
       "      <td>2,310,994,971.52</td>\n",
       "    </tr>\n",
       "    <tr>\n",
       "      <th>2000</th>\n",
       "      <td>4,711,237,669.24</td>\n",
       "    </tr>\n",
       "    <tr>\n",
       "      <th>2001</th>\n",
       "      <td>6,071,147,139.90</td>\n",
       "    </tr>\n",
       "    <tr>\n",
       "      <th>2002</th>\n",
       "      <td>2,496,870,810.24</td>\n",
       "    </tr>\n",
       "    <tr>\n",
       "      <th>2003</th>\n",
       "      <td>3,033,796,046.31</td>\n",
       "    </tr>\n",
       "    <tr>\n",
       "      <th>2004</th>\n",
       "      <td>3,093,336,276.96</td>\n",
       "    </tr>\n",
       "    <tr>\n",
       "      <th>2005</th>\n",
       "      <td>4,337,231,439.17</td>\n",
       "    </tr>\n",
       "    <tr>\n",
       "      <th>2006</th>\n",
       "      <td>3,492,880,131.35</td>\n",
       "    </tr>\n",
       "    <tr>\n",
       "      <th>2007</th>\n",
       "      <td>4,087,184,842.94</td>\n",
       "    </tr>\n",
       "    <tr>\n",
       "      <th>2008</th>\n",
       "      <td>5,085,004,111.67</td>\n",
       "    </tr>\n",
       "    <tr>\n",
       "      <th>2009</th>\n",
       "      <td>3,007,853,309.74</td>\n",
       "    </tr>\n",
       "    <tr>\n",
       "      <th>2010</th>\n",
       "      <td>2,673,835,922.11</td>\n",
       "    </tr>\n",
       "    <tr>\n",
       "      <th>2011</th>\n",
       "      <td>2,403,579,763.47</td>\n",
       "    </tr>\n",
       "    <tr>\n",
       "      <th>2012</th>\n",
       "      <td>2,135,898,853.72</td>\n",
       "    </tr>\n",
       "    <tr>\n",
       "      <th>2013</th>\n",
       "      <td>2,823,504,427.74</td>\n",
       "    </tr>\n",
       "    <tr>\n",
       "      <th>2014</th>\n",
       "      <td>3,500,836,978.49</td>\n",
       "    </tr>\n",
       "    <tr>\n",
       "      <th>2015</th>\n",
       "      <td>3,419,276,203.88</td>\n",
       "    </tr>\n",
       "    <tr>\n",
       "      <th>2016</th>\n",
       "      <td>3,155,224,192.98</td>\n",
       "    </tr>\n",
       "    <tr>\n",
       "      <th>2017</th>\n",
       "      <td>3,167,623,310.07</td>\n",
       "    </tr>\n",
       "    <tr>\n",
       "      <th>2018</th>\n",
       "      <td>3,423,712,576.77</td>\n",
       "    </tr>\n",
       "    <tr>\n",
       "      <th>2019</th>\n",
       "      <td>3,108,354,204.90</td>\n",
       "    </tr>\n",
       "    <tr>\n",
       "      <th>2020</th>\n",
       "      <td>2,869,251,284.89</td>\n",
       "    </tr>\n",
       "    <tr>\n",
       "      <th>2021</th>\n",
       "      <td>892,378,068.10</td>\n",
       "    </tr>\n",
       "  </tbody>\n",
       "</table>\n",
       "</div>"
      ],
      "text/plain": [
       "            Total_Value\n",
       "Period                 \n",
       "1990   1,135,286,632.69\n",
       "1991     634,269,884.98\n",
       "1992     775,109,459.25\n",
       "1993     942,505,248.94\n",
       "1994   1,372,486,697.45\n",
       "1995   1,262,512,498.06\n",
       "1996   1,326,285,752.30\n",
       "1997   1,588,743,663.34\n",
       "1998   1,919,046,054.72\n",
       "1999   2,310,994,971.52\n",
       "2000   4,711,237,669.24\n",
       "2001   6,071,147,139.90\n",
       "2002   2,496,870,810.24\n",
       "2003   3,033,796,046.31\n",
       "2004   3,093,336,276.96\n",
       "2005   4,337,231,439.17\n",
       "2006   3,492,880,131.35\n",
       "2007   4,087,184,842.94\n",
       "2008   5,085,004,111.67\n",
       "2009   3,007,853,309.74\n",
       "2010   2,673,835,922.11\n",
       "2011   2,403,579,763.47\n",
       "2012   2,135,898,853.72\n",
       "2013   2,823,504,427.74\n",
       "2014   3,500,836,978.49\n",
       "2015   3,419,276,203.88\n",
       "2016   3,155,224,192.98\n",
       "2017   3,167,623,310.07\n",
       "2018   3,423,712,576.77\n",
       "2019   3,108,354,204.90\n",
       "2020   2,869,251,284.89\n",
       "2021     892,378,068.10"
      ]
     },
     "execution_count": 256,
     "metadata": {},
     "output_type": "execute_result"
    }
   ],
   "source": [
    "# Total value of electricity by years\n",
    "df[['Period', 'Total_Value']].groupby(df['Period'].dt.year).sum()"
   ]
  },
  {
   "cell_type": "code",
   "execution_count": 229,
   "metadata": {},
   "outputs": [
    {
     "data": {
      "text/plain": [
       "<AxesSubplot:xlabel='Period'>"
      ]
     },
     "execution_count": 229,
     "metadata": {},
     "output_type": "execute_result"
    },
    {
     "data": {
      "image/png": "[encoded data removed]",
      "text/plain": [
       "<Figure size 432x288 with 1 Axes>"
      ]
     },
     "metadata": {
      "needs_background": "light"
     },
     "output_type": "display_data"
    }
   ],
   "source": [
    "df[['Period', 'Total_Value']].groupby(df['Period'].dt.year).sum().plot()"
   ]
  },
  {
   "cell_type": "code",
   "execution_count": 240,
   "metadata": {},
   "outputs": [
    {
     "data": {
      "text/html": [
       "<div>\n",
       "<style scoped>\n",
       "    .dataframe tbody tr th:only-of-type {\n",
       "        vertical-align: middle;\n",
       "    }\n",
       "\n",
       "    .dataframe tbody tr th {\n",
       "        vertical-align: top;\n",
       "    }\n",
       "\n",
       "    .dataframe thead th {\n",
       "        text-align: right;\n",
       "    }\n",
       "</style>\n",
       "<table border=\"1\" class=\"dataframe\">\n",
       "  <thead>\n",
       "    <tr style=\"text-align: right;\">\n",
       "      <th></th>\n",
       "      <th></th>\n",
       "      <th>Total_Value</th>\n",
       "    </tr>\n",
       "    <tr>\n",
       "      <th>Period</th>\n",
       "      <th>Activity</th>\n",
       "      <th></th>\n",
       "    </tr>\n",
       "  </thead>\n",
       "  <tbody>\n",
       "    <tr>\n",
       "      <th rowspan=\"2\" valign=\"top\">1990</th>\n",
       "      <th>Exports</th>\n",
       "      <td>579,385,661.89</td>\n",
       "    </tr>\n",
       "    <tr>\n",
       "      <th>Imports</th>\n",
       "      <td>555,900,970.80</td>\n",
       "    </tr>\n",
       "    <tr>\n",
       "      <th rowspan=\"2\" valign=\"top\">1991</th>\n",
       "      <th>Exports</th>\n",
       "      <td>559,123,646.10</td>\n",
       "    </tr>\n",
       "    <tr>\n",
       "      <th>Imports</th>\n",
       "      <td>75,146,238.88</td>\n",
       "    </tr>\n",
       "    <tr>\n",
       "      <th>1992</th>\n",
       "      <th>Exports</th>\n",
       "      <td>697,908,632.63</td>\n",
       "    </tr>\n",
       "    <tr>\n",
       "      <th>...</th>\n",
       "      <th>...</th>\n",
       "      <td>...</td>\n",
       "    </tr>\n",
       "    <tr>\n",
       "      <th>2019</th>\n",
       "      <th>Imports</th>\n",
       "      <td>591,510,338.10</td>\n",
       "    </tr>\n",
       "    <tr>\n",
       "      <th rowspan=\"2\" valign=\"top\">2020</th>\n",
       "      <th>Exports</th>\n",
       "      <td>2,575,793,297.61</td>\n",
       "    </tr>\n",
       "    <tr>\n",
       "      <th>Imports</th>\n",
       "      <td>293,457,987.28</td>\n",
       "    </tr>\n",
       "    <tr>\n",
       "      <th rowspan=\"2\" valign=\"top\">2021</th>\n",
       "      <th>Exports</th>\n",
       "      <td>749,636,391.92</td>\n",
       "    </tr>\n",
       "    <tr>\n",
       "      <th>Imports</th>\n",
       "      <td>142,741,676.18</td>\n",
       "    </tr>\n",
       "  </tbody>\n",
       "</table>\n",
       "<p>64 rows × 1 columns</p>\n",
       "</div>"
      ],
      "text/plain": [
       "                     Total_Value\n",
       "Period Activity                 \n",
       "1990   Exports    579,385,661.89\n",
       "       Imports    555,900,970.80\n",
       "1991   Exports    559,123,646.10\n",
       "       Imports     75,146,238.88\n",
       "1992   Exports    697,908,632.63\n",
       "...                          ...\n",
       "2019   Imports    591,510,338.10\n",
       "2020   Exports  2,575,793,297.61\n",
       "       Imports    293,457,987.28\n",
       "2021   Exports    749,636,391.92\n",
       "       Imports    142,741,676.18\n",
       "\n",
       "[64 rows x 1 columns]"
      ]
     },
     "execution_count": 240,
     "metadata": {},
     "output_type": "execute_result"
    }
   ],
   "source": [
    "# lets see separate values for import and export by year\n",
    "df[['Period', 'Total_Value', 'Activity']].groupby([df['Period'].dt.year,'Activity']).sum()"
   ]
  },
  {
   "cell_type": "code",
   "execution_count": 246,
   "metadata": {},
   "outputs": [],
   "source": [
    "di = df[df['Activity']=='Imports']\n",
    "de = df[df['Activity']=='Exports']"
   ]
  },
  {
   "cell_type": "code",
   "execution_count": 248,
   "metadata": {},
   "outputs": [
    {
     "data": {
      "text/html": [
       "<div>\n",
       "<style scoped>\n",
       "    .dataframe tbody tr th:only-of-type {\n",
       "        vertical-align: middle;\n",
       "    }\n",
       "\n",
       "    .dataframe tbody tr th {\n",
       "        vertical-align: top;\n",
       "    }\n",
       "\n",
       "    .dataframe thead th {\n",
       "        text-align: right;\n",
       "    }\n",
       "</style>\n",
       "<table border=\"1\" class=\"dataframe\">\n",
       "  <thead>\n",
       "    <tr style=\"text-align: right;\">\n",
       "      <th></th>\n",
       "      <th>Total_Value</th>\n",
       "    </tr>\n",
       "    <tr>\n",
       "      <th>Period</th>\n",
       "      <th></th>\n",
       "    </tr>\n",
       "  </thead>\n",
       "  <tbody>\n",
       "    <tr>\n",
       "      <th>1990</th>\n",
       "      <td>555,900,970.80</td>\n",
       "    </tr>\n",
       "    <tr>\n",
       "      <th>1991</th>\n",
       "      <td>75,146,238.88</td>\n",
       "    </tr>\n",
       "    <tr>\n",
       "      <th>1992</th>\n",
       "      <td>77,200,826.62</td>\n",
       "    </tr>\n",
       "    <tr>\n",
       "      <th>1993</th>\n",
       "      <td>84,778,477.38</td>\n",
       "    </tr>\n",
       "    <tr>\n",
       "      <th>1994</th>\n",
       "      <td>43,863,619.78</td>\n",
       "    </tr>\n",
       "    <tr>\n",
       "      <th>1995</th>\n",
       "      <td>77,764,117.65</td>\n",
       "    </tr>\n",
       "    <tr>\n",
       "      <th>1996</th>\n",
       "      <td>108,116,524.35</td>\n",
       "    </tr>\n",
       "    <tr>\n",
       "      <th>1997</th>\n",
       "      <td>212,457,572.31</td>\n",
       "    </tr>\n",
       "    <tr>\n",
       "      <th>1998</th>\n",
       "      <td>313,192,559.35</td>\n",
       "    </tr>\n",
       "    <tr>\n",
       "      <th>1999</th>\n",
       "      <td>387,633,082.99</td>\n",
       "    </tr>\n",
       "    <tr>\n",
       "      <th>2000</th>\n",
       "      <td>644,093,562.14</td>\n",
       "    </tr>\n",
       "    <tr>\n",
       "      <th>2001</th>\n",
       "      <td>1,807,940,101.51</td>\n",
       "    </tr>\n",
       "    <tr>\n",
       "      <th>2002</th>\n",
       "      <td>646,025,338.84</td>\n",
       "    </tr>\n",
       "    <tr>\n",
       "      <th>2003</th>\n",
       "      <td>1,130,541,841.57</td>\n",
       "    </tr>\n",
       "    <tr>\n",
       "      <th>2004</th>\n",
       "      <td>1,080,216,533.95</td>\n",
       "    </tr>\n",
       "    <tr>\n",
       "      <th>2005</th>\n",
       "      <td>1,229,814,793.45</td>\n",
       "    </tr>\n",
       "    <tr>\n",
       "      <th>2006</th>\n",
       "      <td>1,096,568,767.83</td>\n",
       "    </tr>\n",
       "    <tr>\n",
       "      <th>2007</th>\n",
       "      <td>991,096,759.92</td>\n",
       "    </tr>\n",
       "    <tr>\n",
       "      <th>2008</th>\n",
       "      <td>1,313,033,661.52</td>\n",
       "    </tr>\n",
       "    <tr>\n",
       "      <th>2009</th>\n",
       "      <td>653,997,942.06</td>\n",
       "    </tr>\n",
       "    <tr>\n",
       "      <th>2010</th>\n",
       "      <td>654,000,988.07</td>\n",
       "    </tr>\n",
       "    <tr>\n",
       "      <th>2011</th>\n",
       "      <td>370,675,730.95</td>\n",
       "    </tr>\n",
       "    <tr>\n",
       "      <th>2012</th>\n",
       "      <td>219,680,565.82</td>\n",
       "    </tr>\n",
       "    <tr>\n",
       "      <th>2013</th>\n",
       "      <td>368,882,973.10</td>\n",
       "    </tr>\n",
       "    <tr>\n",
       "      <th>2014</th>\n",
       "      <td>591,061,746.82</td>\n",
       "    </tr>\n",
       "    <tr>\n",
       "      <th>2015</th>\n",
       "      <td>304,767,680.02</td>\n",
       "    </tr>\n",
       "    <tr>\n",
       "      <th>2016</th>\n",
       "      <td>250,785,755.87</td>\n",
       "    </tr>\n",
       "    <tr>\n",
       "      <th>2017</th>\n",
       "      <td>239,741,122.23</td>\n",
       "    </tr>\n",
       "    <tr>\n",
       "      <th>2018</th>\n",
       "      <td>509,773,311.29</td>\n",
       "    </tr>\n",
       "    <tr>\n",
       "      <th>2019</th>\n",
       "      <td>591,510,338.10</td>\n",
       "    </tr>\n",
       "    <tr>\n",
       "      <th>2020</th>\n",
       "      <td>293,457,987.28</td>\n",
       "    </tr>\n",
       "    <tr>\n",
       "      <th>2021</th>\n",
       "      <td>142,741,676.18</td>\n",
       "    </tr>\n",
       "  </tbody>\n",
       "</table>\n",
       "</div>"
      ],
      "text/plain": [
       "            Total_Value\n",
       "Period                 \n",
       "1990     555,900,970.80\n",
       "1991      75,146,238.88\n",
       "1992      77,200,826.62\n",
       "1993      84,778,477.38\n",
       "1994      43,863,619.78\n",
       "1995      77,764,117.65\n",
       "1996     108,116,524.35\n",
       "1997     212,457,572.31\n",
       "1998     313,192,559.35\n",
       "1999     387,633,082.99\n",
       "2000     644,093,562.14\n",
       "2001   1,807,940,101.51\n",
       "2002     646,025,338.84\n",
       "2003   1,130,541,841.57\n",
       "2004   1,080,216,533.95\n",
       "2005   1,229,814,793.45\n",
       "2006   1,096,568,767.83\n",
       "2007     991,096,759.92\n",
       "2008   1,313,033,661.52\n",
       "2009     653,997,942.06\n",
       "2010     654,000,988.07\n",
       "2011     370,675,730.95\n",
       "2012     219,680,565.82\n",
       "2013     368,882,973.10\n",
       "2014     591,061,746.82\n",
       "2015     304,767,680.02\n",
       "2016     250,785,755.87\n",
       "2017     239,741,122.23\n",
       "2018     509,773,311.29\n",
       "2019     591,510,338.10\n",
       "2020     293,457,987.28\n",
       "2021     142,741,676.18"
      ]
     },
     "execution_count": 248,
     "metadata": {},
     "output_type": "execute_result"
    }
   ],
   "source": [
    "di[['Period', 'Total_Value', 'Activity']].groupby(df['Period'].dt.year).sum()\n"
   ]
  },
  {
   "cell_type": "code",
   "execution_count": 254,
   "metadata": {},
   "outputs": [
    {
     "data": {
      "text/html": [
       "<div>\n",
       "<style scoped>\n",
       "    .dataframe tbody tr th:only-of-type {\n",
       "        vertical-align: middle;\n",
       "    }\n",
       "\n",
       "    .dataframe tbody tr th {\n",
       "        vertical-align: top;\n",
       "    }\n",
       "\n",
       "    .dataframe thead th {\n",
       "        text-align: right;\n",
       "    }\n",
       "</style>\n",
       "<table border=\"1\" class=\"dataframe\">\n",
       "  <thead>\n",
       "    <tr style=\"text-align: right;\">\n",
       "      <th></th>\n",
       "      <th>Total_Value</th>\n",
       "    </tr>\n",
       "    <tr>\n",
       "      <th>Period</th>\n",
       "      <th></th>\n",
       "    </tr>\n",
       "  </thead>\n",
       "  <tbody>\n",
       "    <tr>\n",
       "      <th>1990</th>\n",
       "      <td>579,385,661.89</td>\n",
       "    </tr>\n",
       "    <tr>\n",
       "      <th>1991</th>\n",
       "      <td>559,123,646.10</td>\n",
       "    </tr>\n",
       "    <tr>\n",
       "      <th>1992</th>\n",
       "      <td>697,908,632.63</td>\n",
       "    </tr>\n",
       "    <tr>\n",
       "      <th>1993</th>\n",
       "      <td>857,726,771.56</td>\n",
       "    </tr>\n",
       "    <tr>\n",
       "      <th>1994</th>\n",
       "      <td>1,328,623,077.67</td>\n",
       "    </tr>\n",
       "    <tr>\n",
       "      <th>1995</th>\n",
       "      <td>1,184,748,380.41</td>\n",
       "    </tr>\n",
       "    <tr>\n",
       "      <th>1996</th>\n",
       "      <td>1,218,169,227.95</td>\n",
       "    </tr>\n",
       "    <tr>\n",
       "      <th>1997</th>\n",
       "      <td>1,376,286,091.03</td>\n",
       "    </tr>\n",
       "    <tr>\n",
       "      <th>1998</th>\n",
       "      <td>1,605,853,495.37</td>\n",
       "    </tr>\n",
       "    <tr>\n",
       "      <th>1999</th>\n",
       "      <td>1,923,361,888.53</td>\n",
       "    </tr>\n",
       "    <tr>\n",
       "      <th>2000</th>\n",
       "      <td>4,067,144,107.10</td>\n",
       "    </tr>\n",
       "    <tr>\n",
       "      <th>2001</th>\n",
       "      <td>4,263,207,038.39</td>\n",
       "    </tr>\n",
       "    <tr>\n",
       "      <th>2002</th>\n",
       "      <td>1,850,845,471.40</td>\n",
       "    </tr>\n",
       "    <tr>\n",
       "      <th>2003</th>\n",
       "      <td>1,903,254,204.74</td>\n",
       "    </tr>\n",
       "    <tr>\n",
       "      <th>2004</th>\n",
       "      <td>2,013,119,743.01</td>\n",
       "    </tr>\n",
       "    <tr>\n",
       "      <th>2005</th>\n",
       "      <td>3,107,416,645.72</td>\n",
       "    </tr>\n",
       "    <tr>\n",
       "      <th>2006</th>\n",
       "      <td>2,396,311,363.52</td>\n",
       "    </tr>\n",
       "    <tr>\n",
       "      <th>2007</th>\n",
       "      <td>3,096,088,083.02</td>\n",
       "    </tr>\n",
       "    <tr>\n",
       "      <th>2008</th>\n",
       "      <td>3,771,970,450.15</td>\n",
       "    </tr>\n",
       "    <tr>\n",
       "      <th>2009</th>\n",
       "      <td>2,353,855,367.68</td>\n",
       "    </tr>\n",
       "    <tr>\n",
       "      <th>2010</th>\n",
       "      <td>2,019,834,934.04</td>\n",
       "    </tr>\n",
       "    <tr>\n",
       "      <th>2011</th>\n",
       "      <td>2,032,904,032.52</td>\n",
       "    </tr>\n",
       "    <tr>\n",
       "      <th>2012</th>\n",
       "      <td>1,916,218,287.90</td>\n",
       "    </tr>\n",
       "    <tr>\n",
       "      <th>2013</th>\n",
       "      <td>2,454,621,454.64</td>\n",
       "    </tr>\n",
       "    <tr>\n",
       "      <th>2014</th>\n",
       "      <td>2,909,775,231.67</td>\n",
       "    </tr>\n",
       "    <tr>\n",
       "      <th>2015</th>\n",
       "      <td>3,114,508,523.86</td>\n",
       "    </tr>\n",
       "    <tr>\n",
       "      <th>2016</th>\n",
       "      <td>2,904,438,437.12</td>\n",
       "    </tr>\n",
       "    <tr>\n",
       "      <th>2017</th>\n",
       "      <td>2,927,882,187.84</td>\n",
       "    </tr>\n",
       "    <tr>\n",
       "      <th>2018</th>\n",
       "      <td>2,913,939,265.48</td>\n",
       "    </tr>\n",
       "    <tr>\n",
       "      <th>2019</th>\n",
       "      <td>2,516,843,866.80</td>\n",
       "    </tr>\n",
       "    <tr>\n",
       "      <th>2020</th>\n",
       "      <td>2,575,793,297.61</td>\n",
       "    </tr>\n",
       "    <tr>\n",
       "      <th>2021</th>\n",
       "      <td>749,636,391.92</td>\n",
       "    </tr>\n",
       "  </tbody>\n",
       "</table>\n",
       "</div>"
      ],
      "text/plain": [
       "            Total_Value\n",
       "Period                 \n",
       "1990     579,385,661.89\n",
       "1991     559,123,646.10\n",
       "1992     697,908,632.63\n",
       "1993     857,726,771.56\n",
       "1994   1,328,623,077.67\n",
       "1995   1,184,748,380.41\n",
       "1996   1,218,169,227.95\n",
       "1997   1,376,286,091.03\n",
       "1998   1,605,853,495.37\n",
       "1999   1,923,361,888.53\n",
       "2000   4,067,144,107.10\n",
       "2001   4,263,207,038.39\n",
       "2002   1,850,845,471.40\n",
       "2003   1,903,254,204.74\n",
       "2004   2,013,119,743.01\n",
       "2005   3,107,416,645.72\n",
       "2006   2,396,311,363.52\n",
       "2007   3,096,088,083.02\n",
       "2008   3,771,970,450.15\n",
       "2009   2,353,855,367.68\n",
       "2010   2,019,834,934.04\n",
       "2011   2,032,904,032.52\n",
       "2012   1,916,218,287.90\n",
       "2013   2,454,621,454.64\n",
       "2014   2,909,775,231.67\n",
       "2015   3,114,508,523.86\n",
       "2016   2,904,438,437.12\n",
       "2017   2,927,882,187.84\n",
       "2018   2,913,939,265.48\n",
       "2019   2,516,843,866.80\n",
       "2020   2,575,793,297.61\n",
       "2021     749,636,391.92"
      ]
     },
     "execution_count": 254,
     "metadata": {},
     "output_type": "execute_result"
    }
   ],
   "source": [
    "de[['Period', 'Total_Value', 'Activity']].groupby(df['Period'].dt.year).sum()"
   ]
  },
  {
   "cell_type": "code",
   "execution_count": 253,
   "metadata": {},
   "outputs": [
    {
     "data": {
      "text/plain": [
       "<AxesSubplot:xlabel='Period', ylabel='Export'>"
      ]
     },
     "execution_count": 253,
     "metadata": {},
     "output_type": "execute_result"
    },
    {
     "data": {
      "image/png": "[encoded data removed]",
      "text/plain": [
       "<Figure size 432x288 with 1 Axes>"
      ]
     },
     "metadata": {
      "needs_background": "light"
     },
     "output_type": "display_data"
    },
    {
     "data": {
      "image/png": "[encoded data removed]",
      "text/plain": [
       "<Figure size 432x288 with 1 Axes>"
      ]
     },
     "metadata": {
      "needs_background": "light"
     },
     "output_type": "display_data"
    }
   ],
   "source": [
    "di[['Period', 'Total_Value', 'Activity']].groupby(df['Period'].dt.year).sum().plot(kind='bar',ylabel='Import')\n",
    "de[['Period', 'Total_Value', 'Activity']].groupby(df['Period'].dt.year).sum().plot(kind='bar', ylabel='Export')\n",
    "\n",
    "\n"
   ]
  },
  {
   "cell_type": "code",
   "execution_count": 255,
   "metadata": {},
   "outputs": [
    {
     "data": {
      "text/plain": [
       "<AxesSubplot:xlabel='Period', ylabel='Export'>"
      ]
     },
     "execution_count": 255,
     "metadata": {},
     "output_type": "execute_result"
    },
    {
     "data": {
      "image/png": "[encoded data removed]",
      "text/plain": [
       "<Figure size 432x288 with 1 Axes>"
      ]
     },
     "metadata": {
      "needs_background": "light"
     },
     "output_type": "display_data"
    },
    {
     "data": {
      "image/png": "[encoded data removed]",
      "text/plain": [
       "<Figure size 432x288 with 1 Axes>"
      ]
     },
     "metadata": {
      "needs_background": "light"
     },
     "output_type": "display_data"
    }
   ],
   "source": [
    "#average value by year\n",
    "di[['Period', 'Total_Value', 'Activity']].groupby(df['Period'].dt.year).mean().plot(kind='bar',ylabel='Import')\n",
    "de[['Period', 'Total_Value', 'Activity']].groupby(df['Period'].dt.year).mean().plot(kind='bar', ylabel='Export')\n",
    "\n"
   ]
  },
  {
   "cell_type": "code",
   "execution_count": 257,
   "metadata": {},
   "outputs": [
    {
     "data": {
      "text/plain": [
       "<AxesSubplot:xlabel='Period', ylabel='Export'>"
      ]
     },
     "execution_count": 257,
     "metadata": {},
     "output_type": "execute_result"
    },
    {
     "data": {
      "image/png": "[encoded data removed]",
      "text/plain": [
       "<Figure size 432x288 with 1 Axes>"
      ]
     },
     "metadata": {
      "needs_background": "light"
     },
     "output_type": "display_data"
    },
    {
     "data": {
      "image/png": "[encoded data removed]",
      "text/plain": [
       "<Figure size 432x288 with 1 Axes>"
      ]
     },
     "metadata": {
      "needs_background": "light"
     },
     "output_type": "display_data"
    }
   ],
   "source": [
    "#average price by yeAR\n",
    "di[['Period', 'Price', 'Activity']].groupby(df['Period'].dt.year).mean().plot(kind='line',ylabel='Import')\n",
    "de[['Period', 'Price', 'Activity']].groupby(df['Period'].dt.year).mean().plot(kind='line', ylabel='Export')"
   ]
  },
  {
   "cell_type": "code",
   "execution_count": null,
   "metadata": {},
   "outputs": [],
   "source": []
  },
  {
   "cell_type": "code",
   "execution_count": null,
   "metadata": {},
   "outputs": [],
   "source": []
  }
 ],
 "metadata": {
  "kernelspec": {
   "display_name": "Python 3",
   "language": "python",
   "name": "python3"
  },
  "language_info": {
   "codemirror_mode": {
    "name": "ipython",
    "version": 3
   },
   "file_extension": ".py",
   "mimetype": "text/x-python",
   "name": "python",
   "nbconvert_exporter": "python",
   "pygments_lexer": "ipython3",
   "version": "3.8.5"
  }
 },
 "nbformat": 4,
 "nbformat_minor": 4
}
